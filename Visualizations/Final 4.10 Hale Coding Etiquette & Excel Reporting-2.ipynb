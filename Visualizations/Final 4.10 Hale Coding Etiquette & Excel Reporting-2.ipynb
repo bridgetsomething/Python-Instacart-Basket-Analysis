{
 "cells": [
  {
   "cell_type": "markdown",
   "id": "37ac89fe",
   "metadata": {},
   "source": [
    "4.10 Coding Etiquette & Excel Reporting\n",
    "\n",
    "\n",
    "Table of Contents\n",
    "\n",
    "Importing libraries & data\n",
    "\n",
    "Addressing Personally Identifiable Information\n",
    "\n",
    "Creating a regional flag within the dataset\n",
    "\n",
    "Excluding low-activity customers\n",
    "\n",
    "Creating customer 'profile' for targeted marketing purposes\n",
    "\n",
    "Visualizing 'profile' distribution\n",
    "\n",
    "Looking for insights through the customer 'profile' groups\n",
    "\n",
    "Comparing customer profiles with regions & departments"
   ]
  },
  {
   "cell_type": "code",
   "execution_count": 1,
   "id": "aaa7e83d",
   "metadata": {},
   "outputs": [],
   "source": [
    "# Import libraries\n",
    "import pandas as pd\n",
    "import numpy as np\n",
    "import os\n",
    "import matplotlib.pyplot as plt\n",
    "import matplotlib as mpl\n",
    "import seaborn as sns\n",
    "import scipy\n"
   ]
  },
  {
   "cell_type": "code",
   "execution_count": 2,
   "id": "1e1b8c3e",
   "metadata": {},
   "outputs": [
    {
     "name": "stdout",
     "output_type": "stream",
     "text": [
      "/Users/bridget/Downloads/Instacart Basket Analysis 11-2022\n"
     ]
    }
   ],
   "source": [
    "# Creating a path for this project\n",
    "path = r'/Users/bridget/Downloads/Instacart Basket Analysis 11-2022'\n",
    "print(path)"
   ]
  },
  {
   "cell_type": "code",
   "execution_count": 3,
   "id": "8d9e24f3",
   "metadata": {},
   "outputs": [],
   "source": [
    "df_merged_all = pd.read_pickle(os.path.join(path, '02 Data', 'Prepared Data', 'df_ords_prods_custm.pkl'))"
   ]
  },
  {
   "cell_type": "code",
   "execution_count": 4,
   "id": "88a88df4",
   "metadata": {},
   "outputs": [],
   "source": [
    "df_depts = pd.read_csv(os.path.join(path, '02 Data','Prepared Data','departments_wrangled.csv'), index_col = False)"
   ]
  },
  {
   "cell_type": "code",
   "execution_count": 5,
   "id": "c04c63bc",
   "metadata": {},
   "outputs": [],
   "source": [
    "df_merged_all = df_merged_all.drop(columns = ['eval_set'])"
   ]
  },
  {
   "cell_type": "code",
   "execution_count": 6,
   "id": "fa3870f6",
   "metadata": {},
   "outputs": [
    {
     "data": {
      "text/plain": [
       "(32404859, 32)"
      ]
     },
     "execution_count": 6,
     "metadata": {},
     "output_type": "execute_result"
    }
   ],
   "source": [
    "df_merged_all.shape"
   ]
  },
  {
   "cell_type": "code",
   "execution_count": 7,
   "id": "2a26dc4d",
   "metadata": {},
   "outputs": [],
   "source": [
    "df_merged_all = df_merged_all.drop(columns = ['Unnamed: 0'])"
   ]
  },
  {
   "cell_type": "code",
   "execution_count": 8,
   "id": "f890898c",
   "metadata": {},
   "outputs": [
    {
     "data": {
      "text/html": [
       "<div>\n",
       "<style scoped>\n",
       "    .dataframe tbody tr th:only-of-type {\n",
       "        vertical-align: middle;\n",
       "    }\n",
       "\n",
       "    .dataframe tbody tr th {\n",
       "        vertical-align: top;\n",
       "    }\n",
       "\n",
       "    .dataframe thead th {\n",
       "        text-align: right;\n",
       "    }\n",
       "</style>\n",
       "<table border=\"1\" class=\"dataframe\">\n",
       "  <thead>\n",
       "    <tr style=\"text-align: right;\">\n",
       "      <th></th>\n",
       "      <th>order_id</th>\n",
       "      <th>user_id</th>\n",
       "      <th>order_number</th>\n",
       "      <th>order_dow</th>\n",
       "      <th>order_hour_of_day</th>\n",
       "      <th>days_since_prior_order</th>\n",
       "      <th>product_id</th>\n",
       "      <th>add_to_cart_order</th>\n",
       "      <th>reordered</th>\n",
       "      <th>product_name</th>\n",
       "      <th>...</th>\n",
       "      <th>order_freq_flag</th>\n",
       "      <th>First Name</th>\n",
       "      <th>Surnam</th>\n",
       "      <th>Gender</th>\n",
       "      <th>STATE</th>\n",
       "      <th>Age</th>\n",
       "      <th>date_joined</th>\n",
       "      <th>n_dependants</th>\n",
       "      <th>fam_status</th>\n",
       "      <th>income</th>\n",
       "    </tr>\n",
       "  </thead>\n",
       "  <tbody>\n",
       "    <tr>\n",
       "      <th>0</th>\n",
       "      <td>2539329</td>\n",
       "      <td>1</td>\n",
       "      <td>1</td>\n",
       "      <td>2</td>\n",
       "      <td>8</td>\n",
       "      <td>NaN</td>\n",
       "      <td>196</td>\n",
       "      <td>1</td>\n",
       "      <td>0</td>\n",
       "      <td>Soda</td>\n",
       "      <td>...</td>\n",
       "      <td>Non-frequent customer</td>\n",
       "      <td>Linda</td>\n",
       "      <td>Nguyen</td>\n",
       "      <td>Female</td>\n",
       "      <td>Alabama</td>\n",
       "      <td>31</td>\n",
       "      <td>2/17/2019</td>\n",
       "      <td>3</td>\n",
       "      <td>married</td>\n",
       "      <td>40423</td>\n",
       "    </tr>\n",
       "    <tr>\n",
       "      <th>1</th>\n",
       "      <td>2398795</td>\n",
       "      <td>1</td>\n",
       "      <td>2</td>\n",
       "      <td>3</td>\n",
       "      <td>7</td>\n",
       "      <td>15.0</td>\n",
       "      <td>196</td>\n",
       "      <td>1</td>\n",
       "      <td>1</td>\n",
       "      <td>Soda</td>\n",
       "      <td>...</td>\n",
       "      <td>Non-frequent customer</td>\n",
       "      <td>Linda</td>\n",
       "      <td>Nguyen</td>\n",
       "      <td>Female</td>\n",
       "      <td>Alabama</td>\n",
       "      <td>31</td>\n",
       "      <td>2/17/2019</td>\n",
       "      <td>3</td>\n",
       "      <td>married</td>\n",
       "      <td>40423</td>\n",
       "    </tr>\n",
       "    <tr>\n",
       "      <th>2</th>\n",
       "      <td>473747</td>\n",
       "      <td>1</td>\n",
       "      <td>3</td>\n",
       "      <td>3</td>\n",
       "      <td>12</td>\n",
       "      <td>21.0</td>\n",
       "      <td>196</td>\n",
       "      <td>1</td>\n",
       "      <td>1</td>\n",
       "      <td>Soda</td>\n",
       "      <td>...</td>\n",
       "      <td>Non-frequent customer</td>\n",
       "      <td>Linda</td>\n",
       "      <td>Nguyen</td>\n",
       "      <td>Female</td>\n",
       "      <td>Alabama</td>\n",
       "      <td>31</td>\n",
       "      <td>2/17/2019</td>\n",
       "      <td>3</td>\n",
       "      <td>married</td>\n",
       "      <td>40423</td>\n",
       "    </tr>\n",
       "    <tr>\n",
       "      <th>3</th>\n",
       "      <td>2254736</td>\n",
       "      <td>1</td>\n",
       "      <td>4</td>\n",
       "      <td>4</td>\n",
       "      <td>7</td>\n",
       "      <td>29.0</td>\n",
       "      <td>196</td>\n",
       "      <td>1</td>\n",
       "      <td>1</td>\n",
       "      <td>Soda</td>\n",
       "      <td>...</td>\n",
       "      <td>Non-frequent customer</td>\n",
       "      <td>Linda</td>\n",
       "      <td>Nguyen</td>\n",
       "      <td>Female</td>\n",
       "      <td>Alabama</td>\n",
       "      <td>31</td>\n",
       "      <td>2/17/2019</td>\n",
       "      <td>3</td>\n",
       "      <td>married</td>\n",
       "      <td>40423</td>\n",
       "    </tr>\n",
       "    <tr>\n",
       "      <th>4</th>\n",
       "      <td>431534</td>\n",
       "      <td>1</td>\n",
       "      <td>5</td>\n",
       "      <td>4</td>\n",
       "      <td>15</td>\n",
       "      <td>28.0</td>\n",
       "      <td>196</td>\n",
       "      <td>1</td>\n",
       "      <td>1</td>\n",
       "      <td>Soda</td>\n",
       "      <td>...</td>\n",
       "      <td>Non-frequent customer</td>\n",
       "      <td>Linda</td>\n",
       "      <td>Nguyen</td>\n",
       "      <td>Female</td>\n",
       "      <td>Alabama</td>\n",
       "      <td>31</td>\n",
       "      <td>2/17/2019</td>\n",
       "      <td>3</td>\n",
       "      <td>married</td>\n",
       "      <td>40423</td>\n",
       "    </tr>\n",
       "  </tbody>\n",
       "</table>\n",
       "<p>5 rows × 31 columns</p>\n",
       "</div>"
      ],
      "text/plain": [
       "   order_id  user_id  order_number  order_dow  order_hour_of_day  \\\n",
       "0   2539329        1             1          2                  8   \n",
       "1   2398795        1             2          3                  7   \n",
       "2    473747        1             3          3                 12   \n",
       "3   2254736        1             4          4                  7   \n",
       "4    431534        1             5          4                 15   \n",
       "\n",
       "   days_since_prior_order  product_id  add_to_cart_order  reordered  \\\n",
       "0                     NaN         196                  1          0   \n",
       "1                    15.0         196                  1          1   \n",
       "2                    21.0         196                  1          1   \n",
       "3                    29.0         196                  1          1   \n",
       "4                    28.0         196                  1          1   \n",
       "\n",
       "  product_name  ...        order_freq_flag  First Name  Surnam  Gender  \\\n",
       "0         Soda  ...  Non-frequent customer       Linda  Nguyen  Female   \n",
       "1         Soda  ...  Non-frequent customer       Linda  Nguyen  Female   \n",
       "2         Soda  ...  Non-frequent customer       Linda  Nguyen  Female   \n",
       "3         Soda  ...  Non-frequent customer       Linda  Nguyen  Female   \n",
       "4         Soda  ...  Non-frequent customer       Linda  Nguyen  Female   \n",
       "\n",
       "     STATE Age  date_joined n_dependants  fam_status income  \n",
       "0  Alabama  31    2/17/2019            3     married  40423  \n",
       "1  Alabama  31    2/17/2019            3     married  40423  \n",
       "2  Alabama  31    2/17/2019            3     married  40423  \n",
       "3  Alabama  31    2/17/2019            3     married  40423  \n",
       "4  Alabama  31    2/17/2019            3     married  40423  \n",
       "\n",
       "[5 rows x 31 columns]"
      ]
     },
     "execution_count": 8,
     "metadata": {},
     "output_type": "execute_result"
    }
   ],
   "source": [
    "df_merged_all.head()"
   ]
  },
  {
   "cell_type": "code",
   "execution_count": 9,
   "id": "c317cb12",
   "metadata": {},
   "outputs": [
    {
     "data": {
      "text/plain": [
       "order_id                     int64\n",
       "user_id                      int64\n",
       "order_number                 int64\n",
       "order_dow                    int64\n",
       "order_hour_of_day            int64\n",
       "days_since_prior_order     float64\n",
       "product_id                   int64\n",
       "add_to_cart_order            int64\n",
       "reordered                    int64\n",
       "product_name                object\n",
       "aisle_id                     int64\n",
       "department_id                int64\n",
       "prices                     float64\n",
       "_merge                    category\n",
       "price_range                 object\n",
       "busiest_period_of_day       object\n",
       "max_order                    int64\n",
       "loyalty_flag                object\n",
       "avg_price                  float64\n",
       "spending_flag               object\n",
       "order_freq                 float64\n",
       "order_freq_flag             object\n",
       "First Name                  object\n",
       "Surnam                      object\n",
       "Gender                      object\n",
       "STATE                       object\n",
       "Age                          int64\n",
       "date_joined                 object\n",
       "n_dependants                 int64\n",
       "fam_status                  object\n",
       "income                       int64\n",
       "dtype: object"
      ]
     },
     "execution_count": 9,
     "metadata": {},
     "output_type": "execute_result"
    }
   ],
   "source": [
    "df_merged_all.dtypes"
   ]
  },
  {
   "cell_type": "code",
   "execution_count": 10,
   "id": "275b16dc",
   "metadata": {},
   "outputs": [],
   "source": [
    "# Dropping PII information \n",
    "\n",
    "df_merged_all = df_merged_all.drop(columns = ['First Name','Surnam'])\n"
   ]
  },
  {
   "cell_type": "code",
   "execution_count": 11,
   "id": "211fe212",
   "metadata": {},
   "outputs": [
    {
     "data": {
      "text/html": [
       "<div>\n",
       "<style scoped>\n",
       "    .dataframe tbody tr th:only-of-type {\n",
       "        vertical-align: middle;\n",
       "    }\n",
       "\n",
       "    .dataframe tbody tr th {\n",
       "        vertical-align: top;\n",
       "    }\n",
       "\n",
       "    .dataframe thead th {\n",
       "        text-align: right;\n",
       "    }\n",
       "</style>\n",
       "<table border=\"1\" class=\"dataframe\">\n",
       "  <thead>\n",
       "    <tr style=\"text-align: right;\">\n",
       "      <th></th>\n",
       "      <th>order_id</th>\n",
       "      <th>user_id</th>\n",
       "      <th>order_number</th>\n",
       "      <th>order_dow</th>\n",
       "      <th>order_hour_of_day</th>\n",
       "      <th>days_since_prior_order</th>\n",
       "      <th>product_id</th>\n",
       "      <th>add_to_cart_order</th>\n",
       "      <th>reordered</th>\n",
       "      <th>product_name</th>\n",
       "      <th>...</th>\n",
       "      <th>spending_flag</th>\n",
       "      <th>order_freq</th>\n",
       "      <th>order_freq_flag</th>\n",
       "      <th>Gender</th>\n",
       "      <th>STATE</th>\n",
       "      <th>Age</th>\n",
       "      <th>date_joined</th>\n",
       "      <th>n_dependants</th>\n",
       "      <th>fam_status</th>\n",
       "      <th>income</th>\n",
       "    </tr>\n",
       "  </thead>\n",
       "  <tbody>\n",
       "    <tr>\n",
       "      <th>0</th>\n",
       "      <td>2539329</td>\n",
       "      <td>1</td>\n",
       "      <td>1</td>\n",
       "      <td>2</td>\n",
       "      <td>8</td>\n",
       "      <td>NaN</td>\n",
       "      <td>196</td>\n",
       "      <td>1</td>\n",
       "      <td>0</td>\n",
       "      <td>Soda</td>\n",
       "      <td>...</td>\n",
       "      <td>Low spender</td>\n",
       "      <td>20.5</td>\n",
       "      <td>Non-frequent customer</td>\n",
       "      <td>Female</td>\n",
       "      <td>Alabama</td>\n",
       "      <td>31</td>\n",
       "      <td>2/17/2019</td>\n",
       "      <td>3</td>\n",
       "      <td>married</td>\n",
       "      <td>40423</td>\n",
       "    </tr>\n",
       "    <tr>\n",
       "      <th>1</th>\n",
       "      <td>2398795</td>\n",
       "      <td>1</td>\n",
       "      <td>2</td>\n",
       "      <td>3</td>\n",
       "      <td>7</td>\n",
       "      <td>15.0</td>\n",
       "      <td>196</td>\n",
       "      <td>1</td>\n",
       "      <td>1</td>\n",
       "      <td>Soda</td>\n",
       "      <td>...</td>\n",
       "      <td>Low spender</td>\n",
       "      <td>20.5</td>\n",
       "      <td>Non-frequent customer</td>\n",
       "      <td>Female</td>\n",
       "      <td>Alabama</td>\n",
       "      <td>31</td>\n",
       "      <td>2/17/2019</td>\n",
       "      <td>3</td>\n",
       "      <td>married</td>\n",
       "      <td>40423</td>\n",
       "    </tr>\n",
       "    <tr>\n",
       "      <th>2</th>\n",
       "      <td>473747</td>\n",
       "      <td>1</td>\n",
       "      <td>3</td>\n",
       "      <td>3</td>\n",
       "      <td>12</td>\n",
       "      <td>21.0</td>\n",
       "      <td>196</td>\n",
       "      <td>1</td>\n",
       "      <td>1</td>\n",
       "      <td>Soda</td>\n",
       "      <td>...</td>\n",
       "      <td>Low spender</td>\n",
       "      <td>20.5</td>\n",
       "      <td>Non-frequent customer</td>\n",
       "      <td>Female</td>\n",
       "      <td>Alabama</td>\n",
       "      <td>31</td>\n",
       "      <td>2/17/2019</td>\n",
       "      <td>3</td>\n",
       "      <td>married</td>\n",
       "      <td>40423</td>\n",
       "    </tr>\n",
       "    <tr>\n",
       "      <th>3</th>\n",
       "      <td>2254736</td>\n",
       "      <td>1</td>\n",
       "      <td>4</td>\n",
       "      <td>4</td>\n",
       "      <td>7</td>\n",
       "      <td>29.0</td>\n",
       "      <td>196</td>\n",
       "      <td>1</td>\n",
       "      <td>1</td>\n",
       "      <td>Soda</td>\n",
       "      <td>...</td>\n",
       "      <td>Low spender</td>\n",
       "      <td>20.5</td>\n",
       "      <td>Non-frequent customer</td>\n",
       "      <td>Female</td>\n",
       "      <td>Alabama</td>\n",
       "      <td>31</td>\n",
       "      <td>2/17/2019</td>\n",
       "      <td>3</td>\n",
       "      <td>married</td>\n",
       "      <td>40423</td>\n",
       "    </tr>\n",
       "    <tr>\n",
       "      <th>4</th>\n",
       "      <td>431534</td>\n",
       "      <td>1</td>\n",
       "      <td>5</td>\n",
       "      <td>4</td>\n",
       "      <td>15</td>\n",
       "      <td>28.0</td>\n",
       "      <td>196</td>\n",
       "      <td>1</td>\n",
       "      <td>1</td>\n",
       "      <td>Soda</td>\n",
       "      <td>...</td>\n",
       "      <td>Low spender</td>\n",
       "      <td>20.5</td>\n",
       "      <td>Non-frequent customer</td>\n",
       "      <td>Female</td>\n",
       "      <td>Alabama</td>\n",
       "      <td>31</td>\n",
       "      <td>2/17/2019</td>\n",
       "      <td>3</td>\n",
       "      <td>married</td>\n",
       "      <td>40423</td>\n",
       "    </tr>\n",
       "  </tbody>\n",
       "</table>\n",
       "<p>5 rows × 29 columns</p>\n",
       "</div>"
      ],
      "text/plain": [
       "   order_id  user_id  order_number  order_dow  order_hour_of_day  \\\n",
       "0   2539329        1             1          2                  8   \n",
       "1   2398795        1             2          3                  7   \n",
       "2    473747        1             3          3                 12   \n",
       "3   2254736        1             4          4                  7   \n",
       "4    431534        1             5          4                 15   \n",
       "\n",
       "   days_since_prior_order  product_id  add_to_cart_order  reordered  \\\n",
       "0                     NaN         196                  1          0   \n",
       "1                    15.0         196                  1          1   \n",
       "2                    21.0         196                  1          1   \n",
       "3                    29.0         196                  1          1   \n",
       "4                    28.0         196                  1          1   \n",
       "\n",
       "  product_name  ...  spending_flag  order_freq        order_freq_flag  Gender  \\\n",
       "0         Soda  ...    Low spender        20.5  Non-frequent customer  Female   \n",
       "1         Soda  ...    Low spender        20.5  Non-frequent customer  Female   \n",
       "2         Soda  ...    Low spender        20.5  Non-frequent customer  Female   \n",
       "3         Soda  ...    Low spender        20.5  Non-frequent customer  Female   \n",
       "4         Soda  ...    Low spender        20.5  Non-frequent customer  Female   \n",
       "\n",
       "     STATE Age  date_joined n_dependants  fam_status income  \n",
       "0  Alabama  31    2/17/2019            3     married  40423  \n",
       "1  Alabama  31    2/17/2019            3     married  40423  \n",
       "2  Alabama  31    2/17/2019            3     married  40423  \n",
       "3  Alabama  31    2/17/2019            3     married  40423  \n",
       "4  Alabama  31    2/17/2019            3     married  40423  \n",
       "\n",
       "[5 rows x 29 columns]"
      ]
     },
     "execution_count": 11,
     "metadata": {},
     "output_type": "execute_result"
    }
   ],
   "source": [
    "df_merged_all.head()"
   ]
  },
  {
   "cell_type": "code",
   "execution_count": 12,
   "id": "dc92a038",
   "metadata": {},
   "outputs": [
    {
     "data": {
      "text/plain": [
       "Pennsylvania            667082\n",
       "California              659783\n",
       "Rhode Island            656913\n",
       "Georgia                 656389\n",
       "New Mexico              654494\n",
       "Arizona                 653964\n",
       "North Carolina          651900\n",
       "Oklahoma                651739\n",
       "Alaska                  648495\n",
       "Minnesota               647825\n",
       "Massachusetts           646358\n",
       "Wyoming                 644255\n",
       "Virginia                641421\n",
       "Missouri                640732\n",
       "Texas                   640394\n",
       "Colorado                639280\n",
       "Maine                   638583\n",
       "North Dakota            638491\n",
       "Alabama                 638003\n",
       "Kansas                  637538\n",
       "Louisiana               637482\n",
       "Delaware                637024\n",
       "South Carolina          636754\n",
       "Oregon                  636425\n",
       "Arkansas                636144\n",
       "Nevada                  636139\n",
       "New York                635983\n",
       "Montana                 635265\n",
       "South Dakota            633772\n",
       "Illinois                633024\n",
       "Hawaii                  632901\n",
       "Washington              632852\n",
       "Mississippi             632675\n",
       "Kentucky                632490\n",
       "Michigan                630928\n",
       "Florida                 629027\n",
       "Ohio                    628319\n",
       "Wisconsin               628108\n",
       "New Jersey              627692\n",
       "Indiana                 627282\n",
       "Maryland                626579\n",
       "Nebraska                625813\n",
       "Iowa                    625493\n",
       "Connecticut             623022\n",
       "Tennessee               617873\n",
       "New Hampshire           615378\n",
       "District of Columbia    613695\n",
       "West Virginia           612296\n",
       "Utah                    611941\n",
       "Vermont                 611725\n",
       "Idaho                   607119\n",
       "Name: STATE, dtype: int64"
      ]
     },
     "execution_count": 12,
     "metadata": {},
     "output_type": "execute_result"
    }
   ],
   "source": [
    "# Checking state column\n",
    "\n",
    "df_merged_all['STATE'].value_counts(dropna = False)"
   ]
  },
  {
   "cell_type": "markdown",
   "id": "03e4afd6",
   "metadata": {},
   "source": [
    "Create regional segmentation of data"
   ]
  },
  {
   "cell_type": "code",
   "execution_count": 13,
   "id": "e5ad1bb4",
   "metadata": {},
   "outputs": [],
   "source": [
    "# Defining region lists\n",
    "\n",
    "region_1_NE = ['Maine', 'New Hampshire', 'Vermont', 'Massachusetts', 'Rhode Island', 'Connecticut', 'New York', 'Pennsylvania', 'New Jersey']\n",
    "region_2_MW = ['Wisconsin', 'Michigan', 'Illinois', 'Indiana', 'Ohio', 'North Dakota', 'South Dakota', 'Nebraska', 'Kansas', 'Minnesota', 'Iowa', 'Missouri']\n",
    "region_3_S = ['Delaware', 'Maryland', 'District of Columbia', 'Virginia', 'West Virginia', 'North Carolina', 'South Carolina', 'Georgia', 'Florida', 'Kentucky', 'Tennessee', 'Mississippi', 'Alabama', 'Oklahoma', 'Texas', 'Arkansas', 'Louisiana']\n",
    "region_4_W = ['Idaho', 'Montana', 'Wyoming', 'Nevada', 'Utah', 'Colorado', 'Arizona', 'New Mexico', 'Alaska', 'Washington', 'Oregon', 'California', 'Hawaii']"
   ]
  },
  {
   "cell_type": "code",
   "execution_count": 14,
   "id": "3f3958d1",
   "metadata": {},
   "outputs": [],
   "source": [
    "# Assigning region lists values to new column (region)\n",
    "\n",
    "df_merged_all.loc[df_merged_all['STATE'].isin(region_1_NE), 'region'] = 'Northeast'\n",
    "df_merged_all.loc[df_merged_all['STATE'].isin(region_2_MW), 'region'] = 'Midwest'\n",
    "df_merged_all.loc[df_merged_all['STATE'].isin(region_3_S), 'region'] = 'South'\n",
    "df_merged_all.loc[df_merged_all['STATE'].isin(region_4_W), 'region'] = 'West'"
   ]
  },
  {
   "cell_type": "code",
   "execution_count": 15,
   "id": "0cdbe027",
   "metadata": {},
   "outputs": [
    {
     "data": {
      "text/plain": [
       "South        10791885\n",
       "West          8292913\n",
       "Midwest       7597325\n",
       "Northeast     5722736\n",
       "Name: region, dtype: int64"
      ]
     },
     "execution_count": 15,
     "metadata": {},
     "output_type": "execute_result"
    }
   ],
   "source": [
    "df_merged_all['region'].value_counts(dropna = False)"
   ]
  },
  {
   "cell_type": "code",
   "execution_count": 16,
   "id": "9f0e7d53",
   "metadata": {},
   "outputs": [
    {
     "data": {
      "text/plain": [
       "(32404859, 30)"
      ]
     },
     "execution_count": 16,
     "metadata": {},
     "output_type": "execute_result"
    }
   ],
   "source": [
    "# Check Dataframe Dimension with newly added column\n",
    "\n",
    "df_merged_all.shape"
   ]
  },
  {
   "cell_type": "markdown",
   "id": "319e0738",
   "metadata": {},
   "source": [
    "Spending Habits of U.S. Instacart customers by regions"
   ]
  },
  {
   "cell_type": "code",
   "execution_count": 17,
   "id": "99c13973",
   "metadata": {},
   "outputs": [],
   "source": [
    "# Create a spending_habits crosstab\n",
    "\n",
    "crosstab_spending_habits = pd.crosstab (df_merged_all['spending_flag'], df_merged_all['region'], dropna = False)"
   ]
  },
  {
   "cell_type": "code",
   "execution_count": 18,
   "id": "0b8cd2c9",
   "metadata": {},
   "outputs": [
    {
     "data": {
      "text/html": [
       "<div>\n",
       "<style scoped>\n",
       "    .dataframe tbody tr th:only-of-type {\n",
       "        vertical-align: middle;\n",
       "    }\n",
       "\n",
       "    .dataframe tbody tr th {\n",
       "        vertical-align: top;\n",
       "    }\n",
       "\n",
       "    .dataframe thead th {\n",
       "        text-align: right;\n",
       "    }\n",
       "</style>\n",
       "<table border=\"1\" class=\"dataframe\">\n",
       "  <thead>\n",
       "    <tr style=\"text-align: right;\">\n",
       "      <th>region</th>\n",
       "      <th>Midwest</th>\n",
       "      <th>Northeast</th>\n",
       "      <th>South</th>\n",
       "      <th>West</th>\n",
       "    </tr>\n",
       "    <tr>\n",
       "      <th>spending_flag</th>\n",
       "      <th></th>\n",
       "      <th></th>\n",
       "      <th></th>\n",
       "      <th></th>\n",
       "    </tr>\n",
       "  </thead>\n",
       "  <tbody>\n",
       "    <tr>\n",
       "      <th>High spender</th>\n",
       "      <td>29265</td>\n",
       "      <td>18642</td>\n",
       "      <td>40579</td>\n",
       "      <td>31223</td>\n",
       "    </tr>\n",
       "    <tr>\n",
       "      <th>Low spender</th>\n",
       "      <td>7568060</td>\n",
       "      <td>5704094</td>\n",
       "      <td>10751306</td>\n",
       "      <td>8261690</td>\n",
       "    </tr>\n",
       "  </tbody>\n",
       "</table>\n",
       "</div>"
      ],
      "text/plain": [
       "region         Midwest  Northeast     South     West\n",
       "spending_flag                                       \n",
       "High spender     29265      18642     40579    31223\n",
       "Low spender    7568060    5704094  10751306  8261690"
      ]
     },
     "execution_count": 18,
     "metadata": {},
     "output_type": "execute_result"
    }
   ],
   "source": [
    "crosstab_spending_habits"
   ]
  },
  {
   "cell_type": "markdown",
   "id": "2767daab",
   "metadata": {},
   "source": [
    "# Create exclusion Flag for low activity cutomers <5 orders"
   ]
  },
  {
   "cell_type": "code",
   "execution_count": 19,
   "id": "726248a7",
   "metadata": {},
   "outputs": [
    {
     "data": {
      "text/html": [
       "<div>\n",
       "<style scoped>\n",
       "    .dataframe tbody tr th:only-of-type {\n",
       "        vertical-align: middle;\n",
       "    }\n",
       "\n",
       "    .dataframe tbody tr th {\n",
       "        vertical-align: top;\n",
       "    }\n",
       "\n",
       "    .dataframe thead th {\n",
       "        text-align: right;\n",
       "    }\n",
       "</style>\n",
       "<table border=\"1\" class=\"dataframe\">\n",
       "  <thead>\n",
       "    <tr style=\"text-align: right;\">\n",
       "      <th></th>\n",
       "      <th>order_id</th>\n",
       "      <th>user_id</th>\n",
       "      <th>order_number</th>\n",
       "      <th>order_dow</th>\n",
       "      <th>order_hour_of_day</th>\n",
       "      <th>days_since_prior_order</th>\n",
       "      <th>product_id</th>\n",
       "      <th>add_to_cart_order</th>\n",
       "      <th>reordered</th>\n",
       "      <th>product_name</th>\n",
       "      <th>...</th>\n",
       "      <th>order_freq_flag</th>\n",
       "      <th>Gender</th>\n",
       "      <th>STATE</th>\n",
       "      <th>Age</th>\n",
       "      <th>date_joined</th>\n",
       "      <th>n_dependants</th>\n",
       "      <th>fam_status</th>\n",
       "      <th>income</th>\n",
       "      <th>region</th>\n",
       "      <th>activity_flag</th>\n",
       "    </tr>\n",
       "  </thead>\n",
       "  <tbody>\n",
       "    <tr>\n",
       "      <th>32404849</th>\n",
       "      <td>1539810</td>\n",
       "      <td>106143</td>\n",
       "      <td>21</td>\n",
       "      <td>1</td>\n",
       "      <td>18</td>\n",
       "      <td>5.0</td>\n",
       "      <td>19675</td>\n",
       "      <td>1</td>\n",
       "      <td>1</td>\n",
       "      <td>Organic Raspberry Black Tea</td>\n",
       "      <td>...</td>\n",
       "      <td>Frequent customer</td>\n",
       "      <td>Male</td>\n",
       "      <td>Hawaii</td>\n",
       "      <td>25</td>\n",
       "      <td>5/26/2017</td>\n",
       "      <td>0</td>\n",
       "      <td>single</td>\n",
       "      <td>53755</td>\n",
       "      <td>West</td>\n",
       "      <td>High activity</td>\n",
       "    </tr>\n",
       "    <tr>\n",
       "      <th>32404850</th>\n",
       "      <td>3308056</td>\n",
       "      <td>106143</td>\n",
       "      <td>22</td>\n",
       "      <td>4</td>\n",
       "      <td>20</td>\n",
       "      <td>10.0</td>\n",
       "      <td>19675</td>\n",
       "      <td>1</td>\n",
       "      <td>1</td>\n",
       "      <td>Organic Raspberry Black Tea</td>\n",
       "      <td>...</td>\n",
       "      <td>Frequent customer</td>\n",
       "      <td>Male</td>\n",
       "      <td>Hawaii</td>\n",
       "      <td>25</td>\n",
       "      <td>5/26/2017</td>\n",
       "      <td>0</td>\n",
       "      <td>single</td>\n",
       "      <td>53755</td>\n",
       "      <td>West</td>\n",
       "      <td>High activity</td>\n",
       "    </tr>\n",
       "    <tr>\n",
       "      <th>32404851</th>\n",
       "      <td>2988973</td>\n",
       "      <td>106143</td>\n",
       "      <td>23</td>\n",
       "      <td>2</td>\n",
       "      <td>22</td>\n",
       "      <td>5.0</td>\n",
       "      <td>19675</td>\n",
       "      <td>1</td>\n",
       "      <td>1</td>\n",
       "      <td>Organic Raspberry Black Tea</td>\n",
       "      <td>...</td>\n",
       "      <td>Frequent customer</td>\n",
       "      <td>Male</td>\n",
       "      <td>Hawaii</td>\n",
       "      <td>25</td>\n",
       "      <td>5/26/2017</td>\n",
       "      <td>0</td>\n",
       "      <td>single</td>\n",
       "      <td>53755</td>\n",
       "      <td>West</td>\n",
       "      <td>High activity</td>\n",
       "    </tr>\n",
       "    <tr>\n",
       "      <th>32404852</th>\n",
       "      <td>930</td>\n",
       "      <td>106143</td>\n",
       "      <td>24</td>\n",
       "      <td>6</td>\n",
       "      <td>12</td>\n",
       "      <td>4.0</td>\n",
       "      <td>19675</td>\n",
       "      <td>1</td>\n",
       "      <td>1</td>\n",
       "      <td>Organic Raspberry Black Tea</td>\n",
       "      <td>...</td>\n",
       "      <td>Frequent customer</td>\n",
       "      <td>Male</td>\n",
       "      <td>Hawaii</td>\n",
       "      <td>25</td>\n",
       "      <td>5/26/2017</td>\n",
       "      <td>0</td>\n",
       "      <td>single</td>\n",
       "      <td>53755</td>\n",
       "      <td>West</td>\n",
       "      <td>High activity</td>\n",
       "    </tr>\n",
       "    <tr>\n",
       "      <th>32404853</th>\n",
       "      <td>467253</td>\n",
       "      <td>106143</td>\n",
       "      <td>25</td>\n",
       "      <td>6</td>\n",
       "      <td>16</td>\n",
       "      <td>7.0</td>\n",
       "      <td>19675</td>\n",
       "      <td>1</td>\n",
       "      <td>1</td>\n",
       "      <td>Organic Raspberry Black Tea</td>\n",
       "      <td>...</td>\n",
       "      <td>Frequent customer</td>\n",
       "      <td>Male</td>\n",
       "      <td>Hawaii</td>\n",
       "      <td>25</td>\n",
       "      <td>5/26/2017</td>\n",
       "      <td>0</td>\n",
       "      <td>single</td>\n",
       "      <td>53755</td>\n",
       "      <td>West</td>\n",
       "      <td>High activity</td>\n",
       "    </tr>\n",
       "    <tr>\n",
       "      <th>32404854</th>\n",
       "      <td>156685</td>\n",
       "      <td>106143</td>\n",
       "      <td>26</td>\n",
       "      <td>4</td>\n",
       "      <td>23</td>\n",
       "      <td>5.0</td>\n",
       "      <td>19675</td>\n",
       "      <td>1</td>\n",
       "      <td>1</td>\n",
       "      <td>Organic Raspberry Black Tea</td>\n",
       "      <td>...</td>\n",
       "      <td>Frequent customer</td>\n",
       "      <td>Male</td>\n",
       "      <td>Hawaii</td>\n",
       "      <td>25</td>\n",
       "      <td>5/26/2017</td>\n",
       "      <td>0</td>\n",
       "      <td>single</td>\n",
       "      <td>53755</td>\n",
       "      <td>West</td>\n",
       "      <td>High activity</td>\n",
       "    </tr>\n",
       "    <tr>\n",
       "      <th>32404855</th>\n",
       "      <td>484769</td>\n",
       "      <td>66343</td>\n",
       "      <td>1</td>\n",
       "      <td>6</td>\n",
       "      <td>11</td>\n",
       "      <td>NaN</td>\n",
       "      <td>47210</td>\n",
       "      <td>1</td>\n",
       "      <td>0</td>\n",
       "      <td>Fresh Farmed Tilapia Fillet</td>\n",
       "      <td>...</td>\n",
       "      <td>Non-frequent customer</td>\n",
       "      <td>Female</td>\n",
       "      <td>Tennessee</td>\n",
       "      <td>22</td>\n",
       "      <td>9/12/2017</td>\n",
       "      <td>3</td>\n",
       "      <td>married</td>\n",
       "      <td>46151</td>\n",
       "      <td>South</td>\n",
       "      <td>Low activity</td>\n",
       "    </tr>\n",
       "    <tr>\n",
       "      <th>32404856</th>\n",
       "      <td>1561557</td>\n",
       "      <td>66343</td>\n",
       "      <td>2</td>\n",
       "      <td>1</td>\n",
       "      <td>11</td>\n",
       "      <td>30.0</td>\n",
       "      <td>47210</td>\n",
       "      <td>1</td>\n",
       "      <td>1</td>\n",
       "      <td>Fresh Farmed Tilapia Fillet</td>\n",
       "      <td>...</td>\n",
       "      <td>Non-frequent customer</td>\n",
       "      <td>Female</td>\n",
       "      <td>Tennessee</td>\n",
       "      <td>22</td>\n",
       "      <td>9/12/2017</td>\n",
       "      <td>3</td>\n",
       "      <td>married</td>\n",
       "      <td>46151</td>\n",
       "      <td>South</td>\n",
       "      <td>Low activity</td>\n",
       "    </tr>\n",
       "    <tr>\n",
       "      <th>32404857</th>\n",
       "      <td>276317</td>\n",
       "      <td>66343</td>\n",
       "      <td>3</td>\n",
       "      <td>6</td>\n",
       "      <td>15</td>\n",
       "      <td>19.0</td>\n",
       "      <td>47210</td>\n",
       "      <td>1</td>\n",
       "      <td>1</td>\n",
       "      <td>Fresh Farmed Tilapia Fillet</td>\n",
       "      <td>...</td>\n",
       "      <td>Non-frequent customer</td>\n",
       "      <td>Female</td>\n",
       "      <td>Tennessee</td>\n",
       "      <td>22</td>\n",
       "      <td>9/12/2017</td>\n",
       "      <td>3</td>\n",
       "      <td>married</td>\n",
       "      <td>46151</td>\n",
       "      <td>South</td>\n",
       "      <td>Low activity</td>\n",
       "    </tr>\n",
       "    <tr>\n",
       "      <th>32404858</th>\n",
       "      <td>2922475</td>\n",
       "      <td>66343</td>\n",
       "      <td>4</td>\n",
       "      <td>1</td>\n",
       "      <td>12</td>\n",
       "      <td>30.0</td>\n",
       "      <td>47210</td>\n",
       "      <td>1</td>\n",
       "      <td>1</td>\n",
       "      <td>Fresh Farmed Tilapia Fillet</td>\n",
       "      <td>...</td>\n",
       "      <td>Non-frequent customer</td>\n",
       "      <td>Female</td>\n",
       "      <td>Tennessee</td>\n",
       "      <td>22</td>\n",
       "      <td>9/12/2017</td>\n",
       "      <td>3</td>\n",
       "      <td>married</td>\n",
       "      <td>46151</td>\n",
       "      <td>South</td>\n",
       "      <td>Low activity</td>\n",
       "    </tr>\n",
       "  </tbody>\n",
       "</table>\n",
       "<p>10 rows × 31 columns</p>\n",
       "</div>"
      ],
      "text/plain": [
       "          order_id  user_id  order_number  order_dow  order_hour_of_day  \\\n",
       "32404849   1539810   106143            21          1                 18   \n",
       "32404850   3308056   106143            22          4                 20   \n",
       "32404851   2988973   106143            23          2                 22   \n",
       "32404852       930   106143            24          6                 12   \n",
       "32404853    467253   106143            25          6                 16   \n",
       "32404854    156685   106143            26          4                 23   \n",
       "32404855    484769    66343             1          6                 11   \n",
       "32404856   1561557    66343             2          1                 11   \n",
       "32404857    276317    66343             3          6                 15   \n",
       "32404858   2922475    66343             4          1                 12   \n",
       "\n",
       "          days_since_prior_order  product_id  add_to_cart_order  reordered  \\\n",
       "32404849                     5.0       19675                  1          1   \n",
       "32404850                    10.0       19675                  1          1   \n",
       "32404851                     5.0       19675                  1          1   \n",
       "32404852                     4.0       19675                  1          1   \n",
       "32404853                     7.0       19675                  1          1   \n",
       "32404854                     5.0       19675                  1          1   \n",
       "32404855                     NaN       47210                  1          0   \n",
       "32404856                    30.0       47210                  1          1   \n",
       "32404857                    19.0       47210                  1          1   \n",
       "32404858                    30.0       47210                  1          1   \n",
       "\n",
       "                         product_name  ...        order_freq_flag  Gender  \\\n",
       "32404849  Organic Raspberry Black Tea  ...      Frequent customer    Male   \n",
       "32404850  Organic Raspberry Black Tea  ...      Frequent customer    Male   \n",
       "32404851  Organic Raspberry Black Tea  ...      Frequent customer    Male   \n",
       "32404852  Organic Raspberry Black Tea  ...      Frequent customer    Male   \n",
       "32404853  Organic Raspberry Black Tea  ...      Frequent customer    Male   \n",
       "32404854  Organic Raspberry Black Tea  ...      Frequent customer    Male   \n",
       "32404855  Fresh Farmed Tilapia Fillet  ...  Non-frequent customer  Female   \n",
       "32404856  Fresh Farmed Tilapia Fillet  ...  Non-frequent customer  Female   \n",
       "32404857  Fresh Farmed Tilapia Fillet  ...  Non-frequent customer  Female   \n",
       "32404858  Fresh Farmed Tilapia Fillet  ...  Non-frequent customer  Female   \n",
       "\n",
       "              STATE Age date_joined n_dependants  fam_status income  region  \\\n",
       "32404849     Hawaii  25   5/26/2017            0      single  53755    West   \n",
       "32404850     Hawaii  25   5/26/2017            0      single  53755    West   \n",
       "32404851     Hawaii  25   5/26/2017            0      single  53755    West   \n",
       "32404852     Hawaii  25   5/26/2017            0      single  53755    West   \n",
       "32404853     Hawaii  25   5/26/2017            0      single  53755    West   \n",
       "32404854     Hawaii  25   5/26/2017            0      single  53755    West   \n",
       "32404855  Tennessee  22   9/12/2017            3     married  46151   South   \n",
       "32404856  Tennessee  22   9/12/2017            3     married  46151   South   \n",
       "32404857  Tennessee  22   9/12/2017            3     married  46151   South   \n",
       "32404858  Tennessee  22   9/12/2017            3     married  46151   South   \n",
       "\n",
       "          activity_flag  \n",
       "32404849  High activity  \n",
       "32404850  High activity  \n",
       "32404851  High activity  \n",
       "32404852  High activity  \n",
       "32404853  High activity  \n",
       "32404854  High activity  \n",
       "32404855   Low activity  \n",
       "32404856   Low activity  \n",
       "32404857   Low activity  \n",
       "32404858   Low activity  \n",
       "\n",
       "[10 rows x 31 columns]"
      ]
     },
     "execution_count": 19,
     "metadata": {},
     "output_type": "execute_result"
    }
   ],
   "source": [
    "# Creating activity_flag based on the number of orders\n",
    "\n",
    "df_merged_all.loc[df_merged_all['max_order'] <5, 'activity_flag'] = 'Low activity'\n",
    "df_merged_all.loc[df_merged_all['max_order'] >=5, 'activity_flag'] = 'High activity'\n",
    "df_merged_all.tail(10)"
   ]
  },
  {
   "cell_type": "code",
   "execution_count": 20,
   "id": "3598b93f",
   "metadata": {},
   "outputs": [
    {
     "data": {
      "text/plain": [
       "High activity    30964564\n",
       "Low activity      1440295\n",
       "Name: activity_flag, dtype: int64"
      ]
     },
     "execution_count": 20,
     "metadata": {},
     "output_type": "execute_result"
    }
   ],
   "source": [
    "# Checking new added column\n",
    "\n",
    "df_merged_all['activity_flag'].value_counts(dropna = False)"
   ]
  },
  {
   "cell_type": "code",
   "execution_count": 21,
   "id": "72b6489c",
   "metadata": {},
   "outputs": [
    {
     "data": {
      "text/plain": [
       "order_id                     int64\n",
       "user_id                      int64\n",
       "order_number                 int64\n",
       "order_dow                    int64\n",
       "order_hour_of_day            int64\n",
       "days_since_prior_order     float64\n",
       "product_id                   int64\n",
       "add_to_cart_order            int64\n",
       "reordered                    int64\n",
       "product_name                object\n",
       "aisle_id                     int64\n",
       "department_id                int64\n",
       "prices                     float64\n",
       "_merge                    category\n",
       "price_range                 object\n",
       "busiest_period_of_day       object\n",
       "max_order                    int64\n",
       "loyalty_flag                object\n",
       "avg_price                  float64\n",
       "spending_flag               object\n",
       "order_freq                 float64\n",
       "order_freq_flag             object\n",
       "Gender                      object\n",
       "STATE                       object\n",
       "Age                          int64\n",
       "date_joined                 object\n",
       "n_dependants                 int64\n",
       "fam_status                  object\n",
       "income                       int64\n",
       "region                      object\n",
       "activity_flag               object\n",
       "dtype: object"
      ]
     },
     "execution_count": 21,
     "metadata": {},
     "output_type": "execute_result"
    }
   ],
   "source": [
    "df_merged_all.dtypes"
   ]
  },
  {
   "cell_type": "code",
   "execution_count": 22,
   "id": "e1079afa",
   "metadata": {},
   "outputs": [
    {
     "data": {
      "text/html": [
       "<div>\n",
       "<style scoped>\n",
       "    .dataframe tbody tr th:only-of-type {\n",
       "        vertical-align: middle;\n",
       "    }\n",
       "\n",
       "    .dataframe tbody tr th {\n",
       "        vertical-align: top;\n",
       "    }\n",
       "\n",
       "    .dataframe thead th {\n",
       "        text-align: right;\n",
       "    }\n",
       "</style>\n",
       "<table border=\"1\" class=\"dataframe\">\n",
       "  <thead>\n",
       "    <tr style=\"text-align: right;\">\n",
       "      <th></th>\n",
       "      <th>order_id</th>\n",
       "      <th>user_id</th>\n",
       "      <th>order_number</th>\n",
       "      <th>order_dow</th>\n",
       "      <th>order_hour_of_day</th>\n",
       "      <th>days_since_prior_order</th>\n",
       "      <th>product_id</th>\n",
       "      <th>add_to_cart_order</th>\n",
       "      <th>reordered</th>\n",
       "      <th>product_name</th>\n",
       "      <th>...</th>\n",
       "      <th>order_freq_flag</th>\n",
       "      <th>Gender</th>\n",
       "      <th>STATE</th>\n",
       "      <th>Age</th>\n",
       "      <th>date_joined</th>\n",
       "      <th>n_dependants</th>\n",
       "      <th>fam_status</th>\n",
       "      <th>income</th>\n",
       "      <th>region</th>\n",
       "      <th>activity_flag</th>\n",
       "    </tr>\n",
       "  </thead>\n",
       "  <tbody>\n",
       "    <tr>\n",
       "      <th>32404850</th>\n",
       "      <td>3308056</td>\n",
       "      <td>106143</td>\n",
       "      <td>22</td>\n",
       "      <td>4</td>\n",
       "      <td>20</td>\n",
       "      <td>10.0</td>\n",
       "      <td>19675</td>\n",
       "      <td>1</td>\n",
       "      <td>1</td>\n",
       "      <td>Organic Raspberry Black Tea</td>\n",
       "      <td>...</td>\n",
       "      <td>Frequent customer</td>\n",
       "      <td>Male</td>\n",
       "      <td>Hawaii</td>\n",
       "      <td>25</td>\n",
       "      <td>5/26/2017</td>\n",
       "      <td>0</td>\n",
       "      <td>single</td>\n",
       "      <td>53755</td>\n",
       "      <td>West</td>\n",
       "      <td>High activity</td>\n",
       "    </tr>\n",
       "    <tr>\n",
       "      <th>32404851</th>\n",
       "      <td>2988973</td>\n",
       "      <td>106143</td>\n",
       "      <td>23</td>\n",
       "      <td>2</td>\n",
       "      <td>22</td>\n",
       "      <td>5.0</td>\n",
       "      <td>19675</td>\n",
       "      <td>1</td>\n",
       "      <td>1</td>\n",
       "      <td>Organic Raspberry Black Tea</td>\n",
       "      <td>...</td>\n",
       "      <td>Frequent customer</td>\n",
       "      <td>Male</td>\n",
       "      <td>Hawaii</td>\n",
       "      <td>25</td>\n",
       "      <td>5/26/2017</td>\n",
       "      <td>0</td>\n",
       "      <td>single</td>\n",
       "      <td>53755</td>\n",
       "      <td>West</td>\n",
       "      <td>High activity</td>\n",
       "    </tr>\n",
       "    <tr>\n",
       "      <th>32404852</th>\n",
       "      <td>930</td>\n",
       "      <td>106143</td>\n",
       "      <td>24</td>\n",
       "      <td>6</td>\n",
       "      <td>12</td>\n",
       "      <td>4.0</td>\n",
       "      <td>19675</td>\n",
       "      <td>1</td>\n",
       "      <td>1</td>\n",
       "      <td>Organic Raspberry Black Tea</td>\n",
       "      <td>...</td>\n",
       "      <td>Frequent customer</td>\n",
       "      <td>Male</td>\n",
       "      <td>Hawaii</td>\n",
       "      <td>25</td>\n",
       "      <td>5/26/2017</td>\n",
       "      <td>0</td>\n",
       "      <td>single</td>\n",
       "      <td>53755</td>\n",
       "      <td>West</td>\n",
       "      <td>High activity</td>\n",
       "    </tr>\n",
       "    <tr>\n",
       "      <th>32404853</th>\n",
       "      <td>467253</td>\n",
       "      <td>106143</td>\n",
       "      <td>25</td>\n",
       "      <td>6</td>\n",
       "      <td>16</td>\n",
       "      <td>7.0</td>\n",
       "      <td>19675</td>\n",
       "      <td>1</td>\n",
       "      <td>1</td>\n",
       "      <td>Organic Raspberry Black Tea</td>\n",
       "      <td>...</td>\n",
       "      <td>Frequent customer</td>\n",
       "      <td>Male</td>\n",
       "      <td>Hawaii</td>\n",
       "      <td>25</td>\n",
       "      <td>5/26/2017</td>\n",
       "      <td>0</td>\n",
       "      <td>single</td>\n",
       "      <td>53755</td>\n",
       "      <td>West</td>\n",
       "      <td>High activity</td>\n",
       "    </tr>\n",
       "    <tr>\n",
       "      <th>32404854</th>\n",
       "      <td>156685</td>\n",
       "      <td>106143</td>\n",
       "      <td>26</td>\n",
       "      <td>4</td>\n",
       "      <td>23</td>\n",
       "      <td>5.0</td>\n",
       "      <td>19675</td>\n",
       "      <td>1</td>\n",
       "      <td>1</td>\n",
       "      <td>Organic Raspberry Black Tea</td>\n",
       "      <td>...</td>\n",
       "      <td>Frequent customer</td>\n",
       "      <td>Male</td>\n",
       "      <td>Hawaii</td>\n",
       "      <td>25</td>\n",
       "      <td>5/26/2017</td>\n",
       "      <td>0</td>\n",
       "      <td>single</td>\n",
       "      <td>53755</td>\n",
       "      <td>West</td>\n",
       "      <td>High activity</td>\n",
       "    </tr>\n",
       "  </tbody>\n",
       "</table>\n",
       "<p>5 rows × 31 columns</p>\n",
       "</div>"
      ],
      "text/plain": [
       "          order_id  user_id  order_number  order_dow  order_hour_of_day  \\\n",
       "32404850   3308056   106143            22          4                 20   \n",
       "32404851   2988973   106143            23          2                 22   \n",
       "32404852       930   106143            24          6                 12   \n",
       "32404853    467253   106143            25          6                 16   \n",
       "32404854    156685   106143            26          4                 23   \n",
       "\n",
       "          days_since_prior_order  product_id  add_to_cart_order  reordered  \\\n",
       "32404850                    10.0       19675                  1          1   \n",
       "32404851                     5.0       19675                  1          1   \n",
       "32404852                     4.0       19675                  1          1   \n",
       "32404853                     7.0       19675                  1          1   \n",
       "32404854                     5.0       19675                  1          1   \n",
       "\n",
       "                         product_name  ...    order_freq_flag  Gender   STATE  \\\n",
       "32404850  Organic Raspberry Black Tea  ...  Frequent customer    Male  Hawaii   \n",
       "32404851  Organic Raspberry Black Tea  ...  Frequent customer    Male  Hawaii   \n",
       "32404852  Organic Raspberry Black Tea  ...  Frequent customer    Male  Hawaii   \n",
       "32404853  Organic Raspberry Black Tea  ...  Frequent customer    Male  Hawaii   \n",
       "32404854  Organic Raspberry Black Tea  ...  Frequent customer    Male  Hawaii   \n",
       "\n",
       "         Age date_joined n_dependants  fam_status income  region  \\\n",
       "32404850  25   5/26/2017            0      single  53755    West   \n",
       "32404851  25   5/26/2017            0      single  53755    West   \n",
       "32404852  25   5/26/2017            0      single  53755    West   \n",
       "32404853  25   5/26/2017            0      single  53755    West   \n",
       "32404854  25   5/26/2017            0      single  53755    West   \n",
       "\n",
       "          activity_flag  \n",
       "32404850  High activity  \n",
       "32404851  High activity  \n",
       "32404852  High activity  \n",
       "32404853  High activity  \n",
       "32404854  High activity  \n",
       "\n",
       "[5 rows x 31 columns]"
      ]
     },
     "execution_count": 22,
     "metadata": {},
     "output_type": "execute_result"
    }
   ],
   "source": [
    "# Create a subset which excludes low_activity customers\n",
    "\n",
    "high_activity_cxs = df_merged_all[df_merged_all['activity_flag'] == 'High activity']\n",
    "high_activity_cxs.tail()"
   ]
  },
  {
   "cell_type": "code",
   "execution_count": 23,
   "id": "69a2b6da",
   "metadata": {},
   "outputs": [],
   "source": [
    "high_activity_cxs.to_pickle(os.path.join(path, '02 Data', 'Prepared Data', 'high_activity_cxs_orders.pkl'))"
   ]
  },
  {
   "cell_type": "code",
   "execution_count": 24,
   "id": "a94b8a76",
   "metadata": {},
   "outputs": [
    {
     "data": {
      "text/html": [
       "<div>\n",
       "<style scoped>\n",
       "    .dataframe tbody tr th:only-of-type {\n",
       "        vertical-align: middle;\n",
       "    }\n",
       "\n",
       "    .dataframe tbody tr th {\n",
       "        vertical-align: top;\n",
       "    }\n",
       "\n",
       "    .dataframe thead th {\n",
       "        text-align: right;\n",
       "    }\n",
       "</style>\n",
       "<table border=\"1\" class=\"dataframe\">\n",
       "  <thead>\n",
       "    <tr style=\"text-align: right;\">\n",
       "      <th></th>\n",
       "      <th>order_id</th>\n",
       "      <th>user_id</th>\n",
       "      <th>order_number</th>\n",
       "      <th>order_dow</th>\n",
       "      <th>order_hour_of_day</th>\n",
       "      <th>days_since_prior_order</th>\n",
       "      <th>product_id</th>\n",
       "      <th>add_to_cart_order</th>\n",
       "      <th>reordered</th>\n",
       "      <th>product_name</th>\n",
       "      <th>...</th>\n",
       "      <th>order_freq_flag</th>\n",
       "      <th>Gender</th>\n",
       "      <th>STATE</th>\n",
       "      <th>Age</th>\n",
       "      <th>date_joined</th>\n",
       "      <th>n_dependants</th>\n",
       "      <th>fam_status</th>\n",
       "      <th>income</th>\n",
       "      <th>region</th>\n",
       "      <th>activity_flag</th>\n",
       "    </tr>\n",
       "  </thead>\n",
       "  <tbody>\n",
       "    <tr>\n",
       "      <th>1510</th>\n",
       "      <td>520620</td>\n",
       "      <td>120</td>\n",
       "      <td>1</td>\n",
       "      <td>3</td>\n",
       "      <td>11</td>\n",
       "      <td>NaN</td>\n",
       "      <td>196</td>\n",
       "      <td>2</td>\n",
       "      <td>0</td>\n",
       "      <td>Soda</td>\n",
       "      <td>...</td>\n",
       "      <td>Regular customer</td>\n",
       "      <td>Female</td>\n",
       "      <td>Kentucky</td>\n",
       "      <td>54</td>\n",
       "      <td>3/2/2017</td>\n",
       "      <td>2</td>\n",
       "      <td>married</td>\n",
       "      <td>99219</td>\n",
       "      <td>South</td>\n",
       "      <td>Low activity</td>\n",
       "    </tr>\n",
       "    <tr>\n",
       "      <th>1511</th>\n",
       "      <td>3273029</td>\n",
       "      <td>120</td>\n",
       "      <td>3</td>\n",
       "      <td>2</td>\n",
       "      <td>8</td>\n",
       "      <td>19.0</td>\n",
       "      <td>196</td>\n",
       "      <td>2</td>\n",
       "      <td>1</td>\n",
       "      <td>Soda</td>\n",
       "      <td>...</td>\n",
       "      <td>Regular customer</td>\n",
       "      <td>Female</td>\n",
       "      <td>Kentucky</td>\n",
       "      <td>54</td>\n",
       "      <td>3/2/2017</td>\n",
       "      <td>2</td>\n",
       "      <td>married</td>\n",
       "      <td>99219</td>\n",
       "      <td>South</td>\n",
       "      <td>Low activity</td>\n",
       "    </tr>\n",
       "    <tr>\n",
       "      <th>1512</th>\n",
       "      <td>520620</td>\n",
       "      <td>120</td>\n",
       "      <td>1</td>\n",
       "      <td>3</td>\n",
       "      <td>11</td>\n",
       "      <td>NaN</td>\n",
       "      <td>46149</td>\n",
       "      <td>1</td>\n",
       "      <td>0</td>\n",
       "      <td>Zero Calorie Cola</td>\n",
       "      <td>...</td>\n",
       "      <td>Regular customer</td>\n",
       "      <td>Female</td>\n",
       "      <td>Kentucky</td>\n",
       "      <td>54</td>\n",
       "      <td>3/2/2017</td>\n",
       "      <td>2</td>\n",
       "      <td>married</td>\n",
       "      <td>99219</td>\n",
       "      <td>South</td>\n",
       "      <td>Low activity</td>\n",
       "    </tr>\n",
       "    <tr>\n",
       "      <th>1513</th>\n",
       "      <td>3273029</td>\n",
       "      <td>120</td>\n",
       "      <td>3</td>\n",
       "      <td>2</td>\n",
       "      <td>8</td>\n",
       "      <td>19.0</td>\n",
       "      <td>46149</td>\n",
       "      <td>1</td>\n",
       "      <td>1</td>\n",
       "      <td>Zero Calorie Cola</td>\n",
       "      <td>...</td>\n",
       "      <td>Regular customer</td>\n",
       "      <td>Female</td>\n",
       "      <td>Kentucky</td>\n",
       "      <td>54</td>\n",
       "      <td>3/2/2017</td>\n",
       "      <td>2</td>\n",
       "      <td>married</td>\n",
       "      <td>99219</td>\n",
       "      <td>South</td>\n",
       "      <td>Low activity</td>\n",
       "    </tr>\n",
       "    <tr>\n",
       "      <th>1514</th>\n",
       "      <td>520620</td>\n",
       "      <td>120</td>\n",
       "      <td>1</td>\n",
       "      <td>3</td>\n",
       "      <td>11</td>\n",
       "      <td>NaN</td>\n",
       "      <td>26348</td>\n",
       "      <td>3</td>\n",
       "      <td>0</td>\n",
       "      <td>Mixed Fruit Fruit Snacks</td>\n",
       "      <td>...</td>\n",
       "      <td>Regular customer</td>\n",
       "      <td>Female</td>\n",
       "      <td>Kentucky</td>\n",
       "      <td>54</td>\n",
       "      <td>3/2/2017</td>\n",
       "      <td>2</td>\n",
       "      <td>married</td>\n",
       "      <td>99219</td>\n",
       "      <td>South</td>\n",
       "      <td>Low activity</td>\n",
       "    </tr>\n",
       "  </tbody>\n",
       "</table>\n",
       "<p>5 rows × 31 columns</p>\n",
       "</div>"
      ],
      "text/plain": [
       "      order_id  user_id  order_number  order_dow  order_hour_of_day  \\\n",
       "1510    520620      120             1          3                 11   \n",
       "1511   3273029      120             3          2                  8   \n",
       "1512    520620      120             1          3                 11   \n",
       "1513   3273029      120             3          2                  8   \n",
       "1514    520620      120             1          3                 11   \n",
       "\n",
       "      days_since_prior_order  product_id  add_to_cart_order  reordered  \\\n",
       "1510                     NaN         196                  2          0   \n",
       "1511                    19.0         196                  2          1   \n",
       "1512                     NaN       46149                  1          0   \n",
       "1513                    19.0       46149                  1          1   \n",
       "1514                     NaN       26348                  3          0   \n",
       "\n",
       "                  product_name  ...   order_freq_flag  Gender     STATE Age  \\\n",
       "1510                      Soda  ...  Regular customer  Female  Kentucky  54   \n",
       "1511                      Soda  ...  Regular customer  Female  Kentucky  54   \n",
       "1512         Zero Calorie Cola  ...  Regular customer  Female  Kentucky  54   \n",
       "1513         Zero Calorie Cola  ...  Regular customer  Female  Kentucky  54   \n",
       "1514  Mixed Fruit Fruit Snacks  ...  Regular customer  Female  Kentucky  54   \n",
       "\n",
       "     date_joined n_dependants  fam_status income  region activity_flag  \n",
       "1510    3/2/2017            2     married  99219   South  Low activity  \n",
       "1511    3/2/2017            2     married  99219   South  Low activity  \n",
       "1512    3/2/2017            2     married  99219   South  Low activity  \n",
       "1513    3/2/2017            2     married  99219   South  Low activity  \n",
       "1514    3/2/2017            2     married  99219   South  Low activity  \n",
       "\n",
       "[5 rows x 31 columns]"
      ]
     },
     "execution_count": 24,
     "metadata": {},
     "output_type": "execute_result"
    }
   ],
   "source": [
    "# Create a subset which excludes High_activity customers\n",
    "\n",
    "low_activity_cxs = df_merged_all[df_merged_all['activity_flag'] == 'Low activity']\n",
    "low_activity_cxs.head()"
   ]
  },
  {
   "cell_type": "code",
   "execution_count": 25,
   "id": "b3a422c7",
   "metadata": {},
   "outputs": [],
   "source": [
    "# Export low_activity_cxs in .pkl format \n",
    "low_activity_cxs.to_pickle(os.path.join(path, '02 Data', 'Prepared Data', 'low_activity_cxs_orders.pkl'))"
   ]
  },
  {
   "cell_type": "code",
   "execution_count": 26,
   "id": "992b0235",
   "metadata": {},
   "outputs": [],
   "source": [
    "# Customer Profiling\n",
    "pd.options.mode.chained_assignment = None"
   ]
  },
  {
   "cell_type": "code",
   "execution_count": 27,
   "id": "bd7ee82a",
   "metadata": {},
   "outputs": [],
   "source": [
    "# Start profiling high activity customers\n",
    "\n",
    "cstmrs = high_activity_cxs"
   ]
  },
  {
   "cell_type": "code",
   "execution_count": 28,
   "id": "e2770403",
   "metadata": {},
   "outputs": [
    {
     "data": {
      "text/plain": [
       "count    3.096456e+07\n",
       "mean     4.946803e+01\n",
       "std      1.848528e+01\n",
       "min      1.800000e+01\n",
       "25%      3.300000e+01\n",
       "50%      4.900000e+01\n",
       "75%      6.500000e+01\n",
       "max      8.100000e+01\n",
       "Name: Age, dtype: float64"
      ]
     },
     "execution_count": 28,
     "metadata": {},
     "output_type": "execute_result"
    }
   ],
   "source": [
    "# Exploring descriptive statistics of 'age' column\n",
    "\n",
    "cstmrs['Age'].describe()"
   ]
  },
  {
   "cell_type": "markdown",
   "id": "2845df3f",
   "metadata": {},
   "source": [
    "Youngest age is 18 Eldest age is 81\n",
    "\n",
    "Grouping age groups\n",
    "\n",
    "Youth = 18-39\n",
    "\n",
    "Middle Aged = 40-64\n",
    "\n",
    "Seniors = >65"
   ]
  },
  {
   "cell_type": "code",
   "execution_count": 29,
   "id": "e0123321",
   "metadata": {},
   "outputs": [
    {
     "data": {
      "text/plain": [
       "Middle Aged    12103910\n",
       "Youth          10665110\n",
       "Senior          8195544\n",
       "Name: age_category, dtype: int64"
      ]
     },
     "execution_count": 29,
     "metadata": {},
     "output_type": "execute_result"
    }
   ],
   "source": [
    "# Creating age categories\n",
    "\n",
    "cstmrs.loc[(cstmrs['Age'] >= 18) & (cstmrs['Age'] < 40), 'age_category'] = 'Youth'\n",
    "cstmrs.loc[(cstmrs['Age'] >= 40) & (cstmrs['Age'] < 65), 'age_category'] = 'Middle Aged'\n",
    "cstmrs.loc[cstmrs['Age'] >= 65, 'age_category'] = 'Senior'\n",
    "cstmrs['age_category'].value_counts()"
   ]
  },
  {
   "cell_type": "code",
   "execution_count": 30,
   "id": "448c4f0c",
   "metadata": {},
   "outputs": [
    {
     "data": {
      "text/plain": [
       "(30964564, 32)"
      ]
     },
     "execution_count": 30,
     "metadata": {},
     "output_type": "execute_result"
    }
   ],
   "source": [
    "cstmrs.shape"
   ]
  },
  {
   "cell_type": "code",
   "execution_count": 31,
   "id": "53987ba8",
   "metadata": {},
   "outputs": [],
   "source": [
    "# Customer profile comparison in regions & departments\n",
    "\n",
    "crosstab_age_day = pd.crosstab(cstmrs['age_category'], cstmrs['order_dow'], dropna = False)"
   ]
  },
  {
   "cell_type": "code",
   "execution_count": 32,
   "id": "d763ec2d",
   "metadata": {},
   "outputs": [
    {
     "data": {
      "text/plain": [
       "Text(0.5, 0, 'Age Group')"
      ]
     },
     "execution_count": 32,
     "metadata": {},
     "output_type": "execute_result"
    },
    {
     "data": {
      "image/png": "[encoded data removed]",
      "text/plain": [
       "<Figure size 432x288 with 1 Axes>"
      ]
     },
     "metadata": {
      "needs_background": "light"
     },
     "output_type": "display_data"
    }
   ],
   "source": [
    "# Visualization of crosstab_age_day\n",
    "\n",
    "bar_age_day = crosstab_age_day.plot(kind = 'bar', rot = 0, color= ['lightseagreen', 'gold', 'chartreuse', 'darkturquoise', 'deeppink','orange', 'lightgreen'])\n",
    "bar_age_day.legend(title='Days', bbox_to_anchor=(1, 1.02), loc='upper left', labels=['Saturday', 'Sunday', 'Monday', 'Tuesday', 'Wednesday', 'Thursday', 'Friday'])\n",
    "plt.title('Purchases in days of week by Age', fontsize = 18, pad=20)\n",
    "plt.ylabel('Frequency (in millions)', fontsize = 12)\n",
    "plt.xlabel('Age Group',  fontsize = 12)"
   ]
  },
  {
   "cell_type": "code",
   "execution_count": 33,
   "id": "74a95d25",
   "metadata": {},
   "outputs": [],
   "source": [
    "# Export\n",
    "bar_age_day.figure.savefig(os.path.join(path, '04 Analysis', 'Visualizations','dow_by_age_groups_barchart.png'), bbox_inches = 'tight')"
   ]
  },
  {
   "cell_type": "markdown",
   "id": "5690528e",
   "metadata": {},
   "source": [
    "Across all 3 Age Groups of Seniors, Middle-Aged & Youth\n",
    "\n",
    "Busiest Day = Saturday\n",
    "\n",
    "Slowest Day = Wednesday"
   ]
  },
  {
   "cell_type": "markdown",
   "id": "bc050fd6",
   "metadata": {},
   "source": [
    "Segmenetation based on Instacarts'customers number of dependents & relationship"
   ]
  },
  {
   "cell_type": "code",
   "execution_count": 34,
   "id": "ac7a4be2",
   "metadata": {},
   "outputs": [
    {
     "data": {
      "image/png": "[encoded data removed]",
      "text/html": [
       "<div style=\"vertical-align: middle;\"><strong>Spectral</strong> </div><div class=\"cmap\"><img alt=\"Spectral colormap\" title=\"Spectral\" style=\"border: 1px solid #555;\" src=\"data:image/png;base64,iVBORw0KGgoAAAANSUhEUgAAAgAAAABACAYAAABsv8+/AAAAF3RFWHRUaXRsZQBTcGVjdHJhbCBjb2xvcm1hcI/oV9sAAAAddEVYdERlc2NyaXB0aW9uAFNwZWN0cmFsIGNvbG9ybWFwppaw8gAAADB0RVh0QXV0aG9yAE1hdHBsb3RsaWIgdjMuNS4xLCBodHRwczovL21hdHBsb3RsaWIub3Jn97fOzwAAADJ0RVh0U29mdHdhcmUATWF0cGxvdGxpYiB2My41LjEsIGh0dHBzOi8vbWF0cGxvdGxpYi5vcmfZEVHoAAACDklEQVR4nO3WO3KDMABFUQl2loVmp5gUCGaQzcgxSfXOaTT6AMZ2cet3/VpLKWWaStnGuo1zN9/3520+d/PR9fPgflfz+erzXN2vjfWYr6d57ed1fXnd07mpO1cH+xfPefdz7fcp7f1K+15qN9/36/GDDM4f69N5/bjP1Xzqrv/lfafuPlP3eYfrd6//m/X6/Ed5Pf7Vuf9+Xtneby2PNm7/w3UdzPfzaz9/91w3v/nc0vaXbSiPY6zdej3tL9389vnS7997Tv8+SzcO1x8fXvfp857W23ssbf6o53Gpr9dH+59e176PT++7tveY2gv3Y10u1vvz7Ye53h9df7H+7v4+FgAgjgAAgEACAAACCQAACCQAACCQAACAQAIAAAIJAAAIJAAAIJAAAIBAAgAAAgkAAAgkAAAgkAAAgEACAAACCQAACCQAACCQAACAQAIAAAIJAAAIJAAAIJAAAIBAAgAAAgkAAAgkAAAgkAAAgEACAAACCQAACCQAACCQAACAQAIAAAIJAAAIJAAAIJAAAIBAAgAAAgkAAAgkAAAgkAAAgEACAAACCQAACCQAACCQAACAQAIAAAIJAAAIJAAAIJAAAIBAAgAAAgkAAAgkAAAgkAAAgEACAAACCQAACCQAACCQAACAQAIAAAIJAAAIJAAAIJAAAIBAAgAAAgkAAAgkAAAgkAAAgEACAAAC/QB9nBLdjK/6iAAAAABJRU5ErkJggg==\"></div><div style=\"vertical-align: middle; max-width: 514px; display: flex; justify-content: space-between;\"><div style=\"float: left;\"><div title=\"#9e0142ff\" style=\"display: inline-block; width: 1em; height: 1em; margin: 0; vertical-align: middle; border: 1px solid #555; background-color: #9e0142ff;\"></div> under</div><div style=\"margin: 0 auto; display: inline-block;\">bad <div title=\"#00000000\" style=\"display: inline-block; width: 1em; height: 1em; margin: 0; vertical-align: middle; border: 1px solid #555; background-color: #00000000;\"></div></div><div style=\"float: right;\">over <div title=\"#5e4fa2ff\" style=\"display: inline-block; width: 1em; height: 1em; margin: 0; vertical-align: middle; border: 1px solid #555; background-color: #5e4fa2ff;\"></div></div>"
      ],
      "text/plain": [
       "<matplotlib.colors.LinearSegmentedColormap at 0x7fc319f05a30>"
      ]
     },
     "execution_count": 34,
     "metadata": {},
     "output_type": "execute_result"
    }
   ],
   "source": [
    "sns.color_palette(\"Spectral\", as_cmap=True)"
   ]
  },
  {
   "cell_type": "code",
   "execution_count": 35,
   "id": "64e88470",
   "metadata": {},
   "outputs": [
    {
     "data": {
      "text/plain": [
       "Text(0.5, 0, 'Age Group')"
      ]
     },
     "execution_count": 35,
     "metadata": {},
     "output_type": "execute_result"
    },
    {
     "data": {
      "image/png": "[encoded data removed]",
      "text/plain": [
       "<Figure size 432x288 with 1 Axes>"
      ]
     },
     "metadata": {
      "needs_background": "light"
     },
     "output_type": "display_data"
    }
   ],
   "source": [
    "# Visualization of crosstab_age_day\n",
    "\n",
    "bar_age_day = crosstab_age_day.plot(kind = 'bar', rot = 0, color= ['lightseagreen', 'gold', 'chartreuse', 'darkturquoise', 'deeppink','orange', 'lightgreen'])\n",
    "bar_age_day.legend(title='Days', bbox_to_anchor=(1, 1.02), loc='upper left', labels=['Saturday', 'Sunday', 'Monday', 'Tuesday', 'Wednesday', 'Thursday', 'Friday'])\n",
    "plt.title('Purchases in days of week by Age', fontsize = 18, pad=20)\n",
    "plt.ylabel('Frequency (in millions)', fontsize = 12)\n",
    "plt.xlabel('Age Group',  fontsize = 12)"
   ]
  },
  {
   "cell_type": "code",
   "execution_count": 36,
   "id": "6f24650b",
   "metadata": {},
   "outputs": [
    {
     "data": {
      "text/plain": [
       "count    3.096456e+07\n",
       "mean     1.501819e+00\n",
       "std      1.118896e+00\n",
       "min      0.000000e+00\n",
       "25%      1.000000e+00\n",
       "50%      2.000000e+00\n",
       "75%      3.000000e+00\n",
       "max      3.000000e+00\n",
       "Name: n_dependants, dtype: float64"
      ]
     },
     "execution_count": 36,
     "metadata": {},
     "output_type": "execute_result"
    }
   ],
   "source": [
    "# Exploring 'number_of_dependents'\n",
    "\n",
    "cstmrs['n_dependants'].describe()"
   ]
  },
  {
   "cell_type": "markdown",
   "id": "dc8660ae",
   "metadata": {},
   "source": [
    "Min = 0  Max = 3 dependents per family\n",
    "\n",
    "Grouping families by size\n",
    "\n",
    "Small = 0\n",
    "\n",
    "Mid Sized = 1-2\n",
    "\n",
    "Large = 3"
   ]
  },
  {
   "cell_type": "code",
   "execution_count": 37,
   "id": "4b37205d",
   "metadata": {},
   "outputs": [],
   "source": [
    "# Creating family_size column \n",
    "\n",
    "cstmrs.loc[cstmrs['n_dependants'] == 0, 'family_size'] = 'Small'\n",
    "cstmrs.loc[(cstmrs['n_dependants'] == 1) | (cstmrs['n_dependants'] == 2), 'family_size'] = 'Mid sized'\n",
    "cstmrs.loc[cstmrs['n_dependants'] > 2, 'family_size'] = 'Large'"
   ]
  },
  {
   "cell_type": "code",
   "execution_count": 38,
   "id": "a7405439",
   "metadata": {},
   "outputs": [
    {
     "data": {
      "text/plain": [
       "Mid sized    15452367\n",
       "Large         7772516\n",
       "Small         7739681\n",
       "Name: family_size, dtype: int64"
      ]
     },
     "execution_count": 38,
     "metadata": {},
     "output_type": "execute_result"
    }
   ],
   "source": [
    "cstmrs['family_size'].value_counts(dropna = False)"
   ]
  },
  {
   "cell_type": "code",
   "execution_count": 39,
   "id": "da83386f",
   "metadata": {},
   "outputs": [],
   "source": [
    "#Exploring the connection of 'marital_status' and 'no_of_dependents'\n",
    "\n",
    "family_crosstab = pd.crosstab(cstmrs['fam_status'],cstmrs['n_dependants'],dropna = False)"
   ]
  },
  {
   "cell_type": "code",
   "execution_count": 40,
   "id": "264daf61",
   "metadata": {},
   "outputs": [
    {
     "data": {
      "text/html": [
       "<div>\n",
       "<style scoped>\n",
       "    .dataframe tbody tr th:only-of-type {\n",
       "        vertical-align: middle;\n",
       "    }\n",
       "\n",
       "    .dataframe tbody tr th {\n",
       "        vertical-align: top;\n",
       "    }\n",
       "\n",
       "    .dataframe thead th {\n",
       "        text-align: right;\n",
       "    }\n",
       "</style>\n",
       "<table border=\"1\" class=\"dataframe\">\n",
       "  <thead>\n",
       "    <tr style=\"text-align: right;\">\n",
       "      <th>n_dependants</th>\n",
       "      <th>0</th>\n",
       "      <th>1</th>\n",
       "      <th>2</th>\n",
       "      <th>3</th>\n",
       "    </tr>\n",
       "    <tr>\n",
       "      <th>fam_status</th>\n",
       "      <th></th>\n",
       "      <th></th>\n",
       "      <th></th>\n",
       "      <th></th>\n",
       "    </tr>\n",
       "  </thead>\n",
       "  <tbody>\n",
       "    <tr>\n",
       "      <th>divorced/widowed</th>\n",
       "      <td>2645271</td>\n",
       "      <td>0</td>\n",
       "      <td>0</td>\n",
       "      <td>0</td>\n",
       "    </tr>\n",
       "    <tr>\n",
       "      <th>living with parents and siblings</th>\n",
       "      <td>0</td>\n",
       "      <td>508045</td>\n",
       "      <td>484658</td>\n",
       "      <td>488469</td>\n",
       "    </tr>\n",
       "    <tr>\n",
       "      <th>married</th>\n",
       "      <td>0</td>\n",
       "      <td>7211061</td>\n",
       "      <td>7248603</td>\n",
       "      <td>7284047</td>\n",
       "    </tr>\n",
       "    <tr>\n",
       "      <th>single</th>\n",
       "      <td>5094410</td>\n",
       "      <td>0</td>\n",
       "      <td>0</td>\n",
       "      <td>0</td>\n",
       "    </tr>\n",
       "  </tbody>\n",
       "</table>\n",
       "</div>"
      ],
      "text/plain": [
       "n_dependants                            0        1        2        3\n",
       "fam_status                                                          \n",
       "divorced/widowed                  2645271        0        0        0\n",
       "living with parents and siblings        0   508045   484658   488469\n",
       "married                                 0  7211061  7248603  7284047\n",
       "single                            5094410        0        0        0"
      ]
     },
     "execution_count": 40,
     "metadata": {},
     "output_type": "execute_result"
    }
   ],
   "source": [
    "family_crosstab"
   ]
  },
  {
   "cell_type": "code",
   "execution_count": 41,
   "id": "9bfa0f5f",
   "metadata": {},
   "outputs": [],
   "source": [
    "cstmrs.loc[(cstmrs['fam_status'] == 'married') & (cstmrs['n_dependants'] == 1), 'household'] = 'Couple Without Children'\n",
    "cstmrs.loc[(cstmrs['fam_status'] == 'married') & (cstmrs['n_dependants'] >= 2), 'household'] = 'Couple With Children'\n",
    "cstmrs.loc[(cstmrs['fam_status'] == 'divorced/widowed') | (cstmrs['fam_status'] == 'single'), 'household'] = 'One Person'\n",
    "cstmrs.loc[(cstmrs['fam_status'] == 'divorced/widowed') & (cstmrs['n_dependants'] > 0 ), 'household'] = 'Single Parent'\n",
    "cstmrs.loc[cstmrs['fam_status'] == 'living with parents and siblings', 'household'] = 'Other Family'"
   ]
  },
  {
   "cell_type": "code",
   "execution_count": 42,
   "id": "b0fa492e",
   "metadata": {},
   "outputs": [
    {
     "data": {
      "text/plain": [
       "Couple With Children       14532650\n",
       "One Person                  7739681\n",
       "Couple Without Children     7211061\n",
       "Other Family                1481172\n",
       "Name: household, dtype: int64"
      ]
     },
     "execution_count": 42,
     "metadata": {},
     "output_type": "execute_result"
    }
   ],
   "source": [
    "# Checking new column (household)\n",
    "\n",
    "cstmrs['household'].value_counts(dropna = False)"
   ]
  },
  {
   "cell_type": "code",
   "execution_count": 43,
   "id": "484deecf",
   "metadata": {},
   "outputs": [
    {
     "data": {
      "text/plain": [
       "(30964564, 34)"
      ]
     },
     "execution_count": 43,
     "metadata": {},
     "output_type": "execute_result"
    }
   ],
   "source": [
    "# Confirming added column\n",
    "\n",
    "cstmrs.shape"
   ]
  },
  {
   "cell_type": "code",
   "execution_count": 44,
   "id": "4fc12d81",
   "metadata": {},
   "outputs": [
    {
     "data": {
      "text/plain": [
       "(array([0, 1, 2, 3]),\n",
       " [Text(0, 0, 'Couple With Children'),\n",
       "  Text(1, 0, 'One Person'),\n",
       "  Text(2, 0, 'Couple Without Children'),\n",
       "  Text(3, 0, 'Other Family')])"
      ]
     },
     "execution_count": 44,
     "metadata": {},
     "output_type": "execute_result"
    },
    {
     "data": {
      "image/png": "[encoded data removed]",
      "text/plain": [
       "<Figure size 432x288 with 1 Axes>"
      ]
     },
     "metadata": {
      "needs_background": "light"
     },
     "output_type": "display_data"
    }
   ],
   "source": [
    "bar_age_day = cstmrs['household'].value_counts().plot.bar(color= ['lime','magenta','gold','c'])\n",
    "plt.title('Household Distribution of Instacart Customers', fontsize = 18, pad=20)\n",
    "plt.ylabel('Frequency (in millions)', fontsize = 12)\n",
    "plt.xlabel('Household',  fontsize = 12)\n",
    "plt.xticks(rotation=45)"
   ]
  },
  {
   "cell_type": "code",
   "execution_count": 45,
   "id": "8bda2b73",
   "metadata": {},
   "outputs": [],
   "source": [
    "# Saving the bar chart\n",
    "bar_age_day.figure.savefig(os.path.join(path, '04 Analysis', 'Visualizations','customer_houshold_stats_barchart.png'),bbox_inches = 'tight')"
   ]
  },
  {
   "cell_type": "markdown",
   "id": "3ab4294c",
   "metadata": {},
   "source": [
    "Instacart Customer Income"
   ]
  },
  {
   "cell_type": "code",
   "execution_count": 46,
   "id": "d4dccc47",
   "metadata": {},
   "outputs": [
    {
     "data": {
      "text/plain": [
       "count    3.096456e+07\n",
       "mean     9.967587e+04\n",
       "std      4.314187e+04\n",
       "min      2.590300e+04\n",
       "25%      6.729200e+04\n",
       "50%      9.676500e+04\n",
       "75%      1.281020e+05\n",
       "max      5.939010e+05\n",
       "Name: income, dtype: float64"
      ]
     },
     "execution_count": 46,
     "metadata": {},
     "output_type": "execute_result"
    }
   ],
   "source": [
    "# Exploring to categorize the income column\n",
    "\n",
    "cstmrs['income'].describe()"
   ]
  },
  {
   "cell_type": "markdown",
   "id": "60bf1cff",
   "metadata": {},
   "source": [
    "Lowest Income = 25,900 Highest Income = 593,900\n",
    "\n",
    "Grouping Customers by income\n",
    "\n",
    "Low = <70,000\n",
    "\n",
    "Middle-class = 70,000-100,000\n",
    "\n",
    "Upper-middle-class = 100,000-130,000\n",
    "\n",
    "High = >130,000\n"
   ]
  },
  {
   "cell_type": "code",
   "execution_count": 47,
   "id": "329f91d5",
   "metadata": {},
   "outputs": [],
   "source": [
    "# Creating income_category column\n",
    "\n",
    "cstmrs.loc[cstmrs['income']< 70000, 'income_category'] = 'Low'\n",
    "cstmrs.loc[(cstmrs['income']>= 70000) & (cstmrs['income']< 100000), 'income_category'] = 'Middle-class'\n",
    "cstmrs.loc[(cstmrs['income']>= 100000) & (cstmrs['income']< 130000), 'income_category'] = 'Upper-mid-class'\n",
    "cstmrs.loc[cstmrs['income']>= 130000, 'income_category'] = 'High'"
   ]
  },
  {
   "cell_type": "code",
   "execution_count": 48,
   "id": "7d5d608d",
   "metadata": {},
   "outputs": [
    {
     "data": {
      "text/plain": [
       "Low                8520533\n",
       "Middle-class       8236629\n",
       "High               7401414\n",
       "Upper-mid-class    6805988\n",
       "Name: income_category, dtype: int64"
      ]
     },
     "execution_count": 48,
     "metadata": {},
     "output_type": "execute_result"
    }
   ],
   "source": [
    "# Checking income_category values\n",
    "\n",
    "cstmrs['income_category'].value_counts(dropna = False)"
   ]
  },
  {
   "cell_type": "code",
   "execution_count": 49,
   "id": "2cbe1099",
   "metadata": {},
   "outputs": [
    {
     "data": {
      "text/plain": [
       "(30964564, 35)"
      ]
     },
     "execution_count": 49,
     "metadata": {},
     "output_type": "execute_result"
    }
   ],
   "source": [
    "# Confirming the added column\n",
    "\n",
    "cstmrs.shape"
   ]
  },
  {
   "cell_type": "code",
   "execution_count": 50,
   "id": "6761c1b3",
   "metadata": {},
   "outputs": [
    {
     "data": {
      "text/html": [
       "<svg  width=\"440\" height=\"55\"><rect x=\"0\" y=\"0\" width=\"55\" height=\"55\" style=\"fill:#db5f57;stroke-width:2;stroke:rgb(255,255,255)\"/><rect x=\"55\" y=\"0\" width=\"55\" height=\"55\" style=\"fill:#dbc257;stroke-width:2;stroke:rgb(255,255,255)\"/><rect x=\"110\" y=\"0\" width=\"55\" height=\"55\" style=\"fill:#91db57;stroke-width:2;stroke:rgb(255,255,255)\"/><rect x=\"165\" y=\"0\" width=\"55\" height=\"55\" style=\"fill:#57db80;stroke-width:2;stroke:rgb(255,255,255)\"/><rect x=\"220\" y=\"0\" width=\"55\" height=\"55\" style=\"fill:#57d3db;stroke-width:2;stroke:rgb(255,255,255)\"/><rect x=\"275\" y=\"0\" width=\"55\" height=\"55\" style=\"fill:#5770db;stroke-width:2;stroke:rgb(255,255,255)\"/><rect x=\"330\" y=\"0\" width=\"55\" height=\"55\" style=\"fill:#a157db;stroke-width:2;stroke:rgb(255,255,255)\"/><rect x=\"385\" y=\"0\" width=\"55\" height=\"55\" style=\"fill:#db57b2;stroke-width:2;stroke:rgb(255,255,255)\"/></svg>"
      ],
      "text/plain": [
       "[(0.86, 0.3712, 0.33999999999999997),\n",
       " (0.86, 0.7612000000000001, 0.33999999999999997),\n",
       " (0.5688000000000001, 0.86, 0.33999999999999997),\n",
       " (0.33999999999999997, 0.86, 0.5012000000000001),\n",
       " (0.33999999999999997, 0.8287999999999999, 0.86),\n",
       " (0.33999999999999997, 0.43879999999999986, 0.86),\n",
       " (0.6311999999999998, 0.33999999999999997, 0.86),\n",
       " (0.86, 0.33999999999999997, 0.6987999999999996)]"
      ]
     },
     "execution_count": 50,
     "metadata": {},
     "output_type": "execute_result"
    }
   ],
   "source": [
    "sns.color_palette('hls',8)"
   ]
  },
  {
   "cell_type": "code",
   "execution_count": 51,
   "id": "0c91f747",
   "metadata": {},
   "outputs": [
    {
     "data": {
      "text/html": [
       "<svg  width=\"330\" height=\"55\"><rect x=\"0\" y=\"0\" width=\"55\" height=\"55\" style=\"fill:#0393f9;stroke-width:2;stroke:rgb(255,255,255)\"/><rect x=\"55\" y=\"0\" width=\"55\" height=\"55\" style=\"fill:#25d36d;stroke-width:2;stroke:rgb(255,255,255)\"/><rect x=\"110\" y=\"0\" width=\"55\" height=\"55\" style=\"fill:#b5f08a;stroke-width:2;stroke:rgb(255,255,255)\"/><rect x=\"165\" y=\"0\" width=\"55\" height=\"55\" style=\"fill:#dad085;stroke-width:2;stroke:rgb(255,255,255)\"/><rect x=\"220\" y=\"0\" width=\"55\" height=\"55\" style=\"fill:#92735e;stroke-width:2;stroke:rgb(255,255,255)\"/><rect x=\"275\" y=\"0\" width=\"55\" height=\"55\" style=\"fill:#b7a39f;stroke-width:2;stroke:rgb(255,255,255)\"/></svg>"
      ],
      "text/plain": [
       "[(0.011764705882352955, 0.5764705882352941, 0.9764705882352941),\n",
       " (0.1450980392156863, 0.8290196078431373, 0.42901960784313725),\n",
       " (0.7098039215686275, 0.9419607843137255, 0.5419607843137255),\n",
       " (0.8549019607843137, 0.8142745098039216, 0.5216470588235294),\n",
       " (0.5725490196078431, 0.45286274509803925, 0.36917647058823533),\n",
       " (0.7176470588235294, 0.6385882352941177, 0.6216470588235294)]"
      ]
     },
     "execution_count": 51,
     "metadata": {},
     "output_type": "execute_result"
    }
   ],
   "source": [
    "sns.color_palette('terrain')"
   ]
  },
  {
   "cell_type": "code",
   "execution_count": 52,
   "id": "b55e4c41",
   "metadata": {},
   "outputs": [
    {
     "data": {
      "image/png": "[encoded data removed]",
      "text/plain": [
       "<Figure size 432x288 with 1 Axes>"
      ]
     },
     "metadata": {
      "needs_background": "light"
     },
     "output_type": "display_data"
    }
   ],
   "source": [
    "# Create an income histogram\n",
    "plt.title('Instacart Customers Income', fontsize = 18, pad=20)\n",
    "hist = cstmrs['income'].plot.hist(bins = 20, color = 'limegreen')"
   ]
  },
  {
   "cell_type": "code",
   "execution_count": 53,
   "id": "c67759af",
   "metadata": {},
   "outputs": [],
   "source": [
    "# Save histogram\n",
    "hist.figure.savefig(os.path.join(path, '04 Analysis', 'Visualizations','income_histogram.png'))"
   ]
  },
  {
   "cell_type": "markdown",
   "id": "631b02da",
   "metadata": {},
   "source": [
    "Segmentation by Department"
   ]
  },
  {
   "cell_type": "code",
   "execution_count": 54,
   "id": "1d870e35",
   "metadata": {},
   "outputs": [
    {
     "data": {
      "text/html": [
       "<div>\n",
       "<style scoped>\n",
       "    .dataframe tbody tr th:only-of-type {\n",
       "        vertical-align: middle;\n",
       "    }\n",
       "\n",
       "    .dataframe tbody tr th {\n",
       "        vertical-align: top;\n",
       "    }\n",
       "\n",
       "    .dataframe thead th {\n",
       "        text-align: right;\n",
       "    }\n",
       "</style>\n",
       "<table border=\"1\" class=\"dataframe\">\n",
       "  <thead>\n",
       "    <tr style=\"text-align: right;\">\n",
       "      <th></th>\n",
       "      <th>Unnamed: 0</th>\n",
       "      <th>department</th>\n",
       "    </tr>\n",
       "  </thead>\n",
       "  <tbody>\n",
       "    <tr>\n",
       "      <th>0</th>\n",
       "      <td>2</td>\n",
       "      <td>other</td>\n",
       "    </tr>\n",
       "    <tr>\n",
       "      <th>1</th>\n",
       "      <td>3</td>\n",
       "      <td>bakery</td>\n",
       "    </tr>\n",
       "    <tr>\n",
       "      <th>2</th>\n",
       "      <td>4</td>\n",
       "      <td>produce</td>\n",
       "    </tr>\n",
       "    <tr>\n",
       "      <th>3</th>\n",
       "      <td>5</td>\n",
       "      <td>alcohol</td>\n",
       "    </tr>\n",
       "    <tr>\n",
       "      <th>4</th>\n",
       "      <td>6</td>\n",
       "      <td>international</td>\n",
       "    </tr>\n",
       "    <tr>\n",
       "      <th>5</th>\n",
       "      <td>7</td>\n",
       "      <td>beverages</td>\n",
       "    </tr>\n",
       "    <tr>\n",
       "      <th>6</th>\n",
       "      <td>8</td>\n",
       "      <td>pets</td>\n",
       "    </tr>\n",
       "    <tr>\n",
       "      <th>7</th>\n",
       "      <td>9</td>\n",
       "      <td>dry goods pasta</td>\n",
       "    </tr>\n",
       "    <tr>\n",
       "      <th>8</th>\n",
       "      <td>10</td>\n",
       "      <td>bulk</td>\n",
       "    </tr>\n",
       "    <tr>\n",
       "      <th>9</th>\n",
       "      <td>11</td>\n",
       "      <td>personal care</td>\n",
       "    </tr>\n",
       "    <tr>\n",
       "      <th>10</th>\n",
       "      <td>12</td>\n",
       "      <td>meat seafood</td>\n",
       "    </tr>\n",
       "    <tr>\n",
       "      <th>11</th>\n",
       "      <td>13</td>\n",
       "      <td>pantry</td>\n",
       "    </tr>\n",
       "    <tr>\n",
       "      <th>12</th>\n",
       "      <td>14</td>\n",
       "      <td>breakfast</td>\n",
       "    </tr>\n",
       "    <tr>\n",
       "      <th>13</th>\n",
       "      <td>15</td>\n",
       "      <td>canned goods</td>\n",
       "    </tr>\n",
       "    <tr>\n",
       "      <th>14</th>\n",
       "      <td>16</td>\n",
       "      <td>dairy eggs</td>\n",
       "    </tr>\n",
       "    <tr>\n",
       "      <th>15</th>\n",
       "      <td>17</td>\n",
       "      <td>household</td>\n",
       "    </tr>\n",
       "    <tr>\n",
       "      <th>16</th>\n",
       "      <td>18</td>\n",
       "      <td>babies</td>\n",
       "    </tr>\n",
       "    <tr>\n",
       "      <th>17</th>\n",
       "      <td>19</td>\n",
       "      <td>snacks</td>\n",
       "    </tr>\n",
       "    <tr>\n",
       "      <th>18</th>\n",
       "      <td>20</td>\n",
       "      <td>deli</td>\n",
       "    </tr>\n",
       "    <tr>\n",
       "      <th>19</th>\n",
       "      <td>21</td>\n",
       "      <td>missing</td>\n",
       "    </tr>\n",
       "  </tbody>\n",
       "</table>\n",
       "</div>"
      ],
      "text/plain": [
       "    Unnamed: 0       department\n",
       "0            2            other\n",
       "1            3           bakery\n",
       "2            4          produce\n",
       "3            5          alcohol\n",
       "4            6    international\n",
       "5            7        beverages\n",
       "6            8             pets\n",
       "7            9  dry goods pasta\n",
       "8           10             bulk\n",
       "9           11    personal care\n",
       "10          12     meat seafood\n",
       "11          13           pantry\n",
       "12          14        breakfast\n",
       "13          15     canned goods\n",
       "14          16       dairy eggs\n",
       "15          17        household\n",
       "16          18           babies\n",
       "17          19           snacks\n",
       "18          20             deli\n",
       "19          21          missing"
      ]
     },
     "execution_count": 54,
     "metadata": {},
     "output_type": "execute_result"
    }
   ],
   "source": [
    "df_depts"
   ]
  },
  {
   "cell_type": "code",
   "execution_count": 55,
   "id": "e71ea314",
   "metadata": {},
   "outputs": [],
   "source": [
    "df_depts.rename(columns= {'Unnamed: 0': 'department_id'}, inplace = True)"
   ]
  },
  {
   "cell_type": "code",
   "execution_count": 56,
   "id": "4d5212ac",
   "metadata": {},
   "outputs": [],
   "source": [
    "# Create dictionary \n",
    "dprt_map = dict(zip(df_depts['department_id'], df_depts['department']))"
   ]
  },
  {
   "cell_type": "code",
   "execution_count": 57,
   "id": "c933a08f",
   "metadata": {},
   "outputs": [
    {
     "data": {
      "text/plain": [
       "{2: 'other',\n",
       " 3: 'bakery',\n",
       " 4: 'produce',\n",
       " 5: 'alcohol',\n",
       " 6: 'international',\n",
       " 7: 'beverages',\n",
       " 8: 'pets',\n",
       " 9: 'dry goods pasta',\n",
       " 10: 'bulk',\n",
       " 11: 'personal care',\n",
       " 12: 'meat seafood',\n",
       " 13: 'pantry',\n",
       " 14: 'breakfast',\n",
       " 15: 'canned goods',\n",
       " 16: 'dairy eggs',\n",
       " 17: 'household',\n",
       " 18: 'babies',\n",
       " 19: 'snacks',\n",
       " 20: 'deli',\n",
       " 21: 'missing'}"
      ]
     },
     "execution_count": 57,
     "metadata": {},
     "output_type": "execute_result"
    }
   ],
   "source": [
    "dprt_map"
   ]
  },
  {
   "cell_type": "code",
   "execution_count": 58,
   "id": "f8946179",
   "metadata": {},
   "outputs": [],
   "source": [
    "cstmrs['department'] = cstmrs['department_id'].map(dprt_map)"
   ]
  },
  {
   "cell_type": "code",
   "execution_count": 59,
   "id": "288afaf2",
   "metadata": {},
   "outputs": [
    {
     "data": {
      "text/plain": [
       "(30964564, 36)"
      ]
     },
     "execution_count": 59,
     "metadata": {},
     "output_type": "execute_result"
    }
   ],
   "source": [
    "cstmrs.shape"
   ]
  },
  {
   "cell_type": "code",
   "execution_count": 60,
   "id": "ee79db8e",
   "metadata": {},
   "outputs": [
    {
     "data": {
      "text/plain": [
       "produce            9079273\n",
       "dairy eggs         5177182\n",
       "snacks             2766406\n",
       "beverages          2571901\n",
       "NaN                2121731\n",
       "pantry             1782705\n",
       "bakery             1120828\n",
       "canned goods       1012074\n",
       "deli               1003834\n",
       "dry goods pasta     822136\n",
       "household           699857\n",
       "meat seafood        674781\n",
       "breakfast           670850\n",
       "personal care       424306\n",
       "babies              410392\n",
       "international       255991\n",
       "alcohol             144627\n",
       "pets                 93060\n",
       "missing              64768\n",
       "other                34411\n",
       "bulk                 33451\n",
       "Name: department, dtype: int64"
      ]
     },
     "execution_count": 60,
     "metadata": {},
     "output_type": "execute_result"
    }
   ],
   "source": [
    "# Distribution of 'department' values in 'cstmrs' dataframe\n",
    "\n",
    "cstmrs['department'].value_counts(dropna = False)"
   ]
  },
  {
   "cell_type": "markdown",
   "id": "f2652350",
   "metadata": {},
   "source": [
    "Behavioral Market Segmentation"
   ]
  },
  {
   "cell_type": "code",
   "execution_count": 61,
   "id": "06b8cc1d",
   "metadata": {},
   "outputs": [],
   "source": [
    "# Creating alcohol_drinker column\n",
    "\n",
    "cstmrs.loc[cstmrs['department'] !='alcohol', 'alcohol_drinker'] = 'No'\n",
    "cstmrs.loc[cstmrs['department'] =='alcohol', 'alcohol_drinker'] = 'Yes'"
   ]
  },
  {
   "cell_type": "code",
   "execution_count": 62,
   "id": "91c05446",
   "metadata": {},
   "outputs": [
    {
     "data": {
      "text/plain": [
       "No     30819937\n",
       "Yes      144627\n",
       "Name: alcohol_drinker, dtype: int64"
      ]
     },
     "execution_count": 62,
     "metadata": {},
     "output_type": "execute_result"
    }
   ],
   "source": [
    "cstmrs['alcohol_drinker'].value_counts(dropna = False)"
   ]
  },
  {
   "cell_type": "code",
   "execution_count": 63,
   "id": "ecc6ced7",
   "metadata": {},
   "outputs": [
    {
     "data": {
      "text/plain": [
       "(30964564, 37)"
      ]
     },
     "execution_count": 63,
     "metadata": {},
     "output_type": "execute_result"
    }
   ],
   "source": [
    "cstmrs.shape"
   ]
  },
  {
   "cell_type": "markdown",
   "id": "c7f3cf46",
   "metadata": {},
   "source": [
    "Families with Babies"
   ]
  },
  {
   "cell_type": "code",
   "execution_count": 64,
   "id": "754d88ac",
   "metadata": {},
   "outputs": [],
   "source": [
    "# Creating Has_babies column\n",
    "\n",
    "cstmrs.loc[cstmrs['department'] == 'babies','Has_babies'] = 'Yes'\n",
    "cstmrs.loc[cstmrs['department'] != 'babies','Has_babies'] = 'No'"
   ]
  },
  {
   "cell_type": "code",
   "execution_count": 65,
   "id": "4d032135",
   "metadata": {},
   "outputs": [
    {
     "data": {
      "text/plain": [
       "No     30554172\n",
       "Yes      410392\n",
       "Name: Has_babies, dtype: int64"
      ]
     },
     "execution_count": 65,
     "metadata": {},
     "output_type": "execute_result"
    }
   ],
   "source": [
    "cstmrs['Has_babies'].value_counts(dropna = False)"
   ]
  },
  {
   "cell_type": "code",
   "execution_count": 66,
   "id": "37c25ab3",
   "metadata": {},
   "outputs": [
    {
     "data": {
      "text/plain": [
       "(30964564, 38)"
      ]
     },
     "execution_count": 66,
     "metadata": {},
     "output_type": "execute_result"
    }
   ],
   "source": [
    "cstmrs.shape"
   ]
  },
  {
   "cell_type": "code",
   "execution_count": 67,
   "id": "8b0c1622",
   "metadata": {},
   "outputs": [
    {
     "data": {
      "text/html": [
       "<div>\n",
       "<style scoped>\n",
       "    .dataframe tbody tr th:only-of-type {\n",
       "        vertical-align: middle;\n",
       "    }\n",
       "\n",
       "    .dataframe tbody tr th {\n",
       "        vertical-align: top;\n",
       "    }\n",
       "\n",
       "    .dataframe thead th {\n",
       "        text-align: right;\n",
       "    }\n",
       "</style>\n",
       "<table border=\"1\" class=\"dataframe\">\n",
       "  <thead>\n",
       "    <tr style=\"text-align: right;\">\n",
       "      <th>income_category</th>\n",
       "      <th>High</th>\n",
       "      <th>Low</th>\n",
       "      <th>Middle-class</th>\n",
       "      <th>Upper-mid-class</th>\n",
       "    </tr>\n",
       "    <tr>\n",
       "      <th>region</th>\n",
       "      <th></th>\n",
       "      <th></th>\n",
       "      <th></th>\n",
       "      <th></th>\n",
       "    </tr>\n",
       "  </thead>\n",
       "  <tbody>\n",
       "    <tr>\n",
       "      <th>Midwest</th>\n",
       "      <td>1763002</td>\n",
       "      <td>1974266</td>\n",
       "      <td>1887154</td>\n",
       "      <td>1637091</td>\n",
       "    </tr>\n",
       "    <tr>\n",
       "      <th>Northeast</th>\n",
       "      <td>1308807</td>\n",
       "      <td>1486808</td>\n",
       "      <td>1461393</td>\n",
       "      <td>1207677</td>\n",
       "    </tr>\n",
       "    <tr>\n",
       "      <th>South</th>\n",
       "      <td>2442801</td>\n",
       "      <td>2849538</td>\n",
       "      <td>2797656</td>\n",
       "      <td>2221144</td>\n",
       "    </tr>\n",
       "    <tr>\n",
       "      <th>West</th>\n",
       "      <td>1886804</td>\n",
       "      <td>2209921</td>\n",
       "      <td>2090426</td>\n",
       "      <td>1740076</td>\n",
       "    </tr>\n",
       "  </tbody>\n",
       "</table>\n",
       "</div>"
      ],
      "text/plain": [
       "income_category     High      Low  Middle-class  Upper-mid-class\n",
       "region                                                          \n",
       "Midwest          1763002  1974266       1887154          1637091\n",
       "Northeast        1308807  1486808       1461393          1207677\n",
       "South            2442801  2849538       2797656          2221144\n",
       "West             1886804  2209921       2090426          1740076"
      ]
     },
     "execution_count": 67,
     "metadata": {},
     "output_type": "execute_result"
    }
   ],
   "source": [
    "# Stacked-bar chart of 'income_category' column in different regions\n",
    "\n",
    "crosstab_income_region = pd.crosstab (cstmrs['region'],cstmrs['income_category'], dropna = False)\n",
    "crosstab_income_region"
   ]
  },
  {
   "cell_type": "code",
   "execution_count": 68,
   "id": "a849c247",
   "metadata": {},
   "outputs": [],
   "source": [
    "ct_bybs = pd.crosstab(cstmrs['region'], cstmrs['Has_babies'], dropna = False)"
   ]
  },
  {
   "cell_type": "code",
   "execution_count": 69,
   "id": "6df27716",
   "metadata": {},
   "outputs": [
    {
     "data": {
      "image/png": "[encoded data removed]",
      "text/plain": [
       "<Figure size 432x288 with 1 Axes>"
      ]
     },
     "metadata": {
      "needs_background": "light"
     },
     "output_type": "display_data"
    }
   ],
   "source": [
    "bar_bybs = ct_bybs.plot(kind = 'bar', stacked = True, color= ['mediumturquoise', 'gold'])\n",
    "bar_bybs.legend(title='Family Status', bbox_to_anchor=(0.02, 1.0), loc='upper left', labels=['No Baby', 'Has Baby'], fontsize = 9)\n",
    "plt.title('Instacart Family Status by US Region', fontsize = 18, pad=20)\n",
    "plt.ylabel('Frequency (in millions)', fontsize = 12)\n",
    "plt.xlabel('Region',  fontsize = 12)\n",
    "plt.xticks(rotation=80, fontsize = 8)\n",
    "\n",
    "# Annotating the stacked bar chart\n",
    "\n",
    "# Get the total for each row\n",
    "total = ct_bybs.sum(axis=1)\n",
    "\n",
    "# Calculate the percent for each row\n",
    "per = ct_bybs.div(total, axis=0).mul(100).round(1)\n",
    "\n",
    "# Iterate through the containers\n",
    "for c in bar_bybs.containers:\n",
    "    \n",
    "    # Get the current segment label (a string); corresponds to column / legend\n",
    "    label = c.get_label()\n",
    "    \n",
    "    # Create custom labels with the bar height and the percent from the per column\n",
    "    labels = [f'{row}%'if v.get_height() > 0 else '' for v, row in zip(c,per[(label)])]\n",
    "    \n",
    "    # Add the annotation\n",
    "    bar_bybs.bar_label(c, labels=labels, label_type='center', fontsize = 8, rotation = 0,  fontweight= 'normal', padding = 2)  \n"
   ]
  },
  {
   "cell_type": "code",
   "execution_count": 70,
   "id": "f8107d56",
   "metadata": {},
   "outputs": [],
   "source": [
    "# Export\n",
    "bar_bybs.figure.savefig(os.path.join(path, '04 Analysis', 'Visualizations','baby_fams_regional_barchart.png'), bbox_inches = 'tight')"
   ]
  },
  {
   "cell_type": "markdown",
   "id": "1af0ffa0",
   "metadata": {},
   "source": [
    "< 2% of Instacart families have babies"
   ]
  },
  {
   "cell_type": "markdown",
   "id": "215efe3a",
   "metadata": {},
   "source": [
    "Alcohol Drinkers"
   ]
  },
  {
   "cell_type": "code",
   "execution_count": 71,
   "id": "67d038cd",
   "metadata": {},
   "outputs": [],
   "source": [
    "# Create a profile for customers that drink alcohol\n",
    "cstmrs.loc[cstmrs['department_id'] ==5, 'profile'] = 'Alcohol Drinkers'"
   ]
  },
  {
   "cell_type": "markdown",
   "id": "d22a8f39",
   "metadata": {},
   "source": [
    "Meat-eating Customers"
   ]
  },
  {
   "cell_type": "code",
   "execution_count": 72,
   "id": "8f701e41",
   "metadata": {},
   "outputs": [],
   "source": [
    "# Create a profile for customers that eat meat \n",
    "cstmrs.loc[cstmrs['department_id'] ==11, 'profile'] = 'Meat Eaters'"
   ]
  },
  {
   "cell_type": "markdown",
   "id": "d337a84a",
   "metadata": {},
   "source": [
    "Snack Eaters"
   ]
  },
  {
   "cell_type": "code",
   "execution_count": 73,
   "id": "f0943ba3",
   "metadata": {},
   "outputs": [],
   "source": [
    "# Create a profile for customers that buy snacks\n",
    "cstmrs.loc[cstmrs['department_id'] ==19, 'profile'] = 'Snackers'"
   ]
  },
  {
   "cell_type": "markdown",
   "id": "2509fe95",
   "metadata": {},
   "source": [
    "Has babies"
   ]
  },
  {
   "cell_type": "code",
   "execution_count": 74,
   "id": "c98598fb",
   "metadata": {},
   "outputs": [],
   "source": [
    "# Create a profile for customers with babies\n",
    "cstmrs.loc[(cstmrs['n_dependants'] > 0) & (cstmrs['department_id'] == 18), 'profile'] = 'Has Babies'"
   ]
  },
  {
   "cell_type": "markdown",
   "id": "81c5b521",
   "metadata": {},
   "source": [
    "Income of Families"
   ]
  },
  {
   "cell_type": "code",
   "execution_count": 75,
   "id": "9a96de13",
   "metadata": {},
   "outputs": [],
   "source": [
    "# Create a profile for high income families \n",
    "cstmrs.loc[(cstmrs['n_dependants'] > 1) & (cstmrs['income'] > 128102), 'profile'] = 'High-Income Family'"
   ]
  },
  {
   "cell_type": "code",
   "execution_count": 76,
   "id": "01fb9012",
   "metadata": {},
   "outputs": [],
   "source": [
    "# Create a profile for average income families\n",
    "cstmrs.loc[(cstmrs['n_dependants'] > 1) & (cstmrs['income'] >67292) & (cstmrs['income'] < 128102), 'profile'] = 'Average-Income Family'"
   ]
  },
  {
   "cell_type": "code",
   "execution_count": 77,
   "id": "30142f76",
   "metadata": {},
   "outputs": [],
   "source": [
    "# Create a profile for low income families\n",
    "cstmrs.loc[(cstmrs['n_dependants'] > 1) & (cstmrs['income'] < 67292), 'profile'] = 'Low-Income Family'"
   ]
  },
  {
   "cell_type": "code",
   "execution_count": 78,
   "id": "5e5867ec",
   "metadata": {},
   "outputs": [],
   "source": [
    "# Create a profile for high income single adults without children\n",
    "cstmrs.loc[(cstmrs['fam_status'] == 'single') & (cstmrs ['n_dependants'] == 0) & (cstmrs['income'] > 128102) , 'profile'] = 'Rich Single Adult'"
   ]
  },
  {
   "cell_type": "markdown",
   "id": "86f912b6",
   "metadata": {},
   "source": [
    "Income of Retired"
   ]
  },
  {
   "cell_type": "code",
   "execution_count": 79,
   "id": "bd462e22",
   "metadata": {},
   "outputs": [],
   "source": [
    "# Create a profile for rich retired \n",
    "cstmrs.loc[(cstmrs['income'] > 128102) & (cstmrs['Age'] > 65),'profile'] ='Rich Retired'"
   ]
  },
  {
   "cell_type": "code",
   "execution_count": 80,
   "id": "60d47090",
   "metadata": {},
   "outputs": [],
   "source": [
    "# Create a profile for average retired \n",
    "cstmrs.loc[(cstmrs['income'] > 67292) & (cstmrs['income'] < 128102) & (cstmrs['Age'] < 65), 'profile'] = 'Average Retired'"
   ]
  },
  {
   "cell_type": "code",
   "execution_count": 81,
   "id": "d5feb101",
   "metadata": {},
   "outputs": [],
   "source": [
    "# Create a profile for poor retired\n",
    "cstmrs.loc[(cstmrs['income'] < 67292) & (cstmrs['Age'] > 65),'profile'] ='Poor Retired'"
   ]
  },
  {
   "cell_type": "markdown",
   "id": "fa7b0a03",
   "metadata": {},
   "source": [
    "Pet Owners"
   ]
  },
  {
   "cell_type": "code",
   "execution_count": 82,
   "id": "ebc09453",
   "metadata": {},
   "outputs": [],
   "source": [
    "# Create a profile for pet owners\n",
    "cstmrs.loc[cstmrs['department_id'] ==8, 'profile'] = 'Pet Owners'"
   ]
  },
  {
   "cell_type": "code",
   "execution_count": 83,
   "id": "dd51c533",
   "metadata": {},
   "outputs": [],
   "source": [
    "# Fill NaN as \"Other\"\n",
    "cstmrs['profile'] = cstmrs['profile'].fillna('Other')"
   ]
  },
  {
   "cell_type": "code",
   "execution_count": 84,
   "id": "c89b7cc6",
   "metadata": {},
   "outputs": [
    {
     "data": {
      "text/plain": [
       "Average Retired          11443704\n",
       "Other                     5961766\n",
       "Low-Income Family         3378392\n",
       "Rich Retired              2946712\n",
       "High-Income Family        2368980\n",
       "Average-Income Family     2011746\n",
       "Poor Retired               993651\n",
       "Rich Single Adult          929337\n",
       "Snackers                   664874\n",
       "Meat Eaters                 93384\n",
       "Pet Owners                  93060\n",
       "Has Babies                  47151\n",
       "Alcohol Drinkers            31807\n",
       "Name: profile, dtype: int64"
      ]
     },
     "execution_count": 84,
     "metadata": {},
     "output_type": "execute_result"
    }
   ],
   "source": [
    "cstmrs['profile'].value_counts(dropna = False)"
   ]
  },
  {
   "cell_type": "code",
   "execution_count": 85,
   "id": "4002b9a4",
   "metadata": {},
   "outputs": [
    {
     "data": {
      "text/html": [
       "<svg  width=\"715\" height=\"55\"><rect x=\"0\" y=\"0\" width=\"55\" height=\"55\" style=\"fill:#8ac4d0;stroke-width:2;stroke:rgb(255,255,255)\"/><rect x=\"55\" y=\"0\" width=\"55\" height=\"55\" style=\"fill:#55a3cd;stroke-width:2;stroke:rgb(255,255,255)\"/><rect x=\"110\" y=\"0\" width=\"55\" height=\"55\" style=\"fill:#377fd0;stroke-width:2;stroke:rgb(255,255,255)\"/><rect x=\"165\" y=\"0\" width=\"55\" height=\"55\" style=\"fill:#4954b0;stroke-width:2;stroke:rgb(255,255,255)\"/><rect x=\"220\" y=\"0\" width=\"55\" height=\"55\" style=\"fill:#3d3b6d;stroke-width:2;stroke:rgb(255,255,255)\"/><rect x=\"275\" y=\"0\" width=\"55\" height=\"55\" style=\"fill:#282739;stroke-width:2;stroke:rgb(255,255,255)\"/><rect x=\"330\" y=\"0\" width=\"55\" height=\"55\" style=\"fill:#1f1e1e;stroke-width:2;stroke:rgb(255,255,255)\"/><rect x=\"385\" y=\"0\" width=\"55\" height=\"55\" style=\"fill:#3b2127;stroke-width:2;stroke:rgb(255,255,255)\"/><rect x=\"440\" y=\"0\" width=\"55\" height=\"55\" style=\"fill:#672a39;stroke-width:2;stroke:rgb(255,255,255)\"/><rect x=\"495\" y=\"0\" width=\"55\" height=\"55\" style=\"fill:#9c2f45;stroke-width:2;stroke:rgb(255,255,255)\"/><rect x=\"550\" y=\"0\" width=\"55\" height=\"55\" style=\"fill:#ce4338;stroke-width:2;stroke:rgb(255,255,255)\"/><rect x=\"605\" y=\"0\" width=\"55\" height=\"55\" style=\"fill:#e96f36;stroke-width:2;stroke:rgb(255,255,255)\"/><rect x=\"660\" y=\"0\" width=\"55\" height=\"55\" style=\"fill:#f5a36a;stroke-width:2;stroke:rgb(255,255,255)\"/></svg>"
      ],
      "text/plain": [
       "[(0.54052516, 0.76927562, 0.81491462),\n",
       " (0.33355526, 0.64107876, 0.80445484),\n",
       " (0.21372783, 0.49630865, 0.81589566),\n",
       " (0.28708711, 0.32912157, 0.69034504),\n",
       " (0.23967922, 0.23067729, 0.4260591),\n",
       " (0.15652427, 0.15348248, 0.22238175),\n",
       " (0.12284806, 0.1179729, 0.11772022),\n",
       " (0.22994394, 0.13076731, 0.15146314),\n",
       " (0.40444332, 0.16588767, 0.22434027),\n",
       " (0.61319563, 0.1824336, 0.2687872),\n",
       " (0.80630444, 0.26198807, 0.22040877),\n",
       " (0.91463791, 0.43668557, 0.21367954),\n",
       " (0.9615041, 0.6375203, 0.41474106)]"
      ]
     },
     "execution_count": 85,
     "metadata": {},
     "output_type": "execute_result"
    }
   ],
   "source": [
    "sns.color_palette('icefire', 13)"
   ]
  },
  {
   "cell_type": "code",
   "execution_count": 86,
   "id": "ee4007ab",
   "metadata": {},
   "outputs": [],
   "source": [
    "bar = pd.DataFrame({'Instacart Customers in Millions':[1,2,3,4,5], 'Customer Profiles':[10,5,2,4,5]})"
   ]
  },
  {
   "cell_type": "code",
   "execution_count": 87,
   "id": "38a22402",
   "metadata": {},
   "outputs": [
    {
     "data": {
      "text/plain": [
       "Text(0.5, 0, 'Customer Profiles')"
      ]
     },
     "execution_count": 87,
     "metadata": {},
     "output_type": "execute_result"
    },
    {
     "data": {
      "image/png": "[encoded data removed]",
      "text/plain": [
       "<Figure size 1008x648 with 1 Axes>"
      ]
     },
     "metadata": {
      "needs_background": "light"
     },
     "output_type": "display_data"
    }
   ],
   "source": [
    "# Creating a barchart with the new profiles\n",
    "bar = cstmrs['profile'].value_counts().plot.bar(rot=30, figsize = (14,9), color = 'lightgreen')\n",
    "plt.ylabel ('Instacart Customers (in Milions)')\n",
    "plt.xlabel ('Customer Profiles')"
   ]
  },
  {
   "cell_type": "code",
   "execution_count": 88,
   "id": "a1676acf",
   "metadata": {},
   "outputs": [],
   "source": [
    "# Saving the bar chart\n",
    "bar.figure.savefig(os.path.join(path, '04 Analysis', 'Visualizations','customer_profiles_barchart.png'),bbox_inches = 'tight')"
   ]
  },
  {
   "cell_type": "markdown",
   "id": "8bdaab6d",
   "metadata": {},
   "source": [
    "Pet Owner Customers"
   ]
  },
  {
   "cell_type": "code",
   "execution_count": 89,
   "id": "b732b398",
   "metadata": {},
   "outputs": [],
   "source": [
    "# Creating pet_owner column\n",
    "\n",
    "cstmrs.loc[cstmrs['department'] == 'pets', 'pet_owner'] = 'Yes'\n",
    "cstmrs.loc[cstmrs['department'] != 'pets', 'pet_owner'] = 'No'"
   ]
  },
  {
   "cell_type": "code",
   "execution_count": 90,
   "id": "3a891351",
   "metadata": {},
   "outputs": [
    {
     "data": {
      "text/plain": [
       "(30964564, 40)"
      ]
     },
     "execution_count": 90,
     "metadata": {},
     "output_type": "execute_result"
    }
   ],
   "source": [
    "cstmrs.shape"
   ]
  },
  {
   "cell_type": "code",
   "execution_count": 91,
   "id": "61e7778b",
   "metadata": {},
   "outputs": [
    {
     "data": {
      "text/plain": [
       "No     30871504\n",
       "Yes       93060\n",
       "Name: pet_owner, dtype: int64"
      ]
     },
     "execution_count": 91,
     "metadata": {},
     "output_type": "execute_result"
    }
   ],
   "source": [
    "cstmrs['pet_owner'].value_counts(dropna= False)"
   ]
  },
  {
   "cell_type": "code",
   "execution_count": 92,
   "id": "600b4cd0",
   "metadata": {},
   "outputs": [
    {
     "data": {
      "text/plain": [
       "Text(0.5, 1.0, 'Pet Owners & Non-Pet Customers')"
      ]
     },
     "execution_count": 92,
     "metadata": {},
     "output_type": "execute_result"
    },
    {
     "data": {
      "image/png": "[encoded data removed]",
      "text/plain": [
       "<Figure size 432x288 with 1 Axes>"
      ]
     },
     "metadata": {},
     "output_type": "display_data"
    }
   ],
   "source": [
    "# Drawing a pie chart of Pet Owners\n",
    "\n",
    "pet_pie = cstmrs['pet_owner'].value_counts().plot.pie(labels = ['No Pets','Has Pets'], autopct=('%1.f%%'), colors = ['turquoise','gold'], label = '', explode = [0,0.2])\n",
    "pet_pie.legend(title = 'Pet Customer Status: ', loc = 'lower right')\n",
    "plt.title( 'Pet Owners & Non-Pet Customers', fontsize= '18')"
   ]
  },
  {
   "cell_type": "code",
   "execution_count": 93,
   "id": "c26cc8b3",
   "metadata": {},
   "outputs": [],
   "source": [
    "# Exporting Pet pie chart in .png format\n",
    "\n",
    "pet_pie.figure.savefig(os.path.join(path, '04 Analysis', 'Visualizations', 'pet_pie'), bbox_inches='tight')"
   ]
  },
  {
   "cell_type": "markdown",
   "id": "05099567",
   "metadata": {},
   "source": [
    "Vegetarians "
   ]
  },
  {
   "cell_type": "code",
   "execution_count": 94,
   "id": "37973b55",
   "metadata": {},
   "outputs": [
    {
     "data": {
      "text/plain": [
       "['Yes',\n",
       " 'Yes',\n",
       " 'Yes',\n",
       " 'Yes',\n",
       " 'Yes',\n",
       " 'Yes',\n",
       " 'Yes',\n",
       " 'Yes',\n",
       " 'Yes',\n",
       " 'Yes',\n",
       " 'Yes',\n",
       " 'Yes',\n",
       " 'Yes',\n",
       " 'Yes',\n",
       " 'Yes',\n",
       " 'Yes',\n",
       " 'Yes',\n",
       " 'Yes',\n",
       " 'Yes',\n",
       " 'Yes',\n",
       " 'Yes',\n",
       " 'Yes',\n",
       " 'Yes',\n",
       " 'Yes',\n",
       " 'Yes',\n",
       " 'Yes',\n",
       " 'Yes',\n",
       " 'Yes',\n",
       " 'Yes',\n",
       " 'Yes',\n",
       " 'Yes',\n",
       " 'Yes',\n",
       " 'Yes',\n",
       " 'Yes',\n",
       " 'Yes',\n",
       " 'Yes',\n",
       " 'Yes',\n",
       " 'Yes',\n",
       " 'Yes',\n",
       " 'Yes',\n",
       " 'Yes',\n",
       " 'Yes',\n",
       " 'Yes',\n",
       " 'Yes',\n",
       " 'Yes',\n",
       " 'Yes',\n",
       " 'Yes',\n",
       " 'Yes',\n",
       " 'Yes',\n",
       " 'Yes',\n",
       " 'Yes',\n",
       " 'Yes',\n",
       " 'Yes',\n",
       " 'Yes',\n",
       " 'Yes',\n",
       " 'Yes',\n",
       " 'Yes',\n",
       " 'Yes',\n",
       " 'Yes',\n",
       " 'Yes',\n",
       " 'Yes',\n",
       " 'Yes',\n",
       " 'Yes',\n",
       " 'Yes',\n",
       " 'Yes',\n",
       " 'Yes',\n",
       " 'Yes',\n",
       " 'Yes',\n",
       " 'Yes',\n",
       " 'Yes',\n",
       " 'Yes',\n",
       " 'Yes',\n",
       " 'Yes',\n",
       " 'Yes',\n",
       " 'Yes',\n",
       " 'Yes',\n",
       " 'Yes',\n",
       " 'Yes',\n",
       " 'Yes',\n",
       " 'Yes',\n",
       " 'Yes',\n",
       " 'Yes',\n",
       " 'Yes',\n",
       " 'Yes',\n",
       " 'Yes',\n",
       " 'Yes',\n",
       " 'Yes',\n",
       " 'Yes',\n",
       " 'Yes',\n",
       " 'Yes',\n",
       " 'Yes',\n",
       " 'Yes',\n",
       " 'Yes',\n",
       " 'Yes',\n",
       " 'Yes',\n",
       " 'Yes',\n",
       " 'Yes',\n",
       " 'Yes',\n",
       " 'Yes',\n",
       " 'Yes',\n",
       " 'Yes',\n",
       " 'Yes',\n",
       " 'Yes',\n",
       " 'Yes',\n",
       " 'Yes',\n",
       " 'Yes',\n",
       " 'Yes',\n",
       " 'Yes',\n",
       " 'Yes',\n",
       " 'Yes',\n",
       " 'Yes',\n",
       " 'Yes',\n",
       " 'Yes',\n",
       " 'Yes',\n",
       " 'Yes',\n",
       " 'Yes',\n",
       " 'Yes',\n",
       " 'Yes',\n",
       " 'Yes',\n",
       " 'Yes',\n",
       " 'Yes',\n",
       " 'Yes',\n",
       " 'Yes',\n",
       " 'Yes',\n",
       " 'Yes',\n",
       " 'Yes',\n",
       " 'Yes',\n",
       " 'Yes',\n",
       " 'Yes',\n",
       " 'Yes',\n",
       " 'Yes',\n",
       " 'Yes',\n",
       " 'Yes',\n",
       " 'Yes',\n",
       " 'Yes',\n",
       " 'Yes',\n",
       " 'Yes',\n",
       " 'Yes',\n",
       " 'Yes',\n",
       " 'Yes',\n",
       " 'Yes',\n",
       " 'Yes',\n",
       " 'Yes',\n",
       " 'Yes',\n",
       " 'Yes',\n",
       " 'Yes',\n",
       " 'Yes',\n",
       " 'Yes',\n",
       " 'Yes',\n",
       " 'Yes',\n",
       " 'Yes',\n",
       " 'Yes',\n",
       " 'Yes',\n",
       " 'Yes',\n",
       " 'Yes',\n",
       " 'Yes',\n",
       " 'Yes',\n",
       " 'Yes',\n",
       " 'Yes',\n",
       " 'Yes',\n",
       " 'Yes',\n",
       " 'Yes',\n",
       " 'Yes',\n",
       " 'Yes',\n",
       " 'Yes',\n",
       " 'Yes',\n",
       " 'Yes',\n",
       " 'Yes',\n",
       " 'Yes',\n",
       " 'Yes',\n",
       " 'Yes',\n",
       " 'Yes',\n",
       " 'Yes',\n",
       " 'Yes',\n",
       " 'Yes',\n",
       " 'Yes',\n",
       " 'Yes',\n",
       " 'Yes',\n",
       " 'Yes',\n",
       " 'Yes',\n",
       " 'Yes',\n",
       " 'Yes',\n",
       " 'Yes',\n",
       " 'Yes',\n",
       " 'Yes',\n",
       " 'Yes',\n",
       " 'Yes',\n",
       " 'Yes',\n",
       " 'Yes',\n",
       " 'Yes',\n",
       " 'Yes',\n",
       " 'Yes',\n",
       " 'Yes',\n",
       " 'Yes',\n",
       " 'Yes',\n",
       " 'Yes',\n",
       " 'Yes',\n",
       " 'Yes',\n",
       " 'Yes',\n",
       " 'Yes',\n",
       " 'Yes',\n",
       " 'Yes',\n",
       " 'Yes',\n",
       " 'Yes',\n",
       " 'Yes',\n",
       " 'No',\n",
       " 'No',\n",
       " 'No',\n",
       " 'Yes',\n",
       " 'Yes',\n",
       " 'Yes',\n",
       " 'Yes',\n",
       " 'Yes',\n",
       " 'Yes',\n",
       " 'Yes',\n",
       " 'Yes',\n",
       " 'Yes',\n",
       " 'Yes',\n",
       " 'Yes',\n",
       " 'Yes',\n",
       " 'Yes',\n",
       " 'Yes',\n",
       " 'Yes',\n",
       " 'Yes',\n",
       " 'Yes',\n",
       " 'Yes',\n",
       " 'Yes',\n",
       " 'Yes',\n",
       " 'Yes',\n",
       " 'Yes',\n",
       " 'Yes',\n",
       " 'No',\n",
       " 'Yes',\n",
       " 'Yes',\n",
       " 'Yes',\n",
       " 'Yes',\n",
       " 'Yes',\n",
       " 'Yes',\n",
       " 'Yes',\n",
       " 'Yes',\n",
       " 'Yes',\n",
       " 'Yes',\n",
       " 'Yes',\n",
       " 'Yes',\n",
       " 'No',\n",
       " 'Yes',\n",
       " 'Yes',\n",
       " 'Yes',\n",
       " 'Yes',\n",
       " 'Yes',\n",
       " 'Yes',\n",
       " 'Yes',\n",
       " 'Yes',\n",
       " 'Yes',\n",
       " 'Yes',\n",
       " 'Yes',\n",
       " 'Yes',\n",
       " 'Yes',\n",
       " 'Yes',\n",
       " 'Yes',\n",
       " 'Yes',\n",
       " 'Yes',\n",
       " 'Yes',\n",
       " 'Yes',\n",
       " 'Yes',\n",
       " 'Yes',\n",
       " 'Yes',\n",
       " 'Yes',\n",
       " 'Yes',\n",
       " 'Yes',\n",
       " 'Yes',\n",
       " 'Yes',\n",
       " 'Yes',\n",
       " 'Yes',\n",
       " 'Yes',\n",
       " 'No',\n",
       " 'Yes',\n",
       " 'Yes',\n",
       " 'No',\n",
       " 'Yes',\n",
       " 'Yes',\n",
       " 'Yes',\n",
       " 'Yes',\n",
       " 'Yes',\n",
       " 'Yes',\n",
       " 'Yes',\n",
       " 'Yes',\n",
       " 'Yes',\n",
       " 'Yes',\n",
       " 'Yes',\n",
       " 'Yes',\n",
       " 'Yes',\n",
       " 'Yes',\n",
       " 'Yes',\n",
       " 'Yes',\n",
       " 'Yes',\n",
       " 'Yes',\n",
       " 'Yes',\n",
       " 'Yes',\n",
       " 'Yes',\n",
       " 'Yes',\n",
       " 'Yes',\n",
       " 'Yes',\n",
       " 'Yes',\n",
       " 'Yes',\n",
       " 'Yes',\n",
       " 'No',\n",
       " 'Yes',\n",
       " 'No',\n",
       " 'No',\n",
       " 'Yes',\n",
       " 'Yes',\n",
       " 'Yes',\n",
       " 'Yes',\n",
       " 'Yes',\n",
       " 'Yes',\n",
       " 'Yes',\n",
       " 'Yes',\n",
       " 'No',\n",
       " 'Yes',\n",
       " 'Yes',\n",
       " 'Yes',\n",
       " 'Yes',\n",
       " 'Yes',\n",
       " 'Yes',\n",
       " 'Yes',\n",
       " 'Yes',\n",
       " 'Yes',\n",
       " 'Yes',\n",
       " 'Yes',\n",
       " 'Yes',\n",
       " 'Yes',\n",
       " 'Yes',\n",
       " 'Yes',\n",
       " 'Yes',\n",
       " 'Yes',\n",
       " 'Yes',\n",
       " 'Yes',\n",
       " 'Yes',\n",
       " 'Yes',\n",
       " 'Yes',\n",
       " 'Yes',\n",
       " 'Yes',\n",
       " 'Yes',\n",
       " 'Yes',\n",
       " 'Yes',\n",
       " 'Yes',\n",
       " 'Yes',\n",
       " 'Yes',\n",
       " 'Yes',\n",
       " 'Yes',\n",
       " 'Yes',\n",
       " 'Yes',\n",
       " 'Yes',\n",
       " 'Yes',\n",
       " 'Yes',\n",
       " 'Yes',\n",
       " 'Yes',\n",
       " 'Yes',\n",
       " 'Yes',\n",
       " 'Yes',\n",
       " 'Yes',\n",
       " 'Yes',\n",
       " 'Yes',\n",
       " 'Yes',\n",
       " 'Yes',\n",
       " 'Yes',\n",
       " 'Yes',\n",
       " 'Yes',\n",
       " 'Yes',\n",
       " 'Yes',\n",
       " 'Yes',\n",
       " 'Yes',\n",
       " 'Yes',\n",
       " 'Yes',\n",
       " 'Yes',\n",
       " 'Yes',\n",
       " 'Yes',\n",
       " 'Yes',\n",
       " 'Yes',\n",
       " 'Yes',\n",
       " 'Yes',\n",
       " 'Yes',\n",
       " 'Yes',\n",
       " 'Yes',\n",
       " 'Yes',\n",
       " 'Yes',\n",
       " 'Yes',\n",
       " 'Yes',\n",
       " 'Yes',\n",
       " 'Yes',\n",
       " 'Yes',\n",
       " 'Yes',\n",
       " 'Yes',\n",
       " 'Yes',\n",
       " 'Yes',\n",
       " 'Yes',\n",
       " 'Yes',\n",
       " 'Yes',\n",
       " 'Yes',\n",
       " 'Yes',\n",
       " 'Yes',\n",
       " 'Yes',\n",
       " 'Yes',\n",
       " 'Yes',\n",
       " 'Yes',\n",
       " 'Yes',\n",
       " 'Yes',\n",
       " 'Yes',\n",
       " 'Yes',\n",
       " 'Yes',\n",
       " 'Yes',\n",
       " 'Yes',\n",
       " 'Yes',\n",
       " 'Yes',\n",
       " 'Yes',\n",
       " 'Yes',\n",
       " 'Yes',\n",
       " 'Yes',\n",
       " 'Yes',\n",
       " 'Yes',\n",
       " 'Yes',\n",
       " 'Yes',\n",
       " 'Yes',\n",
       " 'Yes',\n",
       " 'Yes',\n",
       " 'Yes',\n",
       " 'Yes',\n",
       " 'Yes',\n",
       " 'Yes',\n",
       " 'Yes',\n",
       " 'Yes',\n",
       " 'Yes',\n",
       " 'Yes',\n",
       " 'Yes',\n",
       " 'Yes',\n",
       " 'Yes',\n",
       " 'Yes',\n",
       " 'Yes',\n",
       " 'Yes',\n",
       " 'Yes',\n",
       " 'Yes',\n",
       " 'Yes',\n",
       " 'Yes',\n",
       " 'Yes',\n",
       " 'Yes',\n",
       " 'Yes',\n",
       " 'Yes',\n",
       " 'Yes',\n",
       " 'Yes',\n",
       " 'Yes',\n",
       " 'Yes',\n",
       " 'Yes',\n",
       " 'Yes',\n",
       " 'Yes',\n",
       " 'Yes',\n",
       " 'Yes',\n",
       " 'Yes',\n",
       " 'Yes',\n",
       " 'Yes',\n",
       " 'Yes',\n",
       " 'Yes',\n",
       " 'Yes',\n",
       " 'Yes',\n",
       " 'Yes',\n",
       " 'Yes',\n",
       " 'Yes',\n",
       " 'Yes',\n",
       " 'Yes',\n",
       " 'Yes',\n",
       " 'Yes',\n",
       " 'Yes',\n",
       " 'Yes',\n",
       " 'Yes',\n",
       " 'Yes',\n",
       " 'Yes',\n",
       " 'Yes',\n",
       " 'Yes',\n",
       " 'Yes',\n",
       " 'Yes',\n",
       " 'Yes',\n",
       " 'Yes',\n",
       " 'Yes',\n",
       " 'Yes',\n",
       " 'Yes',\n",
       " 'Yes',\n",
       " 'Yes',\n",
       " 'Yes',\n",
       " 'Yes',\n",
       " 'Yes',\n",
       " 'Yes',\n",
       " 'Yes',\n",
       " 'Yes',\n",
       " 'Yes',\n",
       " 'Yes',\n",
       " 'Yes',\n",
       " 'Yes',\n",
       " 'Yes',\n",
       " 'Yes',\n",
       " 'Yes',\n",
       " 'Yes',\n",
       " 'Yes',\n",
       " 'Yes',\n",
       " 'Yes',\n",
       " 'Yes',\n",
       " 'Yes',\n",
       " 'Yes',\n",
       " 'Yes',\n",
       " 'Yes',\n",
       " 'Yes',\n",
       " 'Yes',\n",
       " 'Yes',\n",
       " 'Yes',\n",
       " 'Yes',\n",
       " 'Yes',\n",
       " 'Yes',\n",
       " 'Yes',\n",
       " 'Yes',\n",
       " 'Yes',\n",
       " 'Yes',\n",
       " 'Yes',\n",
       " 'Yes',\n",
       " 'Yes',\n",
       " 'Yes',\n",
       " 'Yes',\n",
       " 'Yes',\n",
       " 'Yes',\n",
       " 'Yes',\n",
       " 'Yes',\n",
       " 'Yes',\n",
       " 'Yes',\n",
       " 'Yes',\n",
       " 'Yes',\n",
       " 'Yes',\n",
       " 'Yes',\n",
       " 'No',\n",
       " 'Yes',\n",
       " 'Yes',\n",
       " 'Yes',\n",
       " 'Yes',\n",
       " 'Yes',\n",
       " 'Yes',\n",
       " 'Yes',\n",
       " 'Yes',\n",
       " 'Yes',\n",
       " 'Yes',\n",
       " 'Yes',\n",
       " 'Yes',\n",
       " 'Yes',\n",
       " 'Yes',\n",
       " 'Yes',\n",
       " 'Yes',\n",
       " 'Yes',\n",
       " 'Yes',\n",
       " 'Yes',\n",
       " 'Yes',\n",
       " 'Yes',\n",
       " 'Yes',\n",
       " 'Yes',\n",
       " 'Yes',\n",
       " 'Yes',\n",
       " 'Yes',\n",
       " 'Yes',\n",
       " 'Yes',\n",
       " 'Yes',\n",
       " 'Yes',\n",
       " 'Yes',\n",
       " 'Yes',\n",
       " 'Yes',\n",
       " 'Yes',\n",
       " 'Yes',\n",
       " 'Yes',\n",
       " 'Yes',\n",
       " 'Yes',\n",
       " 'Yes',\n",
       " 'Yes',\n",
       " 'Yes',\n",
       " 'Yes',\n",
       " 'Yes',\n",
       " 'Yes',\n",
       " 'Yes',\n",
       " 'Yes',\n",
       " 'Yes',\n",
       " 'Yes',\n",
       " 'Yes',\n",
       " 'Yes',\n",
       " 'Yes',\n",
       " 'No',\n",
       " 'Yes',\n",
       " 'Yes',\n",
       " 'Yes',\n",
       " 'Yes',\n",
       " 'Yes',\n",
       " 'Yes',\n",
       " 'Yes',\n",
       " 'Yes',\n",
       " 'Yes',\n",
       " 'Yes',\n",
       " 'Yes',\n",
       " 'Yes',\n",
       " 'Yes',\n",
       " 'Yes',\n",
       " 'Yes',\n",
       " 'Yes',\n",
       " 'Yes',\n",
       " 'Yes',\n",
       " 'Yes',\n",
       " 'No',\n",
       " 'No',\n",
       " 'No',\n",
       " 'No',\n",
       " 'No',\n",
       " 'No',\n",
       " 'No',\n",
       " 'No',\n",
       " 'Yes',\n",
       " 'Yes',\n",
       " 'Yes',\n",
       " 'Yes',\n",
       " 'Yes',\n",
       " 'Yes',\n",
       " 'Yes',\n",
       " 'No',\n",
       " 'No',\n",
       " 'No',\n",
       " 'Yes',\n",
       " 'Yes',\n",
       " 'Yes',\n",
       " 'Yes',\n",
       " 'Yes',\n",
       " 'Yes',\n",
       " 'Yes',\n",
       " 'Yes',\n",
       " 'Yes',\n",
       " 'Yes',\n",
       " 'Yes',\n",
       " 'Yes',\n",
       " 'Yes',\n",
       " 'Yes',\n",
       " 'Yes',\n",
       " 'No',\n",
       " 'Yes',\n",
       " 'Yes',\n",
       " 'Yes',\n",
       " 'Yes',\n",
       " 'Yes',\n",
       " 'Yes',\n",
       " 'Yes',\n",
       " 'Yes',\n",
       " 'Yes',\n",
       " 'Yes',\n",
       " 'Yes',\n",
       " 'Yes',\n",
       " 'Yes',\n",
       " 'Yes',\n",
       " 'Yes',\n",
       " 'Yes',\n",
       " 'Yes',\n",
       " 'Yes',\n",
       " 'Yes',\n",
       " 'Yes',\n",
       " 'Yes',\n",
       " 'Yes',\n",
       " 'Yes',\n",
       " 'Yes',\n",
       " 'Yes',\n",
       " 'Yes',\n",
       " 'Yes',\n",
       " 'Yes',\n",
       " 'Yes',\n",
       " 'Yes',\n",
       " 'Yes',\n",
       " 'Yes',\n",
       " 'Yes',\n",
       " 'Yes',\n",
       " 'Yes',\n",
       " 'Yes',\n",
       " 'Yes',\n",
       " 'Yes',\n",
       " 'Yes',\n",
       " 'Yes',\n",
       " 'Yes',\n",
       " 'Yes',\n",
       " 'Yes',\n",
       " 'Yes',\n",
       " 'Yes',\n",
       " 'Yes',\n",
       " 'Yes',\n",
       " 'Yes',\n",
       " 'Yes',\n",
       " 'Yes',\n",
       " 'Yes',\n",
       " 'Yes',\n",
       " 'Yes',\n",
       " 'Yes',\n",
       " 'Yes',\n",
       " 'Yes',\n",
       " 'Yes',\n",
       " 'Yes',\n",
       " 'Yes',\n",
       " 'Yes',\n",
       " 'Yes',\n",
       " 'Yes',\n",
       " 'Yes',\n",
       " 'Yes',\n",
       " 'Yes',\n",
       " 'Yes',\n",
       " 'Yes',\n",
       " 'Yes',\n",
       " 'Yes',\n",
       " 'Yes',\n",
       " 'Yes',\n",
       " 'Yes',\n",
       " 'Yes',\n",
       " 'Yes',\n",
       " 'Yes',\n",
       " 'Yes',\n",
       " 'Yes',\n",
       " 'Yes',\n",
       " 'Yes',\n",
       " 'Yes',\n",
       " 'Yes',\n",
       " 'Yes',\n",
       " 'Yes',\n",
       " 'Yes',\n",
       " 'Yes',\n",
       " 'Yes',\n",
       " 'Yes',\n",
       " 'Yes',\n",
       " 'Yes',\n",
       " 'No',\n",
       " 'Yes',\n",
       " 'Yes',\n",
       " 'Yes',\n",
       " 'Yes',\n",
       " 'No',\n",
       " 'No',\n",
       " 'No',\n",
       " 'Yes',\n",
       " 'Yes',\n",
       " 'Yes',\n",
       " 'Yes',\n",
       " 'Yes',\n",
       " 'Yes',\n",
       " 'Yes',\n",
       " 'Yes',\n",
       " 'Yes',\n",
       " 'Yes',\n",
       " 'Yes',\n",
       " 'Yes',\n",
       " 'Yes',\n",
       " 'Yes',\n",
       " 'Yes',\n",
       " 'Yes',\n",
       " 'No',\n",
       " 'No',\n",
       " 'No',\n",
       " 'No',\n",
       " 'No',\n",
       " 'No',\n",
       " 'Yes',\n",
       " 'Yes',\n",
       " 'Yes',\n",
       " 'Yes',\n",
       " 'Yes',\n",
       " 'Yes',\n",
       " 'Yes',\n",
       " 'Yes',\n",
       " 'Yes',\n",
       " 'Yes',\n",
       " 'Yes',\n",
       " 'Yes',\n",
       " 'Yes',\n",
       " 'Yes',\n",
       " 'Yes',\n",
       " 'Yes',\n",
       " 'Yes',\n",
       " 'No',\n",
       " 'No',\n",
       " 'No',\n",
       " 'No',\n",
       " 'No',\n",
       " 'No',\n",
       " 'No',\n",
       " 'Yes',\n",
       " 'Yes',\n",
       " 'Yes',\n",
       " 'Yes',\n",
       " 'Yes',\n",
       " 'Yes',\n",
       " 'Yes',\n",
       " 'Yes',\n",
       " 'Yes',\n",
       " 'Yes',\n",
       " 'Yes',\n",
       " 'Yes',\n",
       " 'Yes',\n",
       " 'Yes',\n",
       " 'Yes',\n",
       " 'Yes',\n",
       " 'Yes',\n",
       " 'Yes',\n",
       " 'Yes',\n",
       " 'Yes',\n",
       " 'No',\n",
       " 'Yes',\n",
       " 'Yes',\n",
       " 'No',\n",
       " 'Yes',\n",
       " 'Yes',\n",
       " 'Yes',\n",
       " 'Yes',\n",
       " 'Yes',\n",
       " 'Yes',\n",
       " 'Yes',\n",
       " 'Yes',\n",
       " 'Yes',\n",
       " 'No',\n",
       " 'No',\n",
       " 'No',\n",
       " 'Yes',\n",
       " 'Yes',\n",
       " 'Yes',\n",
       " 'Yes',\n",
       " 'Yes',\n",
       " 'Yes',\n",
       " 'Yes',\n",
       " 'Yes',\n",
       " 'Yes',\n",
       " 'Yes',\n",
       " 'Yes',\n",
       " 'Yes',\n",
       " 'Yes',\n",
       " 'Yes',\n",
       " 'Yes',\n",
       " 'Yes',\n",
       " 'Yes',\n",
       " 'Yes',\n",
       " 'Yes',\n",
       " 'Yes',\n",
       " 'Yes',\n",
       " 'Yes',\n",
       " 'Yes',\n",
       " 'Yes',\n",
       " 'Yes',\n",
       " 'Yes',\n",
       " 'Yes',\n",
       " 'Yes',\n",
       " 'Yes',\n",
       " 'Yes',\n",
       " 'Yes',\n",
       " 'Yes',\n",
       " 'Yes',\n",
       " 'Yes',\n",
       " 'Yes',\n",
       " 'Yes',\n",
       " 'Yes',\n",
       " 'Yes',\n",
       " 'Yes',\n",
       " 'Yes',\n",
       " 'Yes',\n",
       " 'Yes',\n",
       " 'Yes',\n",
       " 'Yes',\n",
       " 'Yes',\n",
       " 'Yes',\n",
       " 'No',\n",
       " 'No',\n",
       " 'No',\n",
       " 'Yes',\n",
       " 'Yes',\n",
       " 'Yes',\n",
       " 'Yes',\n",
       " 'Yes',\n",
       " 'Yes',\n",
       " 'Yes',\n",
       " 'Yes',\n",
       " 'Yes',\n",
       " 'Yes',\n",
       " 'Yes',\n",
       " 'Yes',\n",
       " 'Yes',\n",
       " 'Yes',\n",
       " 'Yes',\n",
       " 'Yes',\n",
       " 'Yes',\n",
       " 'Yes',\n",
       " 'Yes',\n",
       " 'Yes',\n",
       " 'Yes',\n",
       " 'Yes',\n",
       " 'Yes',\n",
       " 'Yes',\n",
       " 'Yes',\n",
       " 'Yes',\n",
       " 'Yes',\n",
       " 'Yes',\n",
       " 'Yes',\n",
       " 'Yes',\n",
       " 'Yes',\n",
       " 'Yes',\n",
       " 'Yes',\n",
       " 'Yes',\n",
       " 'Yes',\n",
       " 'Yes',\n",
       " 'Yes',\n",
       " 'Yes',\n",
       " 'Yes',\n",
       " 'Yes',\n",
       " 'Yes',\n",
       " 'Yes',\n",
       " 'Yes',\n",
       " 'Yes',\n",
       " 'Yes',\n",
       " 'Yes',\n",
       " 'Yes',\n",
       " 'Yes',\n",
       " 'Yes',\n",
       " 'Yes',\n",
       " 'Yes',\n",
       " 'Yes',\n",
       " 'Yes',\n",
       " 'Yes',\n",
       " 'Yes',\n",
       " 'Yes',\n",
       " 'Yes',\n",
       " 'Yes',\n",
       " 'Yes',\n",
       " 'Yes',\n",
       " 'Yes',\n",
       " 'Yes',\n",
       " 'Yes',\n",
       " 'Yes',\n",
       " 'Yes',\n",
       " 'Yes',\n",
       " 'Yes',\n",
       " 'Yes',\n",
       " 'Yes',\n",
       " 'Yes',\n",
       " 'Yes',\n",
       " 'Yes',\n",
       " 'Yes',\n",
       " 'Yes',\n",
       " 'Yes',\n",
       " 'Yes',\n",
       " 'Yes',\n",
       " 'Yes',\n",
       " 'Yes',\n",
       " 'Yes',\n",
       " 'Yes',\n",
       " 'Yes',\n",
       " 'Yes',\n",
       " 'Yes',\n",
       " 'Yes',\n",
       " 'Yes',\n",
       " 'Yes',\n",
       " 'Yes',\n",
       " 'Yes',\n",
       " 'Yes',\n",
       " 'Yes',\n",
       " 'Yes',\n",
       " 'Yes',\n",
       " 'Yes',\n",
       " 'Yes',\n",
       " 'Yes',\n",
       " 'Yes',\n",
       " 'Yes',\n",
       " 'Yes',\n",
       " 'Yes',\n",
       " 'Yes',\n",
       " 'Yes',\n",
       " 'Yes',\n",
       " 'Yes',\n",
       " 'Yes',\n",
       " 'Yes',\n",
       " 'No',\n",
       " 'Yes',\n",
       " 'Yes',\n",
       " 'No',\n",
       " 'Yes',\n",
       " 'Yes',\n",
       " 'Yes',\n",
       " 'Yes',\n",
       " 'Yes',\n",
       " 'Yes',\n",
       " 'Yes',\n",
       " 'Yes',\n",
       " 'Yes',\n",
       " 'Yes',\n",
       " 'Yes',\n",
       " 'Yes',\n",
       " 'Yes',\n",
       " 'Yes',\n",
       " 'Yes',\n",
       " 'Yes',\n",
       " 'Yes',\n",
       " 'Yes',\n",
       " 'Yes',\n",
       " 'Yes',\n",
       " 'Yes',\n",
       " ...]"
      ]
     },
     "execution_count": 94,
     "metadata": {},
     "output_type": "execute_result"
    }
   ],
   "source": [
    "# Create list to assign 'vegetarian' column's values. If a customer never purchased 'meat seafood' or deli, then we assume them a vegetarian.\n",
    "result = []\n",
    "for value in cstmrs['department_id']:\n",
    "    # 12 means 'meat seafood', 20 is the department_id of 'deli'\n",
    "    if value not in (12,20):\n",
    "        result.append('Yes')\n",
    "    else:\n",
    "        result.append('No')\n",
    "result"
   ]
  },
  {
   "cell_type": "code",
   "execution_count": 95,
   "id": "22c4f140",
   "metadata": {},
   "outputs": [],
   "source": [
    "# Assigning 'result' list values to 'vegetarian' column\n",
    "\n",
    "cstmrs['vegetarian'] = result"
   ]
  },
  {
   "cell_type": "code",
   "execution_count": 96,
   "id": "c84254cf",
   "metadata": {},
   "outputs": [
    {
     "data": {
      "text/plain": [
       "(30964564, 41)"
      ]
     },
     "execution_count": 96,
     "metadata": {},
     "output_type": "execute_result"
    }
   ],
   "source": [
    "cstmrs.shape"
   ]
  },
  {
   "cell_type": "code",
   "execution_count": 97,
   "id": "c846a881",
   "metadata": {},
   "outputs": [
    {
     "data": {
      "text/plain": [
       "Yes    29285949\n",
       "No      1678615\n",
       "Name: vegetarian, dtype: int64"
      ]
     },
     "execution_count": 97,
     "metadata": {},
     "output_type": "execute_result"
    }
   ],
   "source": [
    "cstmrs['vegetarian'].value_counts(dropna = False)"
   ]
  },
  {
   "cell_type": "code",
   "execution_count": 98,
   "id": "18534a0e",
   "metadata": {},
   "outputs": [
    {
     "data": {
      "text/plain": [
       "Text(0.5, 1.0, 'Vegetarian & Non-Vegetarian Customers')"
      ]
     },
     "execution_count": 98,
     "metadata": {},
     "output_type": "execute_result"
    },
    {
     "data": {
      "image/png": "[encoded data removed]",
      "text/plain": [
       "<Figure size 432x288 with 1 Axes>"
      ]
     },
     "metadata": {},
     "output_type": "display_data"
    }
   ],
   "source": [
    "# Drawing a pie chart of Vegetarians\n",
    "\n",
    "veg_pie = cstmrs['vegetarian'].value_counts().plot.pie(labels = ['Vegetarian','Non-Vegetarian'], autopct=('%1.f%%'), colors = ['turquoise','lime'], label = '', explode = [0,0.2])\n",
    "veg_pie.legend(title = 'Vegetarian Customer Status: ', loc = 'lower right')\n",
    "plt.title( 'Vegetarian & Non-Vegetarian Customers', fontsize= '18')"
   ]
  },
  {
   "cell_type": "code",
   "execution_count": 99,
   "id": "256e93d4",
   "metadata": {},
   "outputs": [],
   "source": [
    "# Exporting Vegetarian pie chart in .png format\n",
    "\n",
    "veg_pie.figure.savefig(os.path.join(path, '04 Analysis', 'Visualizations', 'veg_pie'), bbox_inches='tight')"
   ]
  },
  {
   "cell_type": "markdown",
   "id": "de2bf01c",
   "metadata": {},
   "source": [
    "Early Birds V Night Owls"
   ]
  },
  {
   "cell_type": "code",
   "execution_count": 100,
   "id": "b8fe4f37",
   "metadata": {},
   "outputs": [
    {
     "data": {
      "text/plain": [
       "0      208042\n",
       "1      109621\n",
       "2       65691\n",
       "3       48796\n",
       "4       50763\n",
       "5       84418\n",
       "6      281013\n",
       "7      863213\n",
       "8     1659110\n",
       "9     2363611\n",
       "10    2649744\n",
       "11    2614880\n",
       "12    2495795\n",
       "13    2539276\n",
       "14    2567903\n",
       "15    2535966\n",
       "16    2413681\n",
       "17    1982345\n",
       "18    1551184\n",
       "19    1193878\n",
       "20     930909\n",
       "21     763111\n",
       "22     607060\n",
       "23     384554\n",
       "Name: order_hour_of_day, dtype: int64"
      ]
     },
     "execution_count": 100,
     "metadata": {},
     "output_type": "execute_result"
    }
   ],
   "source": [
    "# Exploring the distribution of orders in 24 hours a day\n",
    "\n",
    "cstmrs['order_hour_of_day'].value_counts(dropna = False).sort_index()"
   ]
  },
  {
   "cell_type": "code",
   "execution_count": 101,
   "id": "e42da952",
   "metadata": {},
   "outputs": [],
   "source": [
    "# Create 'period_of_day' column based on order time\n",
    "\n",
    "cstmrs.loc[cstmrs['order_hour_of_day'] <5 , 'order_time_habit'] = 'Night Owl'\n",
    "cstmrs.loc[(cstmrs['order_hour_of_day']>= 9) & (cstmrs['order_hour_of_day']<= 23), 'order_time_habit'] = 'Regular'\n",
    "cstmrs.loc[(cstmrs['order_hour_of_day']>= 5) & (cstmrs['order_hour_of_day']< 9), 'order_time_habit'] = 'Early Bird'"
   ]
  },
  {
   "cell_type": "code",
   "execution_count": 102,
   "id": "871ad6b6",
   "metadata": {},
   "outputs": [
    {
     "data": {
      "text/plain": [
       "Regular       27593897\n",
       "Early Bird     2887754\n",
       "Night Owl       482913\n",
       "Name: order_time_habit, dtype: int64"
      ]
     },
     "execution_count": 102,
     "metadata": {},
     "output_type": "execute_result"
    }
   ],
   "source": [
    "cstmrs['order_time_habit'].value_counts(dropna = False)"
   ]
  },
  {
   "cell_type": "code",
   "execution_count": 103,
   "id": "37c3be44",
   "metadata": {},
   "outputs": [
    {
     "data": {
      "text/plain": [
       "Text(0.5, 0, 'Time of Order Habits')"
      ]
     },
     "execution_count": 103,
     "metadata": {},
     "output_type": "execute_result"
    },
    {
     "data": {
      "image/png": "[encoded data removed]",
      "text/plain": [
       "<Figure size 432x288 with 1 Axes>"
      ]
     },
     "metadata": {
      "needs_background": "light"
     },
     "output_type": "display_data"
    }
   ],
   "source": [
    "# Draw a bar chart of 'order_time_habit' column\n",
    "\n",
    "time_habit_bar = cstmrs['order_time_habit'].value_counts().plot.bar( color = ['blueviolet','darkorange','lime'])\n",
    "plt.title('Order Time Habits of Instacart Customers', fontsize = 18, pad=20)\n",
    "plt.ylabel('Frequency (in millions)', fontsize = 12)\n",
    "plt.xlabel('Time of Order Habits',  fontsize = 12)"
   ]
  },
  {
   "cell_type": "code",
   "execution_count": 104,
   "id": "a84c1515",
   "metadata": {},
   "outputs": [],
   "source": [
    "# Saving the bar chart\n",
    "bar.figure.savefig(os.path.join(path, '04 Analysis', 'Visualizations','customer_order_habits_barchart.png'),bbox_inches = 'tight')"
   ]
  },
  {
   "cell_type": "markdown",
   "id": "8a09a2ba",
   "metadata": {},
   "source": [
    "Aggregate the Max, Min & Mean Values"
   ]
  },
  {
   "cell_type": "code",
   "execution_count": 105,
   "id": "200ee6fd",
   "metadata": {},
   "outputs": [
    {
     "data": {
      "text/html": [
       "<div>\n",
       "<style scoped>\n",
       "    .dataframe tbody tr th:only-of-type {\n",
       "        vertical-align: middle;\n",
       "    }\n",
       "\n",
       "    .dataframe tbody tr th {\n",
       "        vertical-align: top;\n",
       "    }\n",
       "\n",
       "    .dataframe thead tr th {\n",
       "        text-align: left;\n",
       "    }\n",
       "\n",
       "    .dataframe thead tr:last-of-type th {\n",
       "        text-align: right;\n",
       "    }\n",
       "</style>\n",
       "<table border=\"1\" class=\"dataframe\">\n",
       "  <thead>\n",
       "    <tr>\n",
       "      <th></th>\n",
       "      <th colspan=\"3\" halign=\"left\">prices</th>\n",
       "      <th colspan=\"3\" halign=\"left\">days_since_prior_order</th>\n",
       "    </tr>\n",
       "    <tr>\n",
       "      <th></th>\n",
       "      <th>max</th>\n",
       "      <th>min</th>\n",
       "      <th>mean</th>\n",
       "      <th>mean</th>\n",
       "      <th>min</th>\n",
       "      <th>max</th>\n",
       "    </tr>\n",
       "    <tr>\n",
       "      <th>profile</th>\n",
       "      <th></th>\n",
       "      <th></th>\n",
       "      <th></th>\n",
       "      <th></th>\n",
       "      <th></th>\n",
       "      <th></th>\n",
       "    </tr>\n",
       "  </thead>\n",
       "  <tbody>\n",
       "    <tr>\n",
       "      <th>Alcohol Drinkers</th>\n",
       "      <td>15.0</td>\n",
       "      <td>1.0</td>\n",
       "      <td>8.032672</td>\n",
       "      <td>10.356580</td>\n",
       "      <td>0.0</td>\n",
       "      <td>30.0</td>\n",
       "    </tr>\n",
       "    <tr>\n",
       "      <th>Average Retired</th>\n",
       "      <td>25.0</td>\n",
       "      <td>1.0</td>\n",
       "      <td>7.955560</td>\n",
       "      <td>10.755851</td>\n",
       "      <td>0.0</td>\n",
       "      <td>30.0</td>\n",
       "    </tr>\n",
       "    <tr>\n",
       "      <th>Average-Income Family</th>\n",
       "      <td>25.0</td>\n",
       "      <td>1.0</td>\n",
       "      <td>7.946640</td>\n",
       "      <td>10.739723</td>\n",
       "      <td>0.0</td>\n",
       "      <td>30.0</td>\n",
       "    </tr>\n",
       "    <tr>\n",
       "      <th>Has Babies</th>\n",
       "      <td>15.0</td>\n",
       "      <td>1.0</td>\n",
       "      <td>7.633590</td>\n",
       "      <td>10.131648</td>\n",
       "      <td>0.0</td>\n",
       "      <td>30.0</td>\n",
       "    </tr>\n",
       "    <tr>\n",
       "      <th>High-Income Family</th>\n",
       "      <td>25.0</td>\n",
       "      <td>1.0</td>\n",
       "      <td>7.953846</td>\n",
       "      <td>10.810976</td>\n",
       "      <td>0.0</td>\n",
       "      <td>30.0</td>\n",
       "    </tr>\n",
       "    <tr>\n",
       "      <th>Low-Income Family</th>\n",
       "      <td>25.0</td>\n",
       "      <td>1.0</td>\n",
       "      <td>7.381677</td>\n",
       "      <td>10.927941</td>\n",
       "      <td>0.0</td>\n",
       "      <td>30.0</td>\n",
       "    </tr>\n",
       "    <tr>\n",
       "      <th>Meat Eaters</th>\n",
       "      <td>15.0</td>\n",
       "      <td>1.0</td>\n",
       "      <td>7.959153</td>\n",
       "      <td>11.404019</td>\n",
       "      <td>0.0</td>\n",
       "      <td>30.0</td>\n",
       "    </tr>\n",
       "    <tr>\n",
       "      <th>Other</th>\n",
       "      <td>25.0</td>\n",
       "      <td>1.0</td>\n",
       "      <td>8.052920</td>\n",
       "      <td>10.880050</td>\n",
       "      <td>0.0</td>\n",
       "      <td>30.0</td>\n",
       "    </tr>\n",
       "    <tr>\n",
       "      <th>Pet Owners</th>\n",
       "      <td>15.0</td>\n",
       "      <td>1.0</td>\n",
       "      <td>7.887489</td>\n",
       "      <td>11.593531</td>\n",
       "      <td>0.0</td>\n",
       "      <td>30.0</td>\n",
       "    </tr>\n",
       "    <tr>\n",
       "      <th>Poor Retired</th>\n",
       "      <td>25.0</td>\n",
       "      <td>1.0</td>\n",
       "      <td>6.704679</td>\n",
       "      <td>11.096586</td>\n",
       "      <td>0.0</td>\n",
       "      <td>30.0</td>\n",
       "    </tr>\n",
       "    <tr>\n",
       "      <th>Rich Retired</th>\n",
       "      <td>25.0</td>\n",
       "      <td>1.0</td>\n",
       "      <td>7.958318</td>\n",
       "      <td>10.718950</td>\n",
       "      <td>0.0</td>\n",
       "      <td>30.0</td>\n",
       "    </tr>\n",
       "    <tr>\n",
       "      <th>Rich Single Adult</th>\n",
       "      <td>25.0</td>\n",
       "      <td>1.0</td>\n",
       "      <td>7.932368</td>\n",
       "      <td>10.675896</td>\n",
       "      <td>0.0</td>\n",
       "      <td>30.0</td>\n",
       "    </tr>\n",
       "    <tr>\n",
       "      <th>Snackers</th>\n",
       "      <td>7.0</td>\n",
       "      <td>1.6</td>\n",
       "      <td>4.265089</td>\n",
       "      <td>10.781580</td>\n",
       "      <td>0.0</td>\n",
       "      <td>30.0</td>\n",
       "    </tr>\n",
       "  </tbody>\n",
       "</table>\n",
       "</div>"
      ],
      "text/plain": [
       "                      prices                days_since_prior_order           \n",
       "                         max  min      mean                   mean  min   max\n",
       "profile                                                                      \n",
       "Alcohol Drinkers        15.0  1.0  8.032672              10.356580  0.0  30.0\n",
       "Average Retired         25.0  1.0  7.955560              10.755851  0.0  30.0\n",
       "Average-Income Family   25.0  1.0  7.946640              10.739723  0.0  30.0\n",
       "Has Babies              15.0  1.0  7.633590              10.131648  0.0  30.0\n",
       "High-Income Family      25.0  1.0  7.953846              10.810976  0.0  30.0\n",
       "Low-Income Family       25.0  1.0  7.381677              10.927941  0.0  30.0\n",
       "Meat Eaters             15.0  1.0  7.959153              11.404019  0.0  30.0\n",
       "Other                   25.0  1.0  8.052920              10.880050  0.0  30.0\n",
       "Pet Owners              15.0  1.0  7.887489              11.593531  0.0  30.0\n",
       "Poor Retired            25.0  1.0  6.704679              11.096586  0.0  30.0\n",
       "Rich Retired            25.0  1.0  7.958318              10.718950  0.0  30.0\n",
       "Rich Single Adult       25.0  1.0  7.932368              10.675896  0.0  30.0\n",
       "Snackers                 7.0  1.6  4.265089              10.781580  0.0  30.0"
      ]
     },
     "execution_count": 105,
     "metadata": {},
     "output_type": "execute_result"
    }
   ],
   "source": [
    "# Comparing the Max, Min & Mean Values\n",
    "cstmrs.groupby('profile').agg({'prices': ['max','min','mean'], 'days_since_prior_order':['mean', 'min','max']})"
   ]
  },
  {
   "cell_type": "markdown",
   "id": "24f92fea",
   "metadata": {},
   "source": [
    "8. Compare your customer profiles with regions and departments. Can you identify a link between them? Customers may demonstrate different behaviors across regions, which could make this information important."
   ]
  },
  {
   "cell_type": "code",
   "execution_count": 106,
   "id": "d14d7cbe",
   "metadata": {},
   "outputs": [],
   "source": [
    "# Comparing customer profiles & regions\n",
    "crosstab3 = pd.crosstab(cstmrs['profile'], cstmrs['region'], dropna = False)"
   ]
  },
  {
   "cell_type": "code",
   "execution_count": 107,
   "id": "75501e8b",
   "metadata": {},
   "outputs": [
    {
     "data": {
      "text/html": [
       "<div>\n",
       "<style scoped>\n",
       "    .dataframe tbody tr th:only-of-type {\n",
       "        vertical-align: middle;\n",
       "    }\n",
       "\n",
       "    .dataframe tbody tr th {\n",
       "        vertical-align: top;\n",
       "    }\n",
       "\n",
       "    .dataframe thead th {\n",
       "        text-align: right;\n",
       "    }\n",
       "</style>\n",
       "<table border=\"1\" class=\"dataframe\">\n",
       "  <thead>\n",
       "    <tr style=\"text-align: right;\">\n",
       "      <th>region</th>\n",
       "      <th>Midwest</th>\n",
       "      <th>Northeast</th>\n",
       "      <th>South</th>\n",
       "      <th>West</th>\n",
       "    </tr>\n",
       "    <tr>\n",
       "      <th>profile</th>\n",
       "      <th></th>\n",
       "      <th></th>\n",
       "      <th></th>\n",
       "      <th></th>\n",
       "    </tr>\n",
       "  </thead>\n",
       "  <tbody>\n",
       "    <tr>\n",
       "      <th>Alcohol Drinkers</th>\n",
       "      <td>7491</td>\n",
       "      <td>5706</td>\n",
       "      <td>10691</td>\n",
       "      <td>7919</td>\n",
       "    </tr>\n",
       "    <tr>\n",
       "      <th>Average Retired</th>\n",
       "      <td>2678831</td>\n",
       "      <td>2001315</td>\n",
       "      <td>3833308</td>\n",
       "      <td>2930250</td>\n",
       "    </tr>\n",
       "    <tr>\n",
       "      <th>Average-Income Family</th>\n",
       "      <td>461452</td>\n",
       "      <td>360607</td>\n",
       "      <td>662387</td>\n",
       "      <td>527300</td>\n",
       "    </tr>\n",
       "    <tr>\n",
       "      <th>Has Babies</th>\n",
       "      <td>11877</td>\n",
       "      <td>8422</td>\n",
       "      <td>14914</td>\n",
       "      <td>11938</td>\n",
       "    </tr>\n",
       "    <tr>\n",
       "      <th>High-Income Family</th>\n",
       "      <td>569004</td>\n",
       "      <td>427743</td>\n",
       "      <td>771098</td>\n",
       "      <td>601135</td>\n",
       "    </tr>\n",
       "    <tr>\n",
       "      <th>Low-Income Family</th>\n",
       "      <td>789769</td>\n",
       "      <td>588581</td>\n",
       "      <td>1125831</td>\n",
       "      <td>874211</td>\n",
       "    </tr>\n",
       "    <tr>\n",
       "      <th>Meat Eaters</th>\n",
       "      <td>22422</td>\n",
       "      <td>16932</td>\n",
       "      <td>31331</td>\n",
       "      <td>22699</td>\n",
       "    </tr>\n",
       "    <tr>\n",
       "      <th>Other</th>\n",
       "      <td>1408054</td>\n",
       "      <td>1059765</td>\n",
       "      <td>1993645</td>\n",
       "      <td>1500302</td>\n",
       "    </tr>\n",
       "    <tr>\n",
       "      <th>Pet Owners</th>\n",
       "      <td>21358</td>\n",
       "      <td>17734</td>\n",
       "      <td>29909</td>\n",
       "      <td>24059</td>\n",
       "    </tr>\n",
       "    <tr>\n",
       "      <th>Poor Retired</th>\n",
       "      <td>222174</td>\n",
       "      <td>180499</td>\n",
       "      <td>331546</td>\n",
       "      <td>259432</td>\n",
       "    </tr>\n",
       "    <tr>\n",
       "      <th>Rich Retired</th>\n",
       "      <td>685839</td>\n",
       "      <td>532395</td>\n",
       "      <td>970826</td>\n",
       "      <td>757652</td>\n",
       "    </tr>\n",
       "    <tr>\n",
       "      <th>Rich Single Adult</th>\n",
       "      <td>228176</td>\n",
       "      <td>147124</td>\n",
       "      <td>312979</td>\n",
       "      <td>241058</td>\n",
       "    </tr>\n",
       "    <tr>\n",
       "      <th>Snackers</th>\n",
       "      <td>155066</td>\n",
       "      <td>117862</td>\n",
       "      <td>222674</td>\n",
       "      <td>169272</td>\n",
       "    </tr>\n",
       "  </tbody>\n",
       "</table>\n",
       "</div>"
      ],
      "text/plain": [
       "region                 Midwest  Northeast    South     West\n",
       "profile                                                    \n",
       "Alcohol Drinkers          7491       5706    10691     7919\n",
       "Average Retired        2678831    2001315  3833308  2930250\n",
       "Average-Income Family   461452     360607   662387   527300\n",
       "Has Babies               11877       8422    14914    11938\n",
       "High-Income Family      569004     427743   771098   601135\n",
       "Low-Income Family       789769     588581  1125831   874211\n",
       "Meat Eaters              22422      16932    31331    22699\n",
       "Other                  1408054    1059765  1993645  1500302\n",
       "Pet Owners               21358      17734    29909    24059\n",
       "Poor Retired            222174     180499   331546   259432\n",
       "Rich Retired            685839     532395   970826   757652\n",
       "Rich Single Adult       228176     147124   312979   241058\n",
       "Snackers                155066     117862   222674   169272"
      ]
     },
     "execution_count": 107,
     "metadata": {},
     "output_type": "execute_result"
    }
   ],
   "source": [
    "crosstab3"
   ]
  },
  {
   "cell_type": "code",
   "execution_count": 108,
   "id": "9be32e2c",
   "metadata": {},
   "outputs": [],
   "source": [
    "# Comparing customer profiles & departments\n",
    "crosstab4 = pd.crosstab(cstmrs['profile'], cstmrs['department_id'], dropna = False)"
   ]
  },
  {
   "cell_type": "code",
   "execution_count": 109,
   "id": "ac9574ad",
   "metadata": {},
   "outputs": [
    {
     "data": {
      "text/html": [
       "<div>\n",
       "<style scoped>\n",
       "    .dataframe tbody tr th:only-of-type {\n",
       "        vertical-align: middle;\n",
       "    }\n",
       "\n",
       "    .dataframe tbody tr th {\n",
       "        vertical-align: top;\n",
       "    }\n",
       "\n",
       "    .dataframe thead th {\n",
       "        text-align: right;\n",
       "    }\n",
       "</style>\n",
       "<table border=\"1\" class=\"dataframe\">\n",
       "  <thead>\n",
       "    <tr style=\"text-align: right;\">\n",
       "      <th>department_id</th>\n",
       "      <th>1</th>\n",
       "      <th>2</th>\n",
       "      <th>3</th>\n",
       "      <th>4</th>\n",
       "      <th>5</th>\n",
       "      <th>6</th>\n",
       "      <th>7</th>\n",
       "      <th>8</th>\n",
       "      <th>9</th>\n",
       "      <th>10</th>\n",
       "      <th>...</th>\n",
       "      <th>12</th>\n",
       "      <th>13</th>\n",
       "      <th>14</th>\n",
       "      <th>15</th>\n",
       "      <th>16</th>\n",
       "      <th>17</th>\n",
       "      <th>18</th>\n",
       "      <th>19</th>\n",
       "      <th>20</th>\n",
       "      <th>21</th>\n",
       "    </tr>\n",
       "    <tr>\n",
       "      <th>profile</th>\n",
       "      <th></th>\n",
       "      <th></th>\n",
       "      <th></th>\n",
       "      <th></th>\n",
       "      <th></th>\n",
       "      <th></th>\n",
       "      <th></th>\n",
       "      <th></th>\n",
       "      <th></th>\n",
       "      <th></th>\n",
       "      <th></th>\n",
       "      <th></th>\n",
       "      <th></th>\n",
       "      <th></th>\n",
       "      <th></th>\n",
       "      <th></th>\n",
       "      <th></th>\n",
       "      <th></th>\n",
       "      <th></th>\n",
       "      <th></th>\n",
       "      <th></th>\n",
       "    </tr>\n",
       "  </thead>\n",
       "  <tbody>\n",
       "    <tr>\n",
       "      <th>Alcohol Drinkers</th>\n",
       "      <td>0</td>\n",
       "      <td>0</td>\n",
       "      <td>0</td>\n",
       "      <td>0</td>\n",
       "      <td>31807</td>\n",
       "      <td>0</td>\n",
       "      <td>0</td>\n",
       "      <td>0</td>\n",
       "      <td>0</td>\n",
       "      <td>0</td>\n",
       "      <td>...</td>\n",
       "      <td>0</td>\n",
       "      <td>0</td>\n",
       "      <td>0</td>\n",
       "      <td>0</td>\n",
       "      <td>0</td>\n",
       "      <td>0</td>\n",
       "      <td>0</td>\n",
       "      <td>0</td>\n",
       "      <td>0</td>\n",
       "      <td>0</td>\n",
       "    </tr>\n",
       "    <tr>\n",
       "      <th>Average Retired</th>\n",
       "      <td>791721</td>\n",
       "      <td>12798</td>\n",
       "      <td>419265</td>\n",
       "      <td>3457991</td>\n",
       "      <td>50857</td>\n",
       "      <td>98563</td>\n",
       "      <td>898471</td>\n",
       "      <td>0</td>\n",
       "      <td>317424</td>\n",
       "      <td>12187</td>\n",
       "      <td>...</td>\n",
       "      <td>268486</td>\n",
       "      <td>671607</td>\n",
       "      <td>238970</td>\n",
       "      <td>387558</td>\n",
       "      <td>1954402</td>\n",
       "      <td>251694</td>\n",
       "      <td>166158</td>\n",
       "      <td>890557</td>\n",
       "      <td>373256</td>\n",
       "      <td>24194</td>\n",
       "    </tr>\n",
       "    <tr>\n",
       "      <th>Average-Income Family</th>\n",
       "      <td>139432</td>\n",
       "      <td>2125</td>\n",
       "      <td>73254</td>\n",
       "      <td>609739</td>\n",
       "      <td>8147</td>\n",
       "      <td>17146</td>\n",
       "      <td>156010</td>\n",
       "      <td>0</td>\n",
       "      <td>56657</td>\n",
       "      <td>2221</td>\n",
       "      <td>...</td>\n",
       "      <td>48290</td>\n",
       "      <td>119920</td>\n",
       "      <td>40325</td>\n",
       "      <td>69119</td>\n",
       "      <td>341188</td>\n",
       "      <td>44574</td>\n",
       "      <td>27480</td>\n",
       "      <td>159736</td>\n",
       "      <td>65629</td>\n",
       "      <td>4261</td>\n",
       "    </tr>\n",
       "    <tr>\n",
       "      <th>Has Babies</th>\n",
       "      <td>0</td>\n",
       "      <td>0</td>\n",
       "      <td>0</td>\n",
       "      <td>0</td>\n",
       "      <td>0</td>\n",
       "      <td>0</td>\n",
       "      <td>0</td>\n",
       "      <td>0</td>\n",
       "      <td>0</td>\n",
       "      <td>0</td>\n",
       "      <td>...</td>\n",
       "      <td>0</td>\n",
       "      <td>0</td>\n",
       "      <td>0</td>\n",
       "      <td>0</td>\n",
       "      <td>0</td>\n",
       "      <td>0</td>\n",
       "      <td>47151</td>\n",
       "      <td>0</td>\n",
       "      <td>0</td>\n",
       "      <td>0</td>\n",
       "    </tr>\n",
       "    <tr>\n",
       "      <th>High-Income Family</th>\n",
       "      <td>165423</td>\n",
       "      <td>2768</td>\n",
       "      <td>90778</td>\n",
       "      <td>702406</td>\n",
       "      <td>12620</td>\n",
       "      <td>20440</td>\n",
       "      <td>188021</td>\n",
       "      <td>0</td>\n",
       "      <td>66239</td>\n",
       "      <td>2236</td>\n",
       "      <td>...</td>\n",
       "      <td>57035</td>\n",
       "      <td>141109</td>\n",
       "      <td>49432</td>\n",
       "      <td>82370</td>\n",
       "      <td>403200</td>\n",
       "      <td>54345</td>\n",
       "      <td>33065</td>\n",
       "      <td>182363</td>\n",
       "      <td>77655</td>\n",
       "      <td>4878</td>\n",
       "    </tr>\n",
       "    <tr>\n",
       "      <th>Low-Income Family</th>\n",
       "      <td>227591</td>\n",
       "      <td>3618</td>\n",
       "      <td>117232</td>\n",
       "      <td>939268</td>\n",
       "      <td>15680</td>\n",
       "      <td>25286</td>\n",
       "      <td>315883</td>\n",
       "      <td>0</td>\n",
       "      <td>80635</td>\n",
       "      <td>4317</td>\n",
       "      <td>...</td>\n",
       "      <td>59368</td>\n",
       "      <td>183416</td>\n",
       "      <td>80474</td>\n",
       "      <td>99411</td>\n",
       "      <td>539597</td>\n",
       "      <td>79627</td>\n",
       "      <td>38446</td>\n",
       "      <td>405251</td>\n",
       "      <td>109324</td>\n",
       "      <td>7062</td>\n",
       "    </tr>\n",
       "    <tr>\n",
       "      <th>Meat Eaters</th>\n",
       "      <td>0</td>\n",
       "      <td>0</td>\n",
       "      <td>0</td>\n",
       "      <td>0</td>\n",
       "      <td>0</td>\n",
       "      <td>0</td>\n",
       "      <td>0</td>\n",
       "      <td>0</td>\n",
       "      <td>0</td>\n",
       "      <td>0</td>\n",
       "      <td>...</td>\n",
       "      <td>0</td>\n",
       "      <td>0</td>\n",
       "      <td>0</td>\n",
       "      <td>0</td>\n",
       "      <td>0</td>\n",
       "      <td>0</td>\n",
       "      <td>0</td>\n",
       "      <td>0</td>\n",
       "      <td>0</td>\n",
       "      <td>0</td>\n",
       "    </tr>\n",
       "    <tr>\n",
       "      <th>Other</th>\n",
       "      <td>462664</td>\n",
       "      <td>7694</td>\n",
       "      <td>244788</td>\n",
       "      <td>1964571</td>\n",
       "      <td>0</td>\n",
       "      <td>56164</td>\n",
       "      <td>586406</td>\n",
       "      <td>0</td>\n",
       "      <td>176097</td>\n",
       "      <td>7323</td>\n",
       "      <td>...</td>\n",
       "      <td>139713</td>\n",
       "      <td>388979</td>\n",
       "      <td>153273</td>\n",
       "      <td>217528</td>\n",
       "      <td>1130293</td>\n",
       "      <td>153788</td>\n",
       "      <td>36502</td>\n",
       "      <td>0</td>\n",
       "      <td>221764</td>\n",
       "      <td>14219</td>\n",
       "    </tr>\n",
       "    <tr>\n",
       "      <th>Pet Owners</th>\n",
       "      <td>0</td>\n",
       "      <td>0</td>\n",
       "      <td>0</td>\n",
       "      <td>0</td>\n",
       "      <td>0</td>\n",
       "      <td>0</td>\n",
       "      <td>0</td>\n",
       "      <td>93060</td>\n",
       "      <td>0</td>\n",
       "      <td>0</td>\n",
       "      <td>...</td>\n",
       "      <td>0</td>\n",
       "      <td>0</td>\n",
       "      <td>0</td>\n",
       "      <td>0</td>\n",
       "      <td>0</td>\n",
       "      <td>0</td>\n",
       "      <td>0</td>\n",
       "      <td>0</td>\n",
       "      <td>0</td>\n",
       "      <td>0</td>\n",
       "    </tr>\n",
       "    <tr>\n",
       "      <th>Poor Retired</th>\n",
       "      <td>63294</td>\n",
       "      <td>1073</td>\n",
       "      <td>31152</td>\n",
       "      <td>251005</td>\n",
       "      <td>5106</td>\n",
       "      <td>6082</td>\n",
       "      <td>114245</td>\n",
       "      <td>0</td>\n",
       "      <td>18745</td>\n",
       "      <td>1386</td>\n",
       "      <td>...</td>\n",
       "      <td>10285</td>\n",
       "      <td>48980</td>\n",
       "      <td>27083</td>\n",
       "      <td>23493</td>\n",
       "      <td>149623</td>\n",
       "      <td>26180</td>\n",
       "      <td>8474</td>\n",
       "      <td>161218</td>\n",
       "      <td>30197</td>\n",
       "      <td>1932</td>\n",
       "    </tr>\n",
       "    <tr>\n",
       "      <th>Rich Retired</th>\n",
       "      <td>207238</td>\n",
       "      <td>3219</td>\n",
       "      <td>109305</td>\n",
       "      <td>881194</td>\n",
       "      <td>14264</td>\n",
       "      <td>24631</td>\n",
       "      <td>237858</td>\n",
       "      <td>0</td>\n",
       "      <td>80922</td>\n",
       "      <td>2921</td>\n",
       "      <td>...</td>\n",
       "      <td>70115</td>\n",
       "      <td>173292</td>\n",
       "      <td>61597</td>\n",
       "      <td>100273</td>\n",
       "      <td>499683</td>\n",
       "      <td>67580</td>\n",
       "      <td>39957</td>\n",
       "      <td>229952</td>\n",
       "      <td>95825</td>\n",
       "      <td>6185</td>\n",
       "    </tr>\n",
       "    <tr>\n",
       "      <th>Rich Single Adult</th>\n",
       "      <td>64368</td>\n",
       "      <td>1116</td>\n",
       "      <td>35054</td>\n",
       "      <td>273099</td>\n",
       "      <td>6146</td>\n",
       "      <td>7679</td>\n",
       "      <td>75007</td>\n",
       "      <td>0</td>\n",
       "      <td>25417</td>\n",
       "      <td>860</td>\n",
       "      <td>...</td>\n",
       "      <td>21489</td>\n",
       "      <td>55402</td>\n",
       "      <td>19696</td>\n",
       "      <td>32322</td>\n",
       "      <td>159196</td>\n",
       "      <td>22069</td>\n",
       "      <td>13159</td>\n",
       "      <td>72455</td>\n",
       "      <td>30184</td>\n",
       "      <td>2037</td>\n",
       "    </tr>\n",
       "    <tr>\n",
       "      <th>Snackers</th>\n",
       "      <td>0</td>\n",
       "      <td>0</td>\n",
       "      <td>0</td>\n",
       "      <td>0</td>\n",
       "      <td>0</td>\n",
       "      <td>0</td>\n",
       "      <td>0</td>\n",
       "      <td>0</td>\n",
       "      <td>0</td>\n",
       "      <td>0</td>\n",
       "      <td>...</td>\n",
       "      <td>0</td>\n",
       "      <td>0</td>\n",
       "      <td>0</td>\n",
       "      <td>0</td>\n",
       "      <td>0</td>\n",
       "      <td>0</td>\n",
       "      <td>0</td>\n",
       "      <td>664874</td>\n",
       "      <td>0</td>\n",
       "      <td>0</td>\n",
       "    </tr>\n",
       "  </tbody>\n",
       "</table>\n",
       "<p>13 rows × 21 columns</p>\n",
       "</div>"
      ],
      "text/plain": [
       "department_id              1      2       3        4      5      6       7   \\\n",
       "profile                                                                       \n",
       "Alcohol Drinkers            0      0       0        0  31807      0       0   \n",
       "Average Retired        791721  12798  419265  3457991  50857  98563  898471   \n",
       "Average-Income Family  139432   2125   73254   609739   8147  17146  156010   \n",
       "Has Babies                  0      0       0        0      0      0       0   \n",
       "High-Income Family     165423   2768   90778   702406  12620  20440  188021   \n",
       "Low-Income Family      227591   3618  117232   939268  15680  25286  315883   \n",
       "Meat Eaters                 0      0       0        0      0      0       0   \n",
       "Other                  462664   7694  244788  1964571      0  56164  586406   \n",
       "Pet Owners                  0      0       0        0      0      0       0   \n",
       "Poor Retired            63294   1073   31152   251005   5106   6082  114245   \n",
       "Rich Retired           207238   3219  109305   881194  14264  24631  237858   \n",
       "Rich Single Adult       64368   1116   35054   273099   6146   7679   75007   \n",
       "Snackers                    0      0       0        0      0      0       0   \n",
       "\n",
       "department_id             8       9      10  ...      12      13      14  \\\n",
       "profile                                      ...                           \n",
       "Alcohol Drinkers           0       0      0  ...       0       0       0   \n",
       "Average Retired            0  317424  12187  ...  268486  671607  238970   \n",
       "Average-Income Family      0   56657   2221  ...   48290  119920   40325   \n",
       "Has Babies                 0       0      0  ...       0       0       0   \n",
       "High-Income Family         0   66239   2236  ...   57035  141109   49432   \n",
       "Low-Income Family          0   80635   4317  ...   59368  183416   80474   \n",
       "Meat Eaters                0       0      0  ...       0       0       0   \n",
       "Other                      0  176097   7323  ...  139713  388979  153273   \n",
       "Pet Owners             93060       0      0  ...       0       0       0   \n",
       "Poor Retired               0   18745   1386  ...   10285   48980   27083   \n",
       "Rich Retired               0   80922   2921  ...   70115  173292   61597   \n",
       "Rich Single Adult          0   25417    860  ...   21489   55402   19696   \n",
       "Snackers                   0       0      0  ...       0       0       0   \n",
       "\n",
       "department_id              15       16      17      18      19      20     21  \n",
       "profile                                                                        \n",
       "Alcohol Drinkers            0        0       0       0       0       0      0  \n",
       "Average Retired        387558  1954402  251694  166158  890557  373256  24194  \n",
       "Average-Income Family   69119   341188   44574   27480  159736   65629   4261  \n",
       "Has Babies                  0        0       0   47151       0       0      0  \n",
       "High-Income Family      82370   403200   54345   33065  182363   77655   4878  \n",
       "Low-Income Family       99411   539597   79627   38446  405251  109324   7062  \n",
       "Meat Eaters                 0        0       0       0       0       0      0  \n",
       "Other                  217528  1130293  153788   36502       0  221764  14219  \n",
       "Pet Owners                  0        0       0       0       0       0      0  \n",
       "Poor Retired            23493   149623   26180    8474  161218   30197   1932  \n",
       "Rich Retired           100273   499683   67580   39957  229952   95825   6185  \n",
       "Rich Single Adult       32322   159196   22069   13159   72455   30184   2037  \n",
       "Snackers                    0        0       0       0  664874       0      0  \n",
       "\n",
       "[13 rows x 21 columns]"
      ]
     },
     "execution_count": 109,
     "metadata": {},
     "output_type": "execute_result"
    }
   ],
   "source": [
    "crosstab4"
   ]
  },
  {
   "cell_type": "code",
   "execution_count": 110,
   "id": "9b274e3e",
   "metadata": {},
   "outputs": [
    {
     "data": {
      "text/plain": [
       "([<matplotlib.axis.XTick at 0x7fbb00ec2850>,\n",
       "  <matplotlib.axis.XTick at 0x7fbb00ec2820>,\n",
       "  <matplotlib.axis.XTick at 0x7fbb2aac6cd0>,\n",
       "  <matplotlib.axis.XTick at 0x7fbb03b648b0>,\n",
       "  <matplotlib.axis.XTick at 0x7fbb03b5a040>,\n",
       "  <matplotlib.axis.XTick at 0x7fbb03b5a790>,\n",
       "  <matplotlib.axis.XTick at 0x7fbb03b48040>,\n",
       "  <matplotlib.axis.XTick at 0x7fbb03b5ab80>,\n",
       "  <matplotlib.axis.XTick at 0x7fbb03b64b50>,\n",
       "  <matplotlib.axis.XTick at 0x7fbb00eae160>,\n",
       "  <matplotlib.axis.XTick at 0x7fbb038f91c0>],\n",
       " [Text(0, 0, 'Snackers'),\n",
       "  Text(1, 0, 'Rich Single Adult'),\n",
       "  Text(2, 0, 'High-Income Family'),\n",
       "  Text(3, 0, 'Average-Income Family'),\n",
       "  Text(4, 0, 'Low-Income Family'),\n",
       "  Text(5, 0, 'Rich Retired'),\n",
       "  Text(6, 0, 'Average Retired'),\n",
       "  Text(7, 0, 'Poor Retired'),\n",
       "  Text(8, 0, 'Has Babies'),\n",
       "  Text(9, 0, 'Meat Eaters'),\n",
       "  Text(10, 0, 'other')])"
      ]
     },
     "execution_count": 110,
     "metadata": {},
     "output_type": "execute_result"
    },
    {
     "data": {
      "image/png": "[encoded data removed]",
      "text/plain": [
       "<Figure size 1080x360 with 1 Axes>"
      ]
     },
     "metadata": {
      "needs_background": "light"
     },
     "output_type": "display_data"
    }
   ],
   "source": [
    "# Creating a stacked barchart of customer profile by region\n",
    "bar_profile_region = crosstab3.loc[:,['Midwest','Northeast','South','West']].apply(lambda x: x*100/sum(x), axis=1).plot.bar(stacked=True, rot=45, figsize=(15,5), colormap = 'Set3').legend(title='Region', bbox_to_anchor=(1.0,1.0))\n",
    "plt.xlabel('')\n",
    "plt.ylabel('% of orders by region')\n",
    "plt.title ('Instacart Orders by Profile & Region')\n",
    "plt.xticks([0,1,2,3,4,5,6,7,8,9,10],['Snackers','Rich Single Adult','High-Income Family','Average-Income Family','Low-Income Family','Rich Retired','Average Retired','Poor Retired','Has Babies','Meat Eaters','other'])"
   ]
  },
  {
   "cell_type": "markdown",
   "id": "6f63bb29",
   "metadata": {},
   "source": [
    "Highest % of orders by region is in The South\n",
    "\n",
    "Marketing team should focus on advertising to their clients in the Northeast"
   ]
  },
  {
   "cell_type": "code",
   "execution_count": 111,
   "id": "c36fc45d",
   "metadata": {},
   "outputs": [],
   "source": [
    "# Export\n",
    "bar_profile_region.figure.savefig(os.path.join(path, '04 Analysis', 'Visualizations','region_profiles_barchart.png'), bbox_inches = 'tight')"
   ]
  },
  {
   "cell_type": "code",
   "execution_count": 112,
   "id": "454af9f7",
   "metadata": {},
   "outputs": [
    {
     "data": {
      "text/plain": [
       "Text(0.5, 1.0, 'Instacart Shopping Time of Day by Type of Shopper')"
      ]
     },
     "execution_count": 112,
     "metadata": {},
     "output_type": "execute_result"
    },
    {
     "data": {
      "image/png": "[encoded data removed]",
      "text/plain": [
       "<Figure size 432x288 with 1 Axes>"
      ]
     },
     "metadata": {},
     "output_type": "display_data"
    }
   ],
   "source": [
    "sns.set(font_scale=1.3)\n",
    "boxplot_profile_time = sns.boxplot(x='profile',\n",
    "                y='order_hour_of_day',\n",
    "                data=cstmrs)\n",
    "plt.xticks(rotation=90)\n",
    "plt.title ('Instacart Shopping Time of Day by Type of Shopper')"
   ]
  },
  {
   "cell_type": "code",
   "execution_count": 113,
   "id": "051426ad",
   "metadata": {},
   "outputs": [],
   "source": [
    "boxplot_profile_time.figure.savefig(os.path.join(path, '04 Analysis', 'Visualizations', 'boxplot_profile_time.png'), bbox_inches='tight')"
   ]
  },
  {
   "cell_type": "code",
   "execution_count": 114,
   "id": "5782b074",
   "metadata": {},
   "outputs": [],
   "source": [
    "# Create crosstab by region with loyalty flag\n",
    "crosstabz2 = pd.crosstab(df_merged_all['region'], df_merged_all['loyalty_flag'], dropna = False)"
   ]
  },
  {
   "cell_type": "code",
   "execution_count": 115,
   "id": "209d8d9f",
   "metadata": {},
   "outputs": [
    {
     "data": {
      "text/plain": [
       "Text(0.5, 1.0, 'Loyal Customers by Region')"
      ]
     },
     "execution_count": 115,
     "metadata": {},
     "output_type": "execute_result"
    },
    {
     "data": {
      "image/png": "[encoded data removed]",
      "text/plain": [
       "<Figure size 1080x360 with 1 Axes>"
      ]
     },
     "metadata": {},
     "output_type": "display_data"
    }
   ],
   "source": [
    "# Create barchart from crosstab\n",
    "bar_loyalty_region = crosstabz2.iloc[:,[0,1,2]].plot.bar(rot=0, figsize=(15,5), colormap='mako').legend(title=\"Loyalty status\", bbox_to_anchor=(1.0,1.0))\n",
    "plt.xlabel('')\n",
    "plt.ylabel('Milions of Customers')\n",
    "plt.title ('Loyal Customers by Region')"
   ]
  },
  {
   "cell_type": "code",
   "execution_count": 116,
   "id": "5aa44273",
   "metadata": {},
   "outputs": [],
   "source": [
    "#exporting the figure\n",
    "bar_loyalty_region.figure.savefig(os.path.join(path, '04 Analysis', 'Visualizations','loyalty_region_barchart.png'))"
   ]
  },
  {
   "cell_type": "code",
   "execution_count": 117,
   "id": "cb67af0d",
   "metadata": {},
   "outputs": [
    {
     "data": {
      "text/html": [
       "<div>\n",
       "<style scoped>\n",
       "    .dataframe tbody tr th:only-of-type {\n",
       "        vertical-align: middle;\n",
       "    }\n",
       "\n",
       "    .dataframe tbody tr th {\n",
       "        vertical-align: top;\n",
       "    }\n",
       "\n",
       "    .dataframe thead th {\n",
       "        text-align: right;\n",
       "    }\n",
       "</style>\n",
       "<table border=\"1\" class=\"dataframe\">\n",
       "  <thead>\n",
       "    <tr style=\"text-align: right;\">\n",
       "      <th></th>\n",
       "      <th>order_id</th>\n",
       "      <th>user_id</th>\n",
       "      <th>order_number</th>\n",
       "      <th>order_dow</th>\n",
       "      <th>order_hour_of_day</th>\n",
       "      <th>days_since_prior_order</th>\n",
       "      <th>product_id</th>\n",
       "      <th>add_to_cart_order</th>\n",
       "      <th>reordered</th>\n",
       "      <th>product_name</th>\n",
       "      <th>...</th>\n",
       "      <th>family_size</th>\n",
       "      <th>household</th>\n",
       "      <th>income_category</th>\n",
       "      <th>department</th>\n",
       "      <th>alcohol_drinker</th>\n",
       "      <th>Has_babies</th>\n",
       "      <th>profile</th>\n",
       "      <th>pet_owner</th>\n",
       "      <th>vegetarian</th>\n",
       "      <th>order_time_habit</th>\n",
       "    </tr>\n",
       "  </thead>\n",
       "  <tbody>\n",
       "    <tr>\n",
       "      <th>0</th>\n",
       "      <td>2539329</td>\n",
       "      <td>1</td>\n",
       "      <td>1</td>\n",
       "      <td>2</td>\n",
       "      <td>8</td>\n",
       "      <td>NaN</td>\n",
       "      <td>196</td>\n",
       "      <td>1</td>\n",
       "      <td>0</td>\n",
       "      <td>Soda</td>\n",
       "      <td>...</td>\n",
       "      <td>Large</td>\n",
       "      <td>Couple With Children</td>\n",
       "      <td>Low</td>\n",
       "      <td>beverages</td>\n",
       "      <td>No</td>\n",
       "      <td>No</td>\n",
       "      <td>Low-Income Family</td>\n",
       "      <td>No</td>\n",
       "      <td>Yes</td>\n",
       "      <td>Early Bird</td>\n",
       "    </tr>\n",
       "    <tr>\n",
       "      <th>1</th>\n",
       "      <td>2398795</td>\n",
       "      <td>1</td>\n",
       "      <td>2</td>\n",
       "      <td>3</td>\n",
       "      <td>7</td>\n",
       "      <td>15.0</td>\n",
       "      <td>196</td>\n",
       "      <td>1</td>\n",
       "      <td>1</td>\n",
       "      <td>Soda</td>\n",
       "      <td>...</td>\n",
       "      <td>Large</td>\n",
       "      <td>Couple With Children</td>\n",
       "      <td>Low</td>\n",
       "      <td>beverages</td>\n",
       "      <td>No</td>\n",
       "      <td>No</td>\n",
       "      <td>Low-Income Family</td>\n",
       "      <td>No</td>\n",
       "      <td>Yes</td>\n",
       "      <td>Early Bird</td>\n",
       "    </tr>\n",
       "    <tr>\n",
       "      <th>2</th>\n",
       "      <td>473747</td>\n",
       "      <td>1</td>\n",
       "      <td>3</td>\n",
       "      <td>3</td>\n",
       "      <td>12</td>\n",
       "      <td>21.0</td>\n",
       "      <td>196</td>\n",
       "      <td>1</td>\n",
       "      <td>1</td>\n",
       "      <td>Soda</td>\n",
       "      <td>...</td>\n",
       "      <td>Large</td>\n",
       "      <td>Couple With Children</td>\n",
       "      <td>Low</td>\n",
       "      <td>beverages</td>\n",
       "      <td>No</td>\n",
       "      <td>No</td>\n",
       "      <td>Low-Income Family</td>\n",
       "      <td>No</td>\n",
       "      <td>Yes</td>\n",
       "      <td>Regular</td>\n",
       "    </tr>\n",
       "    <tr>\n",
       "      <th>3</th>\n",
       "      <td>2254736</td>\n",
       "      <td>1</td>\n",
       "      <td>4</td>\n",
       "      <td>4</td>\n",
       "      <td>7</td>\n",
       "      <td>29.0</td>\n",
       "      <td>196</td>\n",
       "      <td>1</td>\n",
       "      <td>1</td>\n",
       "      <td>Soda</td>\n",
       "      <td>...</td>\n",
       "      <td>Large</td>\n",
       "      <td>Couple With Children</td>\n",
       "      <td>Low</td>\n",
       "      <td>beverages</td>\n",
       "      <td>No</td>\n",
       "      <td>No</td>\n",
       "      <td>Low-Income Family</td>\n",
       "      <td>No</td>\n",
       "      <td>Yes</td>\n",
       "      <td>Early Bird</td>\n",
       "    </tr>\n",
       "    <tr>\n",
       "      <th>4</th>\n",
       "      <td>431534</td>\n",
       "      <td>1</td>\n",
       "      <td>5</td>\n",
       "      <td>4</td>\n",
       "      <td>15</td>\n",
       "      <td>28.0</td>\n",
       "      <td>196</td>\n",
       "      <td>1</td>\n",
       "      <td>1</td>\n",
       "      <td>Soda</td>\n",
       "      <td>...</td>\n",
       "      <td>Large</td>\n",
       "      <td>Couple With Children</td>\n",
       "      <td>Low</td>\n",
       "      <td>beverages</td>\n",
       "      <td>No</td>\n",
       "      <td>No</td>\n",
       "      <td>Low-Income Family</td>\n",
       "      <td>No</td>\n",
       "      <td>Yes</td>\n",
       "      <td>Regular</td>\n",
       "    </tr>\n",
       "  </tbody>\n",
       "</table>\n",
       "<p>5 rows × 42 columns</p>\n",
       "</div>"
      ],
      "text/plain": [
       "   order_id  user_id  order_number  order_dow  order_hour_of_day  \\\n",
       "0   2539329        1             1          2                  8   \n",
       "1   2398795        1             2          3                  7   \n",
       "2    473747        1             3          3                 12   \n",
       "3   2254736        1             4          4                  7   \n",
       "4    431534        1             5          4                 15   \n",
       "\n",
       "   days_since_prior_order  product_id  add_to_cart_order  reordered  \\\n",
       "0                     NaN         196                  1          0   \n",
       "1                    15.0         196                  1          1   \n",
       "2                    21.0         196                  1          1   \n",
       "3                    29.0         196                  1          1   \n",
       "4                    28.0         196                  1          1   \n",
       "\n",
       "  product_name  ...  family_size             household  income_category  \\\n",
       "0         Soda  ...        Large  Couple With Children              Low   \n",
       "1         Soda  ...        Large  Couple With Children              Low   \n",
       "2         Soda  ...        Large  Couple With Children              Low   \n",
       "3         Soda  ...        Large  Couple With Children              Low   \n",
       "4         Soda  ...        Large  Couple With Children              Low   \n",
       "\n",
       "  department alcohol_drinker Has_babies            profile pet_owner  \\\n",
       "0  beverages              No         No  Low-Income Family        No   \n",
       "1  beverages              No         No  Low-Income Family        No   \n",
       "2  beverages              No         No  Low-Income Family        No   \n",
       "3  beverages              No         No  Low-Income Family        No   \n",
       "4  beverages              No         No  Low-Income Family        No   \n",
       "\n",
       "   vegetarian order_time_habit  \n",
       "0         Yes       Early Bird  \n",
       "1         Yes       Early Bird  \n",
       "2         Yes          Regular  \n",
       "3         Yes       Early Bird  \n",
       "4         Yes          Regular  \n",
       "\n",
       "[5 rows x 42 columns]"
      ]
     },
     "execution_count": 117,
     "metadata": {},
     "output_type": "execute_result"
    }
   ],
   "source": [
    "high_activity_cxs.head()"
   ]
  },
  {
   "cell_type": "code",
   "execution_count": 118,
   "id": "f55e0890",
   "metadata": {},
   "outputs": [
    {
     "data": {
      "text/html": [
       "<div>\n",
       "<style scoped>\n",
       "    .dataframe tbody tr th:only-of-type {\n",
       "        vertical-align: middle;\n",
       "    }\n",
       "\n",
       "    .dataframe tbody tr th {\n",
       "        vertical-align: top;\n",
       "    }\n",
       "\n",
       "    .dataframe thead th {\n",
       "        text-align: right;\n",
       "    }\n",
       "</style>\n",
       "<table border=\"1\" class=\"dataframe\">\n",
       "  <thead>\n",
       "    <tr style=\"text-align: right;\">\n",
       "      <th></th>\n",
       "      <th>order_id</th>\n",
       "      <th>user_id</th>\n",
       "      <th>order_number</th>\n",
       "      <th>order_dow</th>\n",
       "      <th>order_hour_of_day</th>\n",
       "      <th>days_since_prior_order</th>\n",
       "      <th>product_id</th>\n",
       "      <th>add_to_cart_order</th>\n",
       "      <th>reordered</th>\n",
       "      <th>product_name</th>\n",
       "      <th>...</th>\n",
       "      <th>family_size</th>\n",
       "      <th>household</th>\n",
       "      <th>income_category</th>\n",
       "      <th>department</th>\n",
       "      <th>alcohol_drinker</th>\n",
       "      <th>Has_babies</th>\n",
       "      <th>profile</th>\n",
       "      <th>pet_owner</th>\n",
       "      <th>vegetarian</th>\n",
       "      <th>order_time_habit</th>\n",
       "    </tr>\n",
       "  </thead>\n",
       "  <tbody>\n",
       "    <tr>\n",
       "      <th>0</th>\n",
       "      <td>2539329</td>\n",
       "      <td>1</td>\n",
       "      <td>1</td>\n",
       "      <td>2</td>\n",
       "      <td>8</td>\n",
       "      <td>NaN</td>\n",
       "      <td>196</td>\n",
       "      <td>1</td>\n",
       "      <td>0</td>\n",
       "      <td>Soda</td>\n",
       "      <td>...</td>\n",
       "      <td>Large</td>\n",
       "      <td>Couple With Children</td>\n",
       "      <td>Low</td>\n",
       "      <td>beverages</td>\n",
       "      <td>No</td>\n",
       "      <td>No</td>\n",
       "      <td>Low-Income Family</td>\n",
       "      <td>No</td>\n",
       "      <td>Yes</td>\n",
       "      <td>Early Bird</td>\n",
       "    </tr>\n",
       "    <tr>\n",
       "      <th>1</th>\n",
       "      <td>2398795</td>\n",
       "      <td>1</td>\n",
       "      <td>2</td>\n",
       "      <td>3</td>\n",
       "      <td>7</td>\n",
       "      <td>15.0</td>\n",
       "      <td>196</td>\n",
       "      <td>1</td>\n",
       "      <td>1</td>\n",
       "      <td>Soda</td>\n",
       "      <td>...</td>\n",
       "      <td>Large</td>\n",
       "      <td>Couple With Children</td>\n",
       "      <td>Low</td>\n",
       "      <td>beverages</td>\n",
       "      <td>No</td>\n",
       "      <td>No</td>\n",
       "      <td>Low-Income Family</td>\n",
       "      <td>No</td>\n",
       "      <td>Yes</td>\n",
       "      <td>Early Bird</td>\n",
       "    </tr>\n",
       "    <tr>\n",
       "      <th>2</th>\n",
       "      <td>473747</td>\n",
       "      <td>1</td>\n",
       "      <td>3</td>\n",
       "      <td>3</td>\n",
       "      <td>12</td>\n",
       "      <td>21.0</td>\n",
       "      <td>196</td>\n",
       "      <td>1</td>\n",
       "      <td>1</td>\n",
       "      <td>Soda</td>\n",
       "      <td>...</td>\n",
       "      <td>Large</td>\n",
       "      <td>Couple With Children</td>\n",
       "      <td>Low</td>\n",
       "      <td>beverages</td>\n",
       "      <td>No</td>\n",
       "      <td>No</td>\n",
       "      <td>Low-Income Family</td>\n",
       "      <td>No</td>\n",
       "      <td>Yes</td>\n",
       "      <td>Regular</td>\n",
       "    </tr>\n",
       "    <tr>\n",
       "      <th>3</th>\n",
       "      <td>2254736</td>\n",
       "      <td>1</td>\n",
       "      <td>4</td>\n",
       "      <td>4</td>\n",
       "      <td>7</td>\n",
       "      <td>29.0</td>\n",
       "      <td>196</td>\n",
       "      <td>1</td>\n",
       "      <td>1</td>\n",
       "      <td>Soda</td>\n",
       "      <td>...</td>\n",
       "      <td>Large</td>\n",
       "      <td>Couple With Children</td>\n",
       "      <td>Low</td>\n",
       "      <td>beverages</td>\n",
       "      <td>No</td>\n",
       "      <td>No</td>\n",
       "      <td>Low-Income Family</td>\n",
       "      <td>No</td>\n",
       "      <td>Yes</td>\n",
       "      <td>Early Bird</td>\n",
       "    </tr>\n",
       "    <tr>\n",
       "      <th>4</th>\n",
       "      <td>431534</td>\n",
       "      <td>1</td>\n",
       "      <td>5</td>\n",
       "      <td>4</td>\n",
       "      <td>15</td>\n",
       "      <td>28.0</td>\n",
       "      <td>196</td>\n",
       "      <td>1</td>\n",
       "      <td>1</td>\n",
       "      <td>Soda</td>\n",
       "      <td>...</td>\n",
       "      <td>Large</td>\n",
       "      <td>Couple With Children</td>\n",
       "      <td>Low</td>\n",
       "      <td>beverages</td>\n",
       "      <td>No</td>\n",
       "      <td>No</td>\n",
       "      <td>Low-Income Family</td>\n",
       "      <td>No</td>\n",
       "      <td>Yes</td>\n",
       "      <td>Regular</td>\n",
       "    </tr>\n",
       "  </tbody>\n",
       "</table>\n",
       "<p>5 rows × 42 columns</p>\n",
       "</div>"
      ],
      "text/plain": [
       "   order_id  user_id  order_number  order_dow  order_hour_of_day  \\\n",
       "0   2539329        1             1          2                  8   \n",
       "1   2398795        1             2          3                  7   \n",
       "2    473747        1             3          3                 12   \n",
       "3   2254736        1             4          4                  7   \n",
       "4    431534        1             5          4                 15   \n",
       "\n",
       "   days_since_prior_order  product_id  add_to_cart_order  reordered  \\\n",
       "0                     NaN         196                  1          0   \n",
       "1                    15.0         196                  1          1   \n",
       "2                    21.0         196                  1          1   \n",
       "3                    29.0         196                  1          1   \n",
       "4                    28.0         196                  1          1   \n",
       "\n",
       "  product_name  ...  family_size             household  income_category  \\\n",
       "0         Soda  ...        Large  Couple With Children              Low   \n",
       "1         Soda  ...        Large  Couple With Children              Low   \n",
       "2         Soda  ...        Large  Couple With Children              Low   \n",
       "3         Soda  ...        Large  Couple With Children              Low   \n",
       "4         Soda  ...        Large  Couple With Children              Low   \n",
       "\n",
       "  department alcohol_drinker Has_babies            profile pet_owner  \\\n",
       "0  beverages              No         No  Low-Income Family        No   \n",
       "1  beverages              No         No  Low-Income Family        No   \n",
       "2  beverages              No         No  Low-Income Family        No   \n",
       "3  beverages              No         No  Low-Income Family        No   \n",
       "4  beverages              No         No  Low-Income Family        No   \n",
       "\n",
       "   vegetarian order_time_habit  \n",
       "0         Yes       Early Bird  \n",
       "1         Yes       Early Bird  \n",
       "2         Yes          Regular  \n",
       "3         Yes       Early Bird  \n",
       "4         Yes          Regular  \n",
       "\n",
       "[5 rows x 42 columns]"
      ]
     },
     "execution_count": 118,
     "metadata": {},
     "output_type": "execute_result"
    }
   ],
   "source": [
    "cstmrs.head()"
   ]
  },
  {
   "cell_type": "code",
   "execution_count": 119,
   "id": "13aca0c3",
   "metadata": {},
   "outputs": [
    {
     "data": {
      "text/plain": [
       "Text(0.5, 1.0, 'Frequency of Shopping by Income')"
      ]
     },
     "execution_count": 119,
     "metadata": {},
     "output_type": "execute_result"
    },
    {
     "data": {
      "image/png": "[encoded data removed]",
      "text/plain": [
       "<Figure size 432x288 with 1 Axes>"
      ]
     },
     "metadata": {},
     "output_type": "display_data"
    }
   ],
   "source": [
    "# Create a barchart with Income cat\n",
    "bar_income_freq = cstmrs['income_category'].value_counts().plot.bar(rot = 45, color = 'teal')\n",
    "plt.xlabel('')\n",
    "plt.ylabel('Number of Orders')\n",
    "plt.title ('Frequency of Shopping by Income')"
   ]
  },
  {
   "cell_type": "code",
   "execution_count": 120,
   "id": "20725497",
   "metadata": {},
   "outputs": [],
   "source": [
    "#saving the figure\n",
    "bar_income_freq.figure.savefig(os.path.join(path, '04 Analysis', 'Visualizations','income_freq_range'), bbox_inches = 'tight')"
   ]
  },
  {
   "cell_type": "code",
   "execution_count": 121,
   "id": "f6ff5a10",
   "metadata": {},
   "outputs": [],
   "source": [
    "from colorspacious import cspace_converter"
   ]
  },
  {
   "cell_type": "code",
   "execution_count": 122,
   "id": "8cce6b2d",
   "metadata": {},
   "outputs": [],
   "source": [
    "cmaps = {}"
   ]
  },
  {
   "cell_type": "code",
   "execution_count": 123,
   "id": "cb2d3600",
   "metadata": {},
   "outputs": [],
   "source": [
    "gradient = np.linspace(0, 1, 256)\n",
    "gradient = np.vstack((gradient, gradient))"
   ]
  },
  {
   "cell_type": "code",
   "execution_count": 124,
   "id": "30729336",
   "metadata": {},
   "outputs": [],
   "source": [
    "def plot_color_gradients(category, cmap_list):\n",
    "    # Create figure and adjust figure height to number of colormaps\n",
    "    nrows = len(cmap_list)\n",
    "    figh = 0.35 + 0.15 + (nrows + (nrows - 1) * 0.1) * 0.22\n",
    "    fig, axs = plt.subplots(nrows=nrows + 1, figsize=(6.4, figh))\n",
    "    fig.subplots_adjust(top=1 - 0.35 / figh, bottom=0.15 / figh,\n",
    "                        left=0.2, right=0.99)\n",
    "    axs[0].set_title(f'{category} colormaps', fontsize=14)\n",
    "\n",
    "    for ax, name in zip(axs, cmap_list):\n",
    "        ax.imshow(gradient, aspect='auto', cmap=mpl.colormaps[name])\n",
    "        ax.text(-0.01, 0.5, name, va='center', ha='right', fontsize=10,\n",
    "                transform=ax.transAxes)\n",
    "      "
   ]
  },
  {
   "cell_type": "code",
   "execution_count": 125,
   "id": "d8e40157",
   "metadata": {},
   "outputs": [
    {
     "data": {
      "image/png": "[encoded data removed]",
      "text/plain": [
       "<Figure size 460.8x121.536 with 6 Axes>"
      ]
     },
     "metadata": {},
     "output_type": "display_data"
    }
   ],
   "source": [
    "plot_color_gradients('Perceptually Uniform Sequential',\n",
    "                     ['viridis', 'plasma', 'inferno', 'magma', 'cividis'])"
   ]
  },
  {
   "cell_type": "code",
   "execution_count": 126,
   "id": "ac70b940",
   "metadata": {},
   "outputs": [
    {
     "data": {
      "image/png": "[encoded data removed]",
      "text/html": [
       "<div style=\"vertical-align: middle;\"><strong>viridis</strong> </div><div class=\"cmap\"><img alt=\"viridis colormap\" title=\"viridis\" style=\"border: 1px solid #555;\" src=\"data:image/png;base64,iVBORw0KGgoAAAANSUhEUgAAAgAAAABACAYAAABsv8+/AAAAFnRFWHRUaXRsZQB2aXJpZGlzIGNvbG9ybWFwrE0mCwAAABx0RVh0RGVzY3JpcHRpb24AdmlyaWRpcyBjb2xvcm1hcAtjl3IAAAAwdEVYdEF1dGhvcgBNYXRwbG90bGliIHYzLjUuMSwgaHR0cHM6Ly9tYXRwbG90bGliLm9yZ/e3zs8AAAAydEVYdFNvZnR3YXJlAE1hdHBsb3RsaWIgdjMuNS4xLCBodHRwczovL21hdHBsb3RsaWIub3Jn2RFR6AAAAiJJREFUeJzt1kGSmzAURdEv2FqWkP0vJfQgMhQCGceV2Ttn4pL0EVQPum771X5vVVXVWv39XfrPeV193V5zS98f1sf5/fPjey73zu6/3Hv/uz2cz57f9vP68rxO9+/zre7nhvvG+et6vH92bw3PDfcsD+eX59+/53n96f3362/f87/vf5yr93Of72/fPV9P89tX3zGeH3OT8/07Zs+/32+TuXZZD8/VODf8W5uuH/b7vctlfuv7NazH8/t7ZnP7bz2cD3NL+/Ph3Hl+/efz83vWun/vuL++nquH9eu9w/uu6/vvOO49f/8xf77vOj+8b7Y/fMfse9ca/y7nv+d62a++X+f1vt+G/b7u+/u6TxzzS//tc2053QMABBEAABBIAABAIAEAAIEEAAAEEgAAEEgAAEAgAQAAgQQAAAQSAAAQSAAAQCABAACBBAAABBIAABBIAABAIAEAAIEEAAAEEgAAEEgAAEAgAQAAgQQAAAQSAAAQSAAAQCABAACBBAAABBIAABBIAABAIAEAAIEEAAAEEgAAEEgAAEAgAQAAgQQAAAQSAAAQSAAAQCABAACBBAAABBIAABBIAABAIAEAAIEEAAAEEgAAEEgAAEAgAQAAgQQAAAQSAAAQSAAAQCABAACBBAAABBIAABBIAABAIAEAAIEEAAAEEgAAEEgAAEAgAQAAgQQAAAQSAAAQSAAAQCABAACBBAAABBIAABBIAABAoB9ucImHxcKZtAAAAABJRU5ErkJggg==\"></div><div style=\"vertical-align: middle; max-width: 514px; display: flex; justify-content: space-between;\"><div style=\"float: left;\"><div title=\"#440154ff\" style=\"display: inline-block; width: 1em; height: 1em; margin: 0; vertical-align: middle; border: 1px solid #555; background-color: #440154ff;\"></div> under</div><div style=\"margin: 0 auto; display: inline-block;\">bad <div title=\"#00000000\" style=\"display: inline-block; width: 1em; height: 1em; margin: 0; vertical-align: middle; border: 1px solid #555; background-color: #00000000;\"></div></div><div style=\"float: right;\">over <div title=\"#fde725ff\" style=\"display: inline-block; width: 1em; height: 1em; margin: 0; vertical-align: middle; border: 1px solid #555; background-color: #fde725ff;\"></div></div>"
      ],
      "text/plain": [
       "<matplotlib.colors.ListedColormap at 0x7fc319f052e0>"
      ]
     },
     "execution_count": 126,
     "metadata": {},
     "output_type": "execute_result"
    }
   ],
   "source": [
    "sns.color_palette('viridis', as_cmap = True)"
   ]
  },
  {
   "cell_type": "code",
   "execution_count": 127,
   "id": "a0bfebed",
   "metadata": {},
   "outputs": [
    {
     "data": {
      "image/png": "[encoded data removed]",
      "text/html": [
       "<div style=\"vertical-align: middle;\"><strong>inferno</strong> </div><div class=\"cmap\"><img alt=\"inferno colormap\" title=\"inferno\" style=\"border: 1px solid #555;\" src=\"data:image/png;base64,iVBORw0KGgoAAAANSUhEUgAAAgAAAABACAYAAABsv8+/AAAAFnRFWHRUaXRsZQBpbmZlcm5vIGNvbG9ybWFwTalGwAAAABx0RVh0RGVzY3JpcHRpb24AaW5mZXJubyBjb2xvcm1hcOqH97kAAAAwdEVYdEF1dGhvcgBNYXRwbG90bGliIHYzLjUuMSwgaHR0cHM6Ly9tYXRwbG90bGliLm9yZ/e3zs8AAAAydEVYdFNvZnR3YXJlAE1hdHBsb3RsaWIgdjMuNS4xLCBodHRwczovL21hdHBsb3RsaWIub3Jn2RFR6AAAAj5JREFUeJzt1kty2zAQBUAAVO5/YzGLCHRhaFhytq97o5oPQMouu15v7Thba621/u+jjVf1qvso/WPp99mve33dv+rNubk3bvNjqUep5/nRyl6t6z3l+4xz7X/NS/98N+9lPuv6uZu3td/X+fVb6mW/1HP+tV/vbeX8/+79XH+8186P7v96j3PzXudn92/uuZ57u7/u1eecvzu33as/h9o/yz31+5V52+zf3mOt7895U2/fr/THrJ8fPe+35/vYnB/P7++/7T9fP6A3e+P547zN+eZcq+fG/De8nmv1+9b+5r76/NY35679Vt5/7V/zUt//AGd/1uPDunz2Tb98nuPYzI/X/F3/KP31vnM7L3V/lPmj7G3q/ij7tf9n6fe+znvp901/XPNjqeevCwAIIgAAQCABAAACCQAAEEgAAIBAAgAABBIAACCQAAAAgQQAAAgkAABAIAEAAAIJAAAQSAAAgEACAAAEEgAAIJAAAACBBAAACCQAAEAgAQAAAgkAABBIAACAQAIAAAQSAAAgkAAAAIEEAAAIJAAAQCABAAACCQAAEEgAAIBAAgAABBIAACCQAAAAgQQAAAgkAABAIAEAAAIJAAAQSAAAgEACAAAEEgAAIJAAAACBBAAACCQAAEAgAQAAAgkAABBIAACAQAIAAAQSAAAgkAAAAIEEAAAIJAAAQCABAAACCQAAEEgAAIBAAgAABBIAACCQAAAAgQQAAAgkAABAIAEAAAIJAAAQSAAAgEACAAAEEgAAINBfNHptHZCXMAEAAAAASUVORK5CYII=\"></div><div style=\"vertical-align: middle; max-width: 514px; display: flex; justify-content: space-between;\"><div style=\"float: left;\"><div title=\"#000004ff\" style=\"display: inline-block; width: 1em; height: 1em; margin: 0; vertical-align: middle; border: 1px solid #555; background-color: #000004ff;\"></div> under</div><div style=\"margin: 0 auto; display: inline-block;\">bad <div title=\"#00000000\" style=\"display: inline-block; width: 1em; height: 1em; margin: 0; vertical-align: middle; border: 1px solid #555; background-color: #00000000;\"></div></div><div style=\"float: right;\">over <div title=\"#fcffa4ff\" style=\"display: inline-block; width: 1em; height: 1em; margin: 0; vertical-align: middle; border: 1px solid #555; background-color: #fcffa4ff;\"></div></div>"
      ],
      "text/plain": [
       "<matplotlib.colors.ListedColormap at 0x7fc319f05250>"
      ]
     },
     "execution_count": 127,
     "metadata": {},
     "output_type": "execute_result"
    }
   ],
   "source": [
    "sns.color_palette('inferno', as_cmap = True)"
   ]
  },
  {
   "cell_type": "code",
   "execution_count": 128,
   "id": "cc1577ce",
   "metadata": {},
   "outputs": [
    {
     "data": {
      "image/png": "[encoded data removed]",
      "text/html": [
       "<div style=\"vertical-align: middle;\"><strong>YlOrBr</strong> </div><div class=\"cmap\"><img alt=\"YlOrBr colormap\" title=\"YlOrBr\" style=\"border: 1px solid #555;\" src=\"data:image/png;base64,iVBORw0KGgoAAAANSUhEUgAAAgAAAABACAYAAABsv8+/AAAAFXRFWHRUaXRsZQBZbE9yQnIgY29sb3JtYXCzto19AAAAG3RFWHREZXNjcmlwdGlvbgBZbE9yQnIgY29sb3JtYXD6IZWZAAAAMHRFWHRBdXRob3IATWF0cGxvdGxpYiB2My41LjEsIGh0dHBzOi8vbWF0cGxvdGxpYi5vcmf3t87PAAAAMnRFWHRTb2Z0d2FyZQBNYXRwbG90bGliIHYzLjUuMSwgaHR0cHM6Ly9tYXRwbG90bGliLm9yZ9kRUegAAAHeSURBVHic7dZLktowAEBBkftfM8cYnEUYUsgo5jer171xWZaE7GLxTtv2extjjLGdx1/b7XU1Pi7j2zx+9Hza7+Hnq/MdPV+d//La8/N5v+3F8bfXT+f/1Pj8ntf5z16/pn1f3efN3/3Y9fI9zovveJ6/25Pzn9538T/ZzT+/db7tOv972u367WD8en+e9jkY/7du2udg/Oic83s9fM7FuXfjj94vzvFj61489/JvOm7vd/PG/XWr9bt51/Wn/+7/8+c73d9vXr+4X77var/dvNP9eZ/+3cU5fg0AIEcAAECQAACAIAEAAEECAACCBAAABAkAAAgSAAAQJAAAIEgAAECQAACAIAEAAEECAACCBAAABAkAAAgSAAAQJAAAIEgAAECQAACAIAEAAEECAACCBAAABAkAAAgSAAAQJAAAIEgAAECQAACAIAEAAEECAACCBAAABAkAAAgSAAAQJAAAIEgAAECQAACAIAEAAEECAACCBAAABAkAAAgSAAAQJAAAIEgAAECQAACAIAEAAEECAACCBAAABAkAAAgSAAAQJAAAIEgAAECQAACAIAEAAEECAACCBAAABAkAAAgSAAAQJAAAIEgAAECQAACAIAEAAEECAACCBAAABAkAAAj6A9Yg3R67d126AAAAAElFTkSuQmCC\"></div><div style=\"vertical-align: middle; max-width: 514px; display: flex; justify-content: space-between;\"><div style=\"float: left;\"><div title=\"#ffffe5ff\" style=\"display: inline-block; width: 1em; height: 1em; margin: 0; vertical-align: middle; border: 1px solid #555; background-color: #ffffe5ff;\"></div> under</div><div style=\"margin: 0 auto; display: inline-block;\">bad <div title=\"#00000000\" style=\"display: inline-block; width: 1em; height: 1em; margin: 0; vertical-align: middle; border: 1px solid #555; background-color: #00000000;\"></div></div><div style=\"float: right;\">over <div title=\"#662506ff\" style=\"display: inline-block; width: 1em; height: 1em; margin: 0; vertical-align: middle; border: 1px solid #555; background-color: #662506ff;\"></div></div>"
      ],
      "text/plain": [
       "<matplotlib.colors.LinearSegmentedColormap at 0x7fc319f05af0>"
      ]
     },
     "execution_count": 128,
     "metadata": {},
     "output_type": "execute_result"
    }
   ],
   "source": [
    "sns.color_palette('YlOrBr', as_cmap = True)"
   ]
  },
  {
   "cell_type": "code",
   "execution_count": 129,
   "id": "9a1db8b7",
   "metadata": {},
   "outputs": [
    {
     "data": {
      "text/plain": [
       "array([[0.865006, 0.316822, 0.226055, 1.      ],\n",
       "       [0.851384, 0.30226 , 0.239636, 1.      ],\n",
       "       [0.832299, 0.283913, 0.257383, 1.      ],\n",
       "       [0.817341, 0.270954, 0.27039 , 1.      ],\n",
       "       [0.796607, 0.254728, 0.287264, 1.      ],\n",
       "       [0.775059, 0.239667, 0.303526, 1.      ],\n",
       "       [0.758422, 0.229097, 0.315266, 1.      ],\n",
       "       [0.735683, 0.215906, 0.330245, 1.      ],\n",
       "       [0.718264, 0.206636, 0.340931, 1.      ],\n",
       "       [0.694627, 0.195021, 0.354388, 1.      ],\n",
       "       [0.676638, 0.186807, 0.363849, 1.      ],\n",
       "       [0.652369, 0.176421, 0.375586, 1.      ],\n",
       "       [0.633998, 0.168992, 0.383704, 1.      ],\n",
       "       [0.60933 , 0.159474, 0.393589, 1.      ],\n",
       "       [0.590734, 0.152563, 0.40029 , 1.      ],\n",
       "       [0.565854, 0.143567, 0.408258, 1.      ],\n",
       "       [0.547157, 0.136929, 0.413511, 1.      ],\n",
       "       [0.522206, 0.12815 , 0.419549, 1.      ],\n",
       "       [0.503493, 0.121575, 0.423356, 1.      ],\n",
       "       [0.478558, 0.112764, 0.427475, 1.      ],\n",
       "       [0.453651, 0.103848, 0.430498, 1.      ],\n",
       "       [0.434987, 0.097069, 0.432039, 1.      ],\n",
       "       [0.410113, 0.087896, 0.433098, 1.      ],\n",
       "       [0.391453, 0.080927, 0.433109, 1.      ],\n",
       "       [0.366529, 0.071579, 0.431994, 1.      ],\n",
       "       [0.347771, 0.064616, 0.430217, 1.      ],\n",
       "       [0.32261 , 0.055634, 0.426377, 1.      ],\n",
       "       [0.303568, 0.049396, 0.422182, 1.      ],\n",
       "       [0.27785 , 0.042353, 0.414392, 1.      ],\n",
       "       [0.258234, 0.038571, 0.406485, 1.      ]])"
      ]
     },
     "execution_count": 129,
     "metadata": {},
     "output_type": "execute_result"
    }
   ],
   "source": [
    "from matplotlib import cm\n",
    "color = cm.inferno_r(np.linspace(.4, .8, 30))\n",
    "color\n",
    "\n",
    "\n",
    "   "
   ]
  },
  {
   "cell_type": "code",
   "execution_count": 130,
   "id": "70fba953",
   "metadata": {},
   "outputs": [
    {
     "data": {
      "text/plain": [
       "Text(0.5, 1.0, 'Product Prices')"
      ]
     },
     "execution_count": 130,
     "metadata": {},
     "output_type": "execute_result"
    },
    {
     "data": {
      "image/png": "[encoded data removed]",
      "text/plain": [
       "<Figure size 432x288 with 1 Axes>"
      ]
     },
     "metadata": {},
     "output_type": "display_data"
    }
   ],
   "source": [
    "# Creating a histogram with product prices\n",
    "hist_price_frequency = df_merged_all['prices'].plot.hist(bins = 25,rot = 45, color = 'mediumblue', rwidth = 0.9)\n",
    "plt.xlabel('US $')\n",
    "plt.ylabel('Number of Orders')\n",
    "plt.title ('Product Prices')"
   ]
  },
  {
   "cell_type": "code",
   "execution_count": 131,
   "id": "34346d17",
   "metadata": {},
   "outputs": [],
   "source": [
    "hist_price_frequency.figure.savefig(os.path.join(path, '04 Analysis', 'Visualizations','hist_prices.png'))"
   ]
  },
  {
   "cell_type": "code",
   "execution_count": 132,
   "id": "a013d025",
   "metadata": {},
   "outputs": [],
   "source": [
    "# Create crosstab for loyalty status & regularity of orders\n",
    "crosstabz = pd.crosstab(df_merged_all['days_since_prior_order'], df_merged_all['loyalty_flag'], dropna = False)"
   ]
  },
  {
   "cell_type": "code",
   "execution_count": 133,
   "id": "736e12ad",
   "metadata": {},
   "outputs": [
    {
     "data": {
      "text/html": [
       "<div>\n",
       "<style scoped>\n",
       "    .dataframe tbody tr th:only-of-type {\n",
       "        vertical-align: middle;\n",
       "    }\n",
       "\n",
       "    .dataframe tbody tr th {\n",
       "        vertical-align: top;\n",
       "    }\n",
       "\n",
       "    .dataframe thead th {\n",
       "        text-align: right;\n",
       "    }\n",
       "</style>\n",
       "<table border=\"1\" class=\"dataframe\">\n",
       "  <thead>\n",
       "    <tr style=\"text-align: right;\">\n",
       "      <th>loyalty_flag</th>\n",
       "      <th>Loyal customer</th>\n",
       "      <th>New customer</th>\n",
       "      <th>Regular customer</th>\n",
       "    </tr>\n",
       "    <tr>\n",
       "      <th>days_since_prior_order</th>\n",
       "      <th></th>\n",
       "      <th></th>\n",
       "      <th></th>\n",
       "    </tr>\n",
       "  </thead>\n",
       "  <tbody>\n",
       "    <tr>\n",
       "      <th>0.0</th>\n",
       "      <td>239649</td>\n",
       "      <td>50835</td>\n",
       "      <td>157845</td>\n",
       "    </tr>\n",
       "    <tr>\n",
       "      <th>1.0</th>\n",
       "      <td>626159</td>\n",
       "      <td>52138</td>\n",
       "      <td>262177</td>\n",
       "    </tr>\n",
       "    <tr>\n",
       "      <th>2.0</th>\n",
       "      <td>973214</td>\n",
       "      <td>73018</td>\n",
       "      <td>417492</td>\n",
       "    </tr>\n",
       "    <tr>\n",
       "      <th>3.0</th>\n",
       "      <td>1185968</td>\n",
       "      <td>102510</td>\n",
       "      <td>587710</td>\n",
       "    </tr>\n",
       "    <tr>\n",
       "      <th>4.0</th>\n",
       "      <td>1202971</td>\n",
       "      <td>128621</td>\n",
       "      <td>747056</td>\n",
       "    </tr>\n",
       "  </tbody>\n",
       "</table>\n",
       "</div>"
      ],
      "text/plain": [
       "loyalty_flag            Loyal customer  New customer  Regular customer\n",
       "days_since_prior_order                                                \n",
       "0.0                             239649         50835            157845\n",
       "1.0                             626159         52138            262177\n",
       "2.0                             973214         73018            417492\n",
       "3.0                            1185968        102510            587710\n",
       "4.0                            1202971        128621            747056"
      ]
     },
     "execution_count": 133,
     "metadata": {},
     "output_type": "execute_result"
    }
   ],
   "source": [
    "crosstabz.head()"
   ]
  },
  {
   "cell_type": "code",
   "execution_count": 134,
   "id": "8f86fb46",
   "metadata": {},
   "outputs": [
    {
     "data": {
      "text/plain": [
       "Text(0.5, 1.0, 'Days Passed Since Last Order by Customer Loyalty')"
      ]
     },
     "execution_count": 134,
     "metadata": {},
     "output_type": "execute_result"
    },
    {
     "data": {
      "image/png": "[encoded data removed]",
      "text/plain": [
       "<Figure size 720x360 with 1 Axes>"
      ]
     },
     "metadata": {},
     "output_type": "display_data"
    }
   ],
   "source": [
    "# Create a stacked chart of customer loyalty & days since prior order\n",
    "bar_loyalty_since_prior = crosstabz.loc[:,['Loyal customer','New customer','Regular customer']].apply(lambda x: x*100/sum(x), axis=1).plot.bar(stacked=True, rot=45, figsize=(10,5), colormap = 'crest').legend(title=\"Customer loyalty\", bbox_to_anchor=(1.0,1.0))\n",
    "plt.xlabel('Days Since Prior Order')\n",
    "plt.ylabel('% of customer loyalty category')\n",
    "plt.title ('Days Passed Since Last Order by Customer Loyalty')"
   ]
  },
  {
   "cell_type": "code",
   "execution_count": 135,
   "id": "eebd190d",
   "metadata": {},
   "outputs": [],
   "source": [
    "#Export days since last order by loyalty\n",
    "bar_loyalty_since_prior.figure.savefig(os.path.join(path, '04 Analysis', 'Visualizations','stacked_loyalty_days.png'),bbox_inches = 'tight')"
   ]
  },
  {
   "cell_type": "code",
   "execution_count": 136,
   "id": "7843714e",
   "metadata": {},
   "outputs": [
    {
     "data": {
      "image/png": "[encoded data removed]",
      "text/plain": [
       "<Figure size 720x72 with 1 Axes>"
      ]
     },
     "metadata": {},
     "output_type": "display_data"
    }
   ],
   "source": [
    "from matplotlib import pyplot as plt\n",
    "current_palette = sns.color_palette()\n",
    "sns.palplot(current_palette)\n",
    "plt.show()"
   ]
  },
  {
   "cell_type": "code",
   "execution_count": 137,
   "id": "6e9b6364",
   "metadata": {},
   "outputs": [
    {
     "data": {
      "text/plain": [
       "(array([0, 1, 2, 3]),\n",
       " [Text(0, 0, 'Couple With Children'),\n",
       "  Text(1, 0, 'One Person'),\n",
       "  Text(2, 0, 'Couple Without Children'),\n",
       "  Text(3, 0, 'Other Family')])"
      ]
     },
     "execution_count": 137,
     "metadata": {},
     "output_type": "execute_result"
    },
    {
     "data": {
      "image/png": "[encoded data removed]",
      "text/plain": [
       "<Figure size 432x288 with 1 Axes>"
      ]
     },
     "metadata": {},
     "output_type": "display_data"
    }
   ],
   "source": [
    "bar_age_day = cstmrs['household'].value_counts().plot.bar(color = ['lime', 'magenta', 'gold', 'aqua'])\n",
    "plt.title('Household Distribution of Instacart Customers', fontsize = 18, pad=20)\n",
    "plt.ylabel('Frequency (in millions)', fontsize = 12)\n",
    "plt.xlabel('Household',  fontsize = 12)\n",
    "plt.xticks(rotation=45)"
   ]
  },
  {
   "cell_type": "code",
   "execution_count": 138,
   "id": "e2873b26",
   "metadata": {},
   "outputs": [],
   "source": [
    "# Export\n",
    "bar_profile_region.figure.savefig(os.path.join(path, '04 Analysis', 'Visualizations','income_by_region_barchart.png'), bbox_inches = 'tight')"
   ]
  },
  {
   "cell_type": "markdown",
   "id": "f0c5fb9e",
   "metadata": {},
   "source": [
    "Low-Income users make up the Majority of Instacart customers by Region\n"
   ]
  },
  {
   "cell_type": "code",
   "execution_count": 139,
   "id": "b7b085a5",
   "metadata": {},
   "outputs": [],
   "source": [
    "# Export updated Dataframes & Charts"
   ]
  },
  {
   "cell_type": "code",
   "execution_count": 140,
   "id": "9debf676",
   "metadata": {},
   "outputs": [],
   "source": [
    "# Export low_activity_cxs in .pkl format \n",
    "low_activity_cxs.to_pickle(os.path.join(path, '02 Data', 'Prepared Data', 'low_activity_cxs_orders.pkl'))"
   ]
  },
  {
   "cell_type": "code",
   "execution_count": 141,
   "id": "89dd92ac",
   "metadata": {},
   "outputs": [],
   "source": [
    "# Export high_activity_cxs in .pkl format\n",
    "high_activity_cxs.to_pickle(os.path.join(path, '02 Data', 'Prepared Data', 'high_activity_cxs_orders.pkl'))"
   ]
  },
  {
   "cell_type": "markdown",
   "id": "0bd8a425",
   "metadata": {},
   "source": [
    "Export Charts"
   ]
  },
  {
   "cell_type": "code",
   "execution_count": 142,
   "id": "e231988c",
   "metadata": {},
   "outputs": [],
   "source": [
    "# Export dow_by_age_group\n",
    "bar.figure.savefig(os.path.join(path, '04 Analysis', 'Visualizations','dow_by_age_groups_barchart.png'), bbox_inches = 'tight')"
   ]
  },
  {
   "cell_type": "code",
   "execution_count": 143,
   "id": "d7f79dac",
   "metadata": {},
   "outputs": [],
   "source": [
    "# Export bar chart Household_status\n",
    "bar.figure.savefig(os.path.join(path, '04 Analysis', 'Visualizations','customer_houshold_stats_barchart.png'),bbox_inches = 'tight')"
   ]
  },
  {
   "cell_type": "code",
   "execution_count": 144,
   "id": "78f24a61",
   "metadata": {},
   "outputs": [],
   "source": [
    "# Export histogram income_frequency_of_use\n",
    "hist.figure.savefig(os.path.join(path, '04 Analysis', 'Visualizations','income_histogram.png'))"
   ]
  },
  {
   "cell_type": "code",
   "execution_count": 145,
   "id": "af0bf868",
   "metadata": {},
   "outputs": [],
   "source": [
    "# Export Families with vs without babies by region\n",
    "bar_profile_region.figure.savefig(os.path.join(path, '04 Analysis', 'Visualizations','baby_fams_regional_barchart.png'), bbox_inches = 'tight')"
   ]
  },
  {
   "cell_type": "code",
   "execution_count": 146,
   "id": "f63fddef",
   "metadata": {},
   "outputs": [],
   "source": [
    "# Exporting Customer Profiles\n",
    "bar.figure.savefig(os.path.join(path, '04 Analysis', 'Visualizations','customer_profiles_barchart.png'),bbox_inches = 'tight')"
   ]
  },
  {
   "cell_type": "code",
   "execution_count": 147,
   "id": "d6bcf696",
   "metadata": {},
   "outputs": [],
   "source": [
    "# Exporting Vegetarian pie chart in .png format\n",
    "\n",
    "veg_pie.figure.savefig(os.path.join(path, '04 Analysis', 'Visualizations', 'veg_pie'), bbox_inches='tight')"
   ]
  },
  {
   "cell_type": "code",
   "execution_count": 148,
   "id": "a2bb96e2",
   "metadata": {},
   "outputs": [],
   "source": [
    "# Export Ordering_habits\n",
    "bar.figure.savefig(os.path.join(path, '04 Analysis', 'Visualizations','customer_order_habits_barchart.png'),bbox_inches = 'tight')"
   ]
  },
  {
   "cell_type": "code",
   "execution_count": 149,
   "id": "e3e10278",
   "metadata": {},
   "outputs": [],
   "source": [
    "# Export Customer profiles by region\n",
    "bar_profile_region.figure.savefig(os.path.join(path, '04 Analysis', 'Visualizations','region_profiles_barchart.png'), bbox_inches = 'tight')"
   ]
  },
  {
   "cell_type": "code",
   "execution_count": 150,
   "id": "5b4ae921",
   "metadata": {},
   "outputs": [],
   "source": [
    "# Export income by regional spending\n",
    "bar_profile_region.figure.savefig(os.path.join(path, '04 Analysis', 'Visualizations','income_by_region_barchart.png'), bbox_inches = 'tight')"
   ]
  },
  {
   "cell_type": "code",
   "execution_count": 151,
   "id": "2b7abfb9",
   "metadata": {},
   "outputs": [],
   "source": [
    "df_merged_low_act = pd.read_pickle(os.path.join(path, '02 Data', 'Prepared Data', 'low_activity_cxs_orders.pkl'))"
   ]
  },
  {
   "cell_type": "code",
   "execution_count": 152,
   "id": "684803bc",
   "metadata": {},
   "outputs": [
    {
     "data": {
      "text/html": [
       "<div>\n",
       "<style scoped>\n",
       "    .dataframe tbody tr th:only-of-type {\n",
       "        vertical-align: middle;\n",
       "    }\n",
       "\n",
       "    .dataframe tbody tr th {\n",
       "        vertical-align: top;\n",
       "    }\n",
       "\n",
       "    .dataframe thead th {\n",
       "        text-align: right;\n",
       "    }\n",
       "</style>\n",
       "<table border=\"1\" class=\"dataframe\">\n",
       "  <thead>\n",
       "    <tr style=\"text-align: right;\">\n",
       "      <th></th>\n",
       "      <th>order_id</th>\n",
       "      <th>user_id</th>\n",
       "      <th>order_number</th>\n",
       "      <th>order_dow</th>\n",
       "      <th>order_hour_of_day</th>\n",
       "      <th>days_since_prior_order</th>\n",
       "      <th>product_id</th>\n",
       "      <th>add_to_cart_order</th>\n",
       "      <th>reordered</th>\n",
       "      <th>product_name</th>\n",
       "      <th>...</th>\n",
       "      <th>order_freq_flag</th>\n",
       "      <th>Gender</th>\n",
       "      <th>STATE</th>\n",
       "      <th>Age</th>\n",
       "      <th>date_joined</th>\n",
       "      <th>n_dependants</th>\n",
       "      <th>fam_status</th>\n",
       "      <th>income</th>\n",
       "      <th>region</th>\n",
       "      <th>activity_flag</th>\n",
       "    </tr>\n",
       "  </thead>\n",
       "  <tbody>\n",
       "    <tr>\n",
       "      <th>1510</th>\n",
       "      <td>520620</td>\n",
       "      <td>120</td>\n",
       "      <td>1</td>\n",
       "      <td>3</td>\n",
       "      <td>11</td>\n",
       "      <td>NaN</td>\n",
       "      <td>196</td>\n",
       "      <td>2</td>\n",
       "      <td>0</td>\n",
       "      <td>Soda</td>\n",
       "      <td>...</td>\n",
       "      <td>Regular customer</td>\n",
       "      <td>Female</td>\n",
       "      <td>Kentucky</td>\n",
       "      <td>54</td>\n",
       "      <td>3/2/2017</td>\n",
       "      <td>2</td>\n",
       "      <td>married</td>\n",
       "      <td>99219</td>\n",
       "      <td>South</td>\n",
       "      <td>Low activity</td>\n",
       "    </tr>\n",
       "    <tr>\n",
       "      <th>1511</th>\n",
       "      <td>3273029</td>\n",
       "      <td>120</td>\n",
       "      <td>3</td>\n",
       "      <td>2</td>\n",
       "      <td>8</td>\n",
       "      <td>19.0</td>\n",
       "      <td>196</td>\n",
       "      <td>2</td>\n",
       "      <td>1</td>\n",
       "      <td>Soda</td>\n",
       "      <td>...</td>\n",
       "      <td>Regular customer</td>\n",
       "      <td>Female</td>\n",
       "      <td>Kentucky</td>\n",
       "      <td>54</td>\n",
       "      <td>3/2/2017</td>\n",
       "      <td>2</td>\n",
       "      <td>married</td>\n",
       "      <td>99219</td>\n",
       "      <td>South</td>\n",
       "      <td>Low activity</td>\n",
       "    </tr>\n",
       "    <tr>\n",
       "      <th>1512</th>\n",
       "      <td>520620</td>\n",
       "      <td>120</td>\n",
       "      <td>1</td>\n",
       "      <td>3</td>\n",
       "      <td>11</td>\n",
       "      <td>NaN</td>\n",
       "      <td>46149</td>\n",
       "      <td>1</td>\n",
       "      <td>0</td>\n",
       "      <td>Zero Calorie Cola</td>\n",
       "      <td>...</td>\n",
       "      <td>Regular customer</td>\n",
       "      <td>Female</td>\n",
       "      <td>Kentucky</td>\n",
       "      <td>54</td>\n",
       "      <td>3/2/2017</td>\n",
       "      <td>2</td>\n",
       "      <td>married</td>\n",
       "      <td>99219</td>\n",
       "      <td>South</td>\n",
       "      <td>Low activity</td>\n",
       "    </tr>\n",
       "    <tr>\n",
       "      <th>1513</th>\n",
       "      <td>3273029</td>\n",
       "      <td>120</td>\n",
       "      <td>3</td>\n",
       "      <td>2</td>\n",
       "      <td>8</td>\n",
       "      <td>19.0</td>\n",
       "      <td>46149</td>\n",
       "      <td>1</td>\n",
       "      <td>1</td>\n",
       "      <td>Zero Calorie Cola</td>\n",
       "      <td>...</td>\n",
       "      <td>Regular customer</td>\n",
       "      <td>Female</td>\n",
       "      <td>Kentucky</td>\n",
       "      <td>54</td>\n",
       "      <td>3/2/2017</td>\n",
       "      <td>2</td>\n",
       "      <td>married</td>\n",
       "      <td>99219</td>\n",
       "      <td>South</td>\n",
       "      <td>Low activity</td>\n",
       "    </tr>\n",
       "    <tr>\n",
       "      <th>1514</th>\n",
       "      <td>520620</td>\n",
       "      <td>120</td>\n",
       "      <td>1</td>\n",
       "      <td>3</td>\n",
       "      <td>11</td>\n",
       "      <td>NaN</td>\n",
       "      <td>26348</td>\n",
       "      <td>3</td>\n",
       "      <td>0</td>\n",
       "      <td>Mixed Fruit Fruit Snacks</td>\n",
       "      <td>...</td>\n",
       "      <td>Regular customer</td>\n",
       "      <td>Female</td>\n",
       "      <td>Kentucky</td>\n",
       "      <td>54</td>\n",
       "      <td>3/2/2017</td>\n",
       "      <td>2</td>\n",
       "      <td>married</td>\n",
       "      <td>99219</td>\n",
       "      <td>South</td>\n",
       "      <td>Low activity</td>\n",
       "    </tr>\n",
       "  </tbody>\n",
       "</table>\n",
       "<p>5 rows × 31 columns</p>\n",
       "</div>"
      ],
      "text/plain": [
       "      order_id  user_id  order_number  order_dow  order_hour_of_day  \\\n",
       "1510    520620      120             1          3                 11   \n",
       "1511   3273029      120             3          2                  8   \n",
       "1512    520620      120             1          3                 11   \n",
       "1513   3273029      120             3          2                  8   \n",
       "1514    520620      120             1          3                 11   \n",
       "\n",
       "      days_since_prior_order  product_id  add_to_cart_order  reordered  \\\n",
       "1510                     NaN         196                  2          0   \n",
       "1511                    19.0         196                  2          1   \n",
       "1512                     NaN       46149                  1          0   \n",
       "1513                    19.0       46149                  1          1   \n",
       "1514                     NaN       26348                  3          0   \n",
       "\n",
       "                  product_name  ...   order_freq_flag  Gender     STATE Age  \\\n",
       "1510                      Soda  ...  Regular customer  Female  Kentucky  54   \n",
       "1511                      Soda  ...  Regular customer  Female  Kentucky  54   \n",
       "1512         Zero Calorie Cola  ...  Regular customer  Female  Kentucky  54   \n",
       "1513         Zero Calorie Cola  ...  Regular customer  Female  Kentucky  54   \n",
       "1514  Mixed Fruit Fruit Snacks  ...  Regular customer  Female  Kentucky  54   \n",
       "\n",
       "     date_joined n_dependants  fam_status income  region activity_flag  \n",
       "1510    3/2/2017            2     married  99219   South  Low activity  \n",
       "1511    3/2/2017            2     married  99219   South  Low activity  \n",
       "1512    3/2/2017            2     married  99219   South  Low activity  \n",
       "1513    3/2/2017            2     married  99219   South  Low activity  \n",
       "1514    3/2/2017            2     married  99219   South  Low activity  \n",
       "\n",
       "[5 rows x 31 columns]"
      ]
     },
     "execution_count": 152,
     "metadata": {},
     "output_type": "execute_result"
    }
   ],
   "source": [
    "df_merged_low_act.head()"
   ]
  },
  {
   "cell_type": "code",
   "execution_count": 153,
   "id": "5631c03a",
   "metadata": {},
   "outputs": [
    {
     "data": {
      "text/plain": [
       "Text(0.5, 1.0, 'Income Distribution Among Infrequent Instacart Users')"
      ]
     },
     "execution_count": 153,
     "metadata": {},
     "output_type": "execute_result"
    },
    {
     "data": {
      "image/png": "[encoded data removed]",
      "text/plain": [
       "<Figure size 432x288 with 1 Axes>"
      ]
     },
     "metadata": {},
     "output_type": "display_data"
    }
   ],
   "source": [
    "histy5 = df_merged_low_act['income'].plot.hist(bins = 25, rwidth=0.9, color = 'darkviolet')\n",
    "\n",
    "plt.xlabel('Family Income $')\n",
    "plt.ylabel('Frequency (in Millions)')\n",
    "plt.title('Income Distribution Among Infrequent Instacart Users')"
   ]
  },
  {
   "cell_type": "code",
   "execution_count": 154,
   "id": "397a72d1",
   "metadata": {},
   "outputs": [],
   "source": [
    "histy5.figure.savefig(os.path.join(path, '04 Analysis', 'Visualizations', 'hist_cust_low_act.png'))"
   ]
  },
  {
   "cell_type": "code",
   "execution_count": 155,
   "id": "3344db59",
   "metadata": {},
   "outputs": [
    {
     "data": {
      "text/plain": [
       "Text(0.5, 1.0, 'Income Distribution Among Frequent Instacart Users')"
      ]
     },
     "execution_count": 155,
     "metadata": {},
     "output_type": "execute_result"
    },
    {
     "data": {
      "image/png": "[encoded data removed]",
      "text/plain": [
       "<Figure size 432x288 with 1 Axes>"
      ]
     },
     "metadata": {},
     "output_type": "display_data"
    }
   ],
   "source": [
    "histy6 = high_activity_cxs['income'].plot.hist(bins = 25, rwidth=0.9, color = 'lightgreen')\n",
    "\n",
    "plt.xlabel('Family Income $')\n",
    "plt.ylabel('Frequency (in Millions)')\n",
    "plt.title('Income Distribution Among Frequent Instacart Users')"
   ]
  },
  {
   "cell_type": "code",
   "execution_count": 156,
   "id": "2703faad",
   "metadata": {},
   "outputs": [],
   "source": [
    "histy6.figure.savefig(os.path.join(path, '04 Analysis', 'Visualizations', 'hist_cust_high_act.png'))"
   ]
  },
  {
   "cell_type": "code",
   "execution_count": null,
   "id": "909cfc2f",
   "metadata": {},
   "outputs": [],
   "source": []
  }
 ],
 "metadata": {
  "kernelspec": {
   "display_name": "Python 3 (ipykernel)",
   "language": "python",
   "name": "python3"
  },
  "language_info": {
   "codemirror_mode": {
    "name": "ipython",
    "version": 3
   },
   "file_extension": ".py",
   "mimetype": "text/x-python",
   "name": "python",
   "nbconvert_exporter": "python",
   "pygments_lexer": "ipython3",
   "version": "3.9.12"
  }
 },
 "nbformat": 4,
 "nbformat_minor": 5
}
