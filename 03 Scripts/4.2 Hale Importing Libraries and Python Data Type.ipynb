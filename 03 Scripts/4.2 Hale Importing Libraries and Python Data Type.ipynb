{
 "cells": [
  {
   "cell_type": "markdown",
   "id": "48d55cf6",
   "metadata": {},
   "source": [
    "# 01. Importing Libraries \n"
   ]
  },
  {
   "cell_type": "code",
   "execution_count": 8,
   "id": "648b428f",
   "metadata": {},
   "outputs": [],
   "source": [
    "# Importing Libraries\n",
    "import pandas as pd\n",
    "import numpy as np\n",
    "import os"
   ]
  },
  {
   "cell_type": "markdown",
   "id": "3bd40f19",
   "metadata": {},
   "source": [
    "# 02. Python Data Types"
   ]
  },
  {
   "cell_type": "code",
   "execution_count": 9,
   "id": "9a57ccca",
   "metadata": {},
   "outputs": [
    {
     "data": {
      "text/plain": [
       "100"
      ]
     },
     "execution_count": 9,
     "metadata": {},
     "output_type": "execute_result"
    }
   ],
   "source": [
    "50 + 50"
   ]
  },
  {
   "cell_type": "code",
   "execution_count": 11,
   "id": "c622d4b8",
   "metadata": {},
   "outputs": [
    {
     "data": {
      "text/plain": [
       "100"
      ]
     },
     "execution_count": 11,
     "metadata": {},
     "output_type": "execute_result"
    }
   ],
   "source": [
    "x = 30\n",
    "x + 70\n"
   ]
  },
  {
   "cell_type": "code",
   "execution_count": 14,
   "id": "b407b3f7",
   "metadata": {},
   "outputs": [
    {
     "data": {
      "text/plain": [
       "100"
      ]
     },
     "execution_count": 14,
     "metadata": {},
     "output_type": "execute_result"
    }
   ],
   "source": [
    "142 - 42"
   ]
  },
  {
   "cell_type": "code",
   "execution_count": 28,
   "id": "bae049a4",
   "metadata": {},
   "outputs": [],
   "source": [
    "y = 3.16"
   ]
  },
  {
   "cell_type": "code",
   "execution_count": 29,
   "id": "957eeb5c",
   "metadata": {},
   "outputs": [
    {
     "data": {
      "text/plain": [
       "3.16"
      ]
     },
     "execution_count": 29,
     "metadata": {},
     "output_type": "execute_result"
    }
   ],
   "source": [
    "y"
   ]
  },
  {
   "cell_type": "code",
   "execution_count": 32,
   "id": "21d88d16",
   "metadata": {},
   "outputs": [
    {
     "data": {
      "text/plain": [
       "float"
      ]
     },
     "execution_count": 32,
     "metadata": {},
     "output_type": "execute_result"
    }
   ],
   "source": [
    "type(y)"
   ]
  },
  {
   "cell_type": "code",
   "execution_count": 33,
   "id": "d505e99a",
   "metadata": {},
   "outputs": [],
   "source": [
    "b = 11.29"
   ]
  },
  {
   "cell_type": "code",
   "execution_count": 34,
   "id": "46045674",
   "metadata": {},
   "outputs": [
    {
     "data": {
      "text/plain": [
       "11.29"
      ]
     },
     "execution_count": 34,
     "metadata": {},
     "output_type": "execute_result"
    }
   ],
   "source": [
    "b"
   ]
  },
  {
   "cell_type": "code",
   "execution_count": 35,
   "id": "4f2f35b5",
   "metadata": {},
   "outputs": [
    {
     "data": {
      "text/plain": [
       "float"
      ]
     },
     "execution_count": 35,
     "metadata": {},
     "output_type": "execute_result"
    }
   ],
   "source": [
    "type(b)"
   ]
  },
  {
   "cell_type": "code",
   "execution_count": 37,
   "id": "aff9f9e7",
   "metadata": {},
   "outputs": [],
   "source": [
    "j = 'Peace'"
   ]
  },
  {
   "cell_type": "code",
   "execution_count": 38,
   "id": "18476944",
   "metadata": {},
   "outputs": [
    {
     "data": {
      "text/plain": [
       "str"
      ]
     },
     "execution_count": 38,
     "metadata": {},
     "output_type": "execute_result"
    }
   ],
   "source": [
    "type(j)"
   ]
  },
  {
   "cell_type": "code",
   "execution_count": 39,
   "id": "09b727ee",
   "metadata": {},
   "outputs": [
    {
     "data": {
      "text/plain": [
       "str"
      ]
     },
     "execution_count": 39,
     "metadata": {},
     "output_type": "execute_result"
    }
   ],
   "source": [
    "type('Peace')"
   ]
  },
  {
   "cell_type": "code",
   "execution_count": 40,
   "id": "3f75d624",
   "metadata": {},
   "outputs": [
    {
     "data": {
      "text/plain": [
       "bool"
      ]
     },
     "execution_count": 40,
     "metadata": {},
     "output_type": "execute_result"
    }
   ],
   "source": [
    "type(True)"
   ]
  },
  {
   "cell_type": "code",
   "execution_count": 44,
   "id": "7516724a",
   "metadata": {},
   "outputs": [],
   "source": [
    "a = 'Peace,'"
   ]
  },
  {
   "cell_type": "code",
   "execution_count": 48,
   "id": "f237e158",
   "metadata": {},
   "outputs": [
    {
     "name": "stdout",
     "output_type": "stream",
     "text": [
      "Peace,\n"
     ]
    }
   ],
   "source": [
    "print(a)"
   ]
  },
  {
   "cell_type": "code",
   "execution_count": 49,
   "id": "ab5573cf",
   "metadata": {},
   "outputs": [],
   "source": [
    "b = 'out'"
   ]
  },
  {
   "cell_type": "code",
   "execution_count": 50,
   "id": "65fee07e",
   "metadata": {},
   "outputs": [
    {
     "name": "stdout",
     "output_type": "stream",
     "text": [
      "out\n"
     ]
    }
   ],
   "source": [
    "print(b)"
   ]
  },
  {
   "cell_type": "code",
   "execution_count": 51,
   "id": "5ebe77c4",
   "metadata": {},
   "outputs": [
    {
     "data": {
      "text/plain": [
       "'Peace,out'"
      ]
     },
     "execution_count": 51,
     "metadata": {},
     "output_type": "execute_result"
    }
   ],
   "source": [
    "a + b"
   ]
  },
  {
   "cell_type": "code",
   "execution_count": 61,
   "id": "4221cddd",
   "metadata": {},
   "outputs": [],
   "source": [
    "c = 'be '"
   ]
  },
  {
   "cell_type": "code",
   "execution_count": 62,
   "id": "fe06f5a2",
   "metadata": {},
   "outputs": [
    {
     "name": "stdout",
     "output_type": "stream",
     "text": [
      "be \n"
     ]
    }
   ],
   "source": [
    "print(c)"
   ]
  },
  {
   "cell_type": "code",
   "execution_count": 63,
   "id": "266f9d85",
   "metadata": {},
   "outputs": [],
   "source": [
    "d = 'with '"
   ]
  },
  {
   "cell_type": "code",
   "execution_count": 64,
   "id": "8b008449",
   "metadata": {},
   "outputs": [
    {
     "name": "stdout",
     "output_type": "stream",
     "text": [
      "with \n"
     ]
    }
   ],
   "source": [
    "print(d)"
   ]
  },
  {
   "cell_type": "code",
   "execution_count": 65,
   "id": "cc962e52",
   "metadata": {},
   "outputs": [],
   "source": [
    "e = 'you.'"
   ]
  },
  {
   "cell_type": "code",
   "execution_count": 68,
   "id": "f4cfdf92",
   "metadata": {},
   "outputs": [
    {
     "data": {
      "text/plain": [
       "'Peace,be with you.'"
      ]
     },
     "execution_count": 68,
     "metadata": {},
     "output_type": "execute_result"
    }
   ],
   "source": [
    "a + c + d + e"
   ]
  },
  {
   "cell_type": "code",
   "execution_count": 69,
   "id": "c0fa438b",
   "metadata": {},
   "outputs": [],
   "source": [
    "m = 'Love'"
   ]
  },
  {
   "cell_type": "code",
   "execution_count": 70,
   "id": "7f7832ce",
   "metadata": {},
   "outputs": [
    {
     "data": {
      "text/plain": [
       "'LoveLoveLoveLoveLoveLoveLoveLoveLoveLoveLoveLoveLoveLoveLoveLoveLoveLoveLoveLoveLoveLoveLoveLoveLoveLoveLoveLoveLoveLoveLoveLoveLoveLoveLoveLoveLoveLoveLoveLoveLoveLoveLoveLoveLoveLoveLoveLoveLoveLoveLoveLoveLoveLoveLoveLoveLoveLoveLoveLoveLoveLoveLoveLoveLoveLoveLoveLoveLoveLoveLoveLoveLoveLoveLoveLoveLoveLoveLoveLoveLoveLoveLoveLoveLoveLoveLoveLoveLoveLoveLoveLoveLoveLoveLoveLoveLoveLoveLoveLove'"
      ]
     },
     "execution_count": 70,
     "metadata": {},
     "output_type": "execute_result"
    }
   ],
   "source": [
    "m * 100"
   ]
  }
 ],
 "metadata": {
  "kernelspec": {
   "display_name": "Python 3 (ipykernel)",
   "language": "python",
   "name": "python3"
  },
  "language_info": {
   "codemirror_mode": {
    "name": "ipython",
    "version": 3
   },
   "file_extension": ".py",
   "mimetype": "text/x-python",
   "name": "python",
   "nbconvert_exporter": "python",
   "pygments_lexer": "ipython3",
   "version": "3.9.12"
  }
 },
 "nbformat": 4,
 "nbformat_minor": 5
}
